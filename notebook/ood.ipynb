{
 "cells": [
  {
   "cell_type": "code",
   "execution_count": 1,
   "metadata": {},
   "outputs": [],
   "source": [
    "import os\n",
    "os.chdir(\"..\")"
   ]
  },
  {
   "cell_type": "code",
   "execution_count": 2,
   "metadata": {},
   "outputs": [
    {
     "name": "stderr",
     "output_type": "stream",
     "text": [
      "2023-02-06 18:13:55.208122: I tensorflow/core/platform/cpu_feature_guard.cc:193] This TensorFlow binary is optimized with oneAPI Deep Neural Network Library (oneDNN) to use the following CPU instructions in performance-critical operations:  AVX2 FMA\n",
      "To enable them in other operations, rebuild TensorFlow with the appropriate compiler flags.\n",
      "2023-02-06 18:13:55.769815: W tensorflow/compiler/xla/stream_executor/platform/default/dso_loader.cc:64] Could not load dynamic library 'libnvinfer.so.7'; dlerror: libnvinfer.so.7: cannot open shared object file: No such file or directory\n",
      "2023-02-06 18:13:55.769862: W tensorflow/compiler/xla/stream_executor/platform/default/dso_loader.cc:64] Could not load dynamic library 'libnvinfer_plugin.so.7'; dlerror: libnvinfer_plugin.so.7: cannot open shared object file: No such file or directory\n",
      "2023-02-06 18:13:55.769866: W tensorflow/compiler/tf2tensorrt/utils/py_utils.cc:38] TF-TRT Warning: Cannot dlopen some TensorRT libraries. If you would like to use Nvidia GPU with TensorRT, please make sure the missing libraries mentioned above are installed properly.\n",
      "Global seed set to 0\n"
     ]
    },
    {
     "data": {
      "text/plain": [
       "0"
      ]
     },
     "execution_count": 2,
     "metadata": {},
     "output_type": "execute_result"
    }
   ],
   "source": [
    "import time\n",
    "import pandas as pd\n",
    "from lightning_lite.utilities.seed import seed_everything\n",
    "from shell_data.dataset.dataset import get_train_val_test_subsets\n",
    "import torch\n",
    "import os\n",
    "from shell_data.utils.config import (\n",
    "    ShELLDataSharingConfig,\n",
    "    DatasetConfig,\n",
    "    TaskModelConfig,\n",
    "    TrainingConfig,\n",
    "    ExperienceReplayConfig,\n",
    "    DataValuationConfig,\n",
    "    RouterConfig,\n",
    "    BoltzmanExplorationConfig,\n",
    ")\n",
    "from shell_data.utils.record import *\n",
    "import numpy as np\n",
    "from shell_data.shell_agent.shell_agent_classification import ShELLClassificationAgent\n",
    "from itertools import combinations\n",
    "import umap\n",
    "from copy import deepcopy\n",
    "from functools import partial\n",
    "\n",
    "\n",
    "from shell_data.utils.utils import train\n",
    "import matplotlib.pyplot as plt\n",
    "# import mplcyberpunk\n",
    "# plt.style.use(\"cyberpunk\")\n",
    "# plt.style.use('bmh')\n",
    "import seaborn as sns\n",
    "plt.style.use(\"fivethirtyeight\")\n",
    "# plt.style.use(\"xkcd\")\n",
    "sns.set_style(\"whitegrid\")\n",
    "from sklearn.metrics import confusion_matrix, ConfusionMatrixDisplay\n",
    "from sklearn.manifold import TSNE\n",
    "import random\n",
    "# from IPython.core.interactiveshell import InteractiveShell\n",
    "# InteractiveShell.ast_node_interactivity = \"all\"\n",
    "\n",
    "\n",
    "os.environ[\"CUBLAS_WORKSPACE_CONFIG\"] = \":16:8\"\n",
    "torch.use_deterministic_algorithms(True)\n",
    "\n",
    "SEED = 0\n",
    "seed_everything(SEED)"
   ]
  },
  {
   "cell_type": "code",
   "execution_count": 3,
   "metadata": {},
   "outputs": [],
   "source": [
    "from shell_data.task_model.task_model import TaskModel, SupervisedLearningTaskModel\n",
    "import torch.nn as nn"
   ]
  },
  {
   "cell_type": "code",
   "execution_count": 4,
   "metadata": {},
   "outputs": [],
   "source": [
    "num_cls_per_task = 5\n",
    "n_agents = 2\n",
    "num_task_per_life = 2\n",
    "buffer_integration_size = 50000  # sample all!\n",
    "batch_size = 32\n",
    "size = 64\n",
    "routing_method = \"random\"\n",
    "\n",
    "dataset_name = \"mnist\""
   ]
  },
  {
   "cell_type": "code",
   "execution_count": 5,
   "metadata": {},
   "outputs": [],
   "source": [
    "train_subsets, val_subsets, test_subsets = get_train_val_test_subsets(\n",
    "        dataset_name)"
   ]
  },
  {
   "cell_type": "code",
   "execution_count": 6,
   "metadata": {},
   "outputs": [],
   "source": [
    "cfg = ShELLDataSharingConfig(\n",
    "        n_agents=n_agents,\n",
    "        dataset=DatasetConfig(\n",
    "            name=dataset_name,\n",
    "            train_size=size,\n",
    "            test_size=1.0,\n",
    "            val_size=size//2,\n",
    "            num_task_per_life=num_task_per_life,\n",
    "            num_cls_per_task=num_cls_per_task,\n",
    "        ),\n",
    "        task_model=TaskModelConfig(\n",
    "            name=dataset_name,\n",
    "        ),\n",
    "        training=TrainingConfig(\n",
    "            n_epochs=50,\n",
    "            batch_size=batch_size,\n",
    "            patience=1000,\n",
    "            val_every_n_epoch=1,\n",
    "        ),\n",
    "        experience_replay=ExperienceReplayConfig(\n",
    "            buffer_size=buffer_integration_size,\n",
    "        ),\n",
    "          router=RouterConfig(\n",
    "            strategy=routing_method,  # control how the sender decides which data point to send\n",
    "            num_batches=1,\n",
    "            estimator_task_model=TaskModelConfig(\n",
    "                name=dataset_name,\n",
    "            ),\n",
    "            n_heads=n_agents,\n",
    "          ),\n",
    "    )"
   ]
  },
  {
   "cell_type": "code",
   "execution_count": 7,
   "metadata": {},
   "outputs": [
    {
     "name": "stdout",
     "output_type": "stream",
     "text": [
      "train_size: 64, num_cls_per_task: 5\n"
     ]
    }
   ],
   "source": [
    "receiver = ShELLClassificationAgent(\n",
    "        train_subsets, val_subsets, test_subsets, cfg)"
   ]
  },
  {
   "cell_type": "code",
   "execution_count": 8,
   "metadata": {},
   "outputs": [
    {
     "name": "stdout",
     "output_type": "stream",
     "text": [
      "train_size: 64, num_cls_per_task: 5\n"
     ]
    }
   ],
   "source": [
    "sender_cfg = deepcopy(cfg)\n",
    "# sender_cfg.dataset.train_size = 1.0 # all of the data for testing purposes...\n",
    "sender = ShELLClassificationAgent(\n",
    "        train_subsets, val_subsets, test_subsets, sender_cfg)"
   ]
  },
  {
   "cell_type": "code",
   "execution_count": 9,
   "metadata": {},
   "outputs": [],
   "source": [
    "receiver.ll_dataset.perm = torch.tensor([0, 1, 3, 4, 9,     2, 5, 6, 7, 8])\n",
    "sender.ll_dataset.perm = torch.tensor([0, 4, 9, 2, 5,       1, 3, 6, 7, 8])\n",
    "\n",
    "# intersection be 0, 4, 9 (and 2 out of distribution!)\n",
    "\n",
    "receiver.init_model_router()\n",
    "sender.init_model_router()"
   ]
  },
  {
   "cell_type": "code",
   "execution_count": 10,
   "metadata": {},
   "outputs": [
    {
     "name": "stdout",
     "output_type": "stream",
     "text": [
      "Going to load...\n"
     ]
    }
   ],
   "source": [
    "if os.path.exists(\"./results/ood.pt\"):\n",
    "    print(\"Going to load...\")\n",
    "    receiver.load_model(\"./results/ood.pt\")\n",
    "    receiver.load_buffer(\"./results/ood_buffer_0\")\n",
    "else:\n",
    "    print(\"Going to train...\")\n",
    "    receiver.learn_task(0, metric=\"val_acc\", record_name=\"./results/ood.csv\")\n",
    "    receiver.save_model(\"./results/ood.pt\")\n",
    "    receiver.save_buffer(\"./results/ood_buffer_0\")"
   ]
  },
  {
   "cell_type": "code",
   "execution_count": 11,
   "metadata": {},
   "outputs": [],
   "source": [
    "snapshot_conf_mat(receiver, ll_time=0, record_name=\"./results/ood\")"
   ]
  },
  {
   "cell_type": "code",
   "execution_count": 12,
   "metadata": {},
   "outputs": [],
   "source": [
    "train, test, val = load_snapshot_conf_mats(\"./results/ood\", ll_time=0)"
   ]
  },
  {
   "cell_type": "code",
   "execution_count": 13,
   "metadata": {},
   "outputs": [
    {
     "name": "stderr",
     "output_type": "stream",
     "text": [
      "/home/vlongle/code/shell-refactor-data/shell-data/shell_data/utils/record.py:65: RuntimeWarning: invalid value encountered in divide\n",
      "  return np.diag(conf_mat) / conf_mat.sum(axis=1)\n"
     ]
    },
    {
     "data": {
      "text/html": [
       "<div>\n",
       "<style scoped>\n",
       "    .dataframe tbody tr th:only-of-type {\n",
       "        vertical-align: middle;\n",
       "    }\n",
       "\n",
       "    .dataframe tbody tr th {\n",
       "        vertical-align: top;\n",
       "    }\n",
       "\n",
       "    .dataframe thead th {\n",
       "        text-align: right;\n",
       "    }\n",
       "</style>\n",
       "<table border=\"1\" class=\"dataframe\">\n",
       "  <thead>\n",
       "    <tr style=\"text-align: right;\">\n",
       "      <th></th>\n",
       "      <th>name</th>\n",
       "      <th>acc</th>\n",
       "      <th>per_class_acc_0</th>\n",
       "      <th>per_class_acc_1</th>\n",
       "      <th>per_class_acc_2</th>\n",
       "      <th>per_class_acc_3</th>\n",
       "      <th>per_class_acc_4</th>\n",
       "      <th>per_class_acc_5</th>\n",
       "      <th>per_class_acc_6</th>\n",
       "      <th>per_class_acc_7</th>\n",
       "      <th>per_class_acc_8</th>\n",
       "      <th>per_class_acc_9</th>\n",
       "    </tr>\n",
       "  </thead>\n",
       "  <tbody>\n",
       "    <tr>\n",
       "      <th>0</th>\n",
       "      <td>train</td>\n",
       "      <td>0.956250</td>\n",
       "      <td>0.984375</td>\n",
       "      <td>0.968750</td>\n",
       "      <td>NaN</td>\n",
       "      <td>0.968750</td>\n",
       "      <td>0.953125</td>\n",
       "      <td>NaN</td>\n",
       "      <td>NaN</td>\n",
       "      <td>NaN</td>\n",
       "      <td>NaN</td>\n",
       "      <td>0.906250</td>\n",
       "    </tr>\n",
       "    <tr>\n",
       "      <th>1</th>\n",
       "      <td>test</td>\n",
       "      <td>0.936278</td>\n",
       "      <td>0.970408</td>\n",
       "      <td>0.955947</td>\n",
       "      <td>NaN</td>\n",
       "      <td>0.936634</td>\n",
       "      <td>0.942974</td>\n",
       "      <td>NaN</td>\n",
       "      <td>NaN</td>\n",
       "      <td>NaN</td>\n",
       "      <td>NaN</td>\n",
       "      <td>0.874133</td>\n",
       "    </tr>\n",
       "    <tr>\n",
       "      <th>2</th>\n",
       "      <td>val</td>\n",
       "      <td>0.931250</td>\n",
       "      <td>1.000000</td>\n",
       "      <td>0.906250</td>\n",
       "      <td>NaN</td>\n",
       "      <td>0.875000</td>\n",
       "      <td>0.968750</td>\n",
       "      <td>NaN</td>\n",
       "      <td>NaN</td>\n",
       "      <td>NaN</td>\n",
       "      <td>NaN</td>\n",
       "      <td>0.906250</td>\n",
       "    </tr>\n",
       "  </tbody>\n",
       "</table>\n",
       "</div>"
      ],
      "text/plain": [
       "    name       acc  per_class_acc_0  per_class_acc_1  per_class_acc_2  \\\n",
       "0  train  0.956250         0.984375         0.968750              NaN   \n",
       "1   test  0.936278         0.970408         0.955947              NaN   \n",
       "2    val  0.931250         1.000000         0.906250              NaN   \n",
       "\n",
       "   per_class_acc_3  per_class_acc_4  per_class_acc_5  per_class_acc_6  \\\n",
       "0         0.968750         0.953125              NaN              NaN   \n",
       "1         0.936634         0.942974              NaN              NaN   \n",
       "2         0.875000         0.968750              NaN              NaN   \n",
       "\n",
       "   per_class_acc_7  per_class_acc_8  per_class_acc_9  \n",
       "0              NaN              NaN         0.906250  \n",
       "1              NaN              NaN         0.874133  \n",
       "2              NaN              NaN         0.906250  "
      ]
     },
     "execution_count": 13,
     "metadata": {},
     "output_type": "execute_result"
    }
   ],
   "source": [
    "df1, _, _ = summarize_confs([train, test, val], [\"train\", \"test\", \"val\"])\n",
    "df1"
   ]
  },
  {
   "cell_type": "code",
   "execution_count": 14,
   "metadata": {},
   "outputs": [],
   "source": [
    "receiver_data = receiver.ll_dataset.get_train_dataset(0, kind=\"all\")\n",
    "sender_data = sender.ll_dataset.get_train_dataset(0, kind=\"all\")"
   ]
  },
  {
   "cell_type": "code",
   "execution_count": 15,
   "metadata": {},
   "outputs": [],
   "source": [
    "X_receiver = torch.stack([x for x, _ in receiver_data])\n",
    "X_sender = torch.stack([x for x, _ in sender_data])\n",
    "\n",
    "y_sender = torch.tensor([y for _, y in sender_data])\n",
    "y_receiver = torch.tensor([y for _, y in receiver_data])"
   ]
  },
  {
   "cell_type": "code",
   "execution_count": 16,
   "metadata": {},
   "outputs": [
    {
     "data": {
      "text/plain": [
       "((tensor([0, 2, 4, 5, 9]), tensor([64, 64, 64, 64, 64])),\n",
       " (tensor([0, 1, 3, 4, 9]), tensor([64, 64, 64, 64, 64])))"
      ]
     },
     "execution_count": 16,
     "metadata": {},
     "output_type": "execute_result"
    }
   ],
   "source": [
    "torch.unique(y_sender, return_counts=True), torch.unique(y_receiver, return_counts=True)"
   ]
  },
  {
   "attachments": {},
   "cell_type": "markdown",
   "metadata": {},
   "source": [
    "## OOD Detector"
   ]
  },
  {
   "cell_type": "code",
   "execution_count": 17,
   "metadata": {},
   "outputs": [],
   "source": [
    "from pytorch_ood.detector import (\n",
    "     ODIN,\n",
    "     EnergyBased,\n",
    "     KLMatching,\n",
    "     Mahalanobis,\n",
    "     MaxLogit,\n",
    "     MaxSoftmax,\n",
    "     ViM,\n",
    "     MCD,\n",
    " )"
   ]
  },
  {
   "attachments": {},
   "cell_type": "markdown",
   "metadata": {},
   "source": [
    "\n",
    "Detectors that don't require \"fit\" on the dataset and just hail Mary.\n",
    "\n",
    "- MaxLogit: bad\n",
    "- MaxSoftmax: ok. (tensor([0, 2, 4, 5, 9]), tensor([ 4, 20,  8, 22, 10]))\n",
    "- MCD: ok. (tensor([0, 2, 4, 5, 9]), tensor([ 4, 20,  8, 22, 10]))\n",
    "\n",
    "Detectors that require \"fit\" but only need IN samples (ignore OOD samples).\n",
    "- KLMatching: (tensor([0, 2, 4, 5, 9]), tensor([ 6, 31,  6, 32,  5]))\n",
    "\n"
   ]
  },
  {
   "cell_type": "code",
   "execution_count": 18,
   "metadata": {},
   "outputs": [
    {
     "data": {
      "text/plain": [
       "Sequential(\n",
       "  (0): Conv2d(1, 16, kernel_size=(3, 3), stride=(1, 1), padding=(1, 1))\n",
       "  (1): ReLU()\n",
       "  (2): MaxPool2d(kernel_size=2, stride=2, padding=0, dilation=1, ceil_mode=False)\n",
       "  (3): Conv2d(16, 4, kernel_size=(3, 3), stride=(1, 1), padding=(1, 1))\n",
       "  (4): ReLU()\n",
       "  (5): MaxPool2d(kernel_size=2, stride=2, padding=0, dilation=1, ceil_mode=False)\n",
       ")"
      ]
     },
     "execution_count": 18,
     "metadata": {},
     "output_type": "execute_result"
    }
   ],
   "source": [
    "receiver.model.net.embedding"
   ]
  },
  {
   "cell_type": "code",
   "execution_count": 19,
   "metadata": {},
   "outputs": [],
   "source": [
    "receiver.model.net.to(\"cpu\")\n",
    "# detector = Mahalanobis(receiver.model.net.to(\"cpu\"))\n",
    "detector = Mahalanobis(receiver.model.net.features)"
   ]
  },
  {
   "cell_type": "code",
   "execution_count": 20,
   "metadata": {},
   "outputs": [],
   "source": [
    "# remap receiver_data so that y classes are 0, 1, 2, 3, 4\n",
    "y_receiver_remap = torch.zeros_like(y_receiver)\n",
    "for i, y in enumerate(torch.unique(y_receiver)):\n",
    "    y_receiver_remap[y_receiver == y] = i\n",
    "\n",
    "receiver_data_remapped = torch.utils.data.TensorDataset(X_receiver, y_receiver_remap)"
   ]
  },
  {
   "cell_type": "code",
   "execution_count": 21,
   "metadata": {},
   "outputs": [
    {
     "name": "stdout",
     "output_type": "stream",
     "text": [
      "x.shape:  torch.Size([32, 10])\n",
      "x.shape:  torch.Size([32, 10])\n",
      "x.shape:  torch.Size([32, 10])\n",
      "x.shape:  torch.Size([32, 10])\n",
      "x.shape:  torch.Size([32, 10])\n",
      "x.shape:  torch.Size([32, 10])\n",
      "x.shape:  torch.Size([32, 10])\n",
      "x.shape:  torch.Size([32, 10])\n",
      "x.shape:  torch.Size([32, 10])\n",
      "x.shape:  torch.Size([32, 10])\n"
     ]
    },
    {
     "data": {
      "text/plain": [
       "<pytorch_ood.detector.mahalanobis.Mahalanobis at 0x7fcff12ae2b0>"
      ]
     },
     "execution_count": 21,
     "metadata": {},
     "output_type": "execute_result"
    }
   ],
   "source": [
    "receiver_dataloader = torch.utils.data.DataLoader(\n",
    "    receiver_data_remapped,\n",
    "    batch_size=32,\n",
    "    shuffle=False,\n",
    "    num_workers=0,\n",
    "    pin_memory=True,\n",
    ")\n",
    "detector.fit(receiver_dataloader, device=\"cpu\")"
   ]
  },
  {
   "cell_type": "code",
   "execution_count": 22,
   "metadata": {},
   "outputs": [
    {
     "name": "stdout",
     "output_type": "stream",
     "text": [
      "x.shape:  torch.Size([320, 10])\n",
      "x.shape:  torch.Size([320, 10])\n"
     ]
    }
   ],
   "source": [
    "# training\n",
    "with torch.no_grad():\n",
    "    train_scores = detector(X_receiver)"
   ]
  },
  {
   "attachments": {},
   "cell_type": "markdown",
   "metadata": {},
   "source": [
    "TODO: actually use some thresholding for outlier detection (higher outlier scores is better so \n",
    "the std stuff might not be the right way bc distribution isn't symmetric)"
   ]
  },
  {
   "cell_type": "code",
   "execution_count": 23,
   "metadata": {},
   "outputs": [
    {
     "name": "stdout",
     "output_type": "stream",
     "text": [
      "mean tensor(0.0148)\n",
      "upper bound tensor(0.0253)\n"
     ]
    },
    {
     "data": {
      "image/png": "[encoded data removed]",
      "text/plain": [
       "<Figure size 640x480 with 1 Axes>"
      ]
     },
     "metadata": {},
     "output_type": "display_data"
    }
   ],
   "source": [
    "# plot the scores\n",
    "# higher values indicate more likely to be OOD\n",
    "m = torch.mean(train_scores.cpu())\n",
    "print(\"mean\", m)\n",
    "plt.hist(train_scores.cpu().numpy(), bins=100);\n",
    "\n",
    "k = 1\n",
    "upper_bound = m + k * torch.std(train_scores.cpu())\n",
    "print(\"upper bound\", upper_bound)\n",
    "plt.axvline(m, color=\"green\", label=\"mean\")\n",
    "plt.axvline(upper_bound, color=\"red\", label=\"upper bound\");"
   ]
  },
  {
   "cell_type": "code",
   "execution_count": 24,
   "metadata": {},
   "outputs": [
    {
     "name": "stdout",
     "output_type": "stream",
     "text": [
      "x.shape:  torch.Size([320, 10])\n",
      "x.shape:  torch.Size([320, 10])\n"
     ]
    }
   ],
   "source": [
    "# testing\n",
    "with torch.no_grad():\n",
    "    test_scores = detector(X_sender)"
   ]
  },
  {
   "cell_type": "code",
   "execution_count": 25,
   "metadata": {},
   "outputs": [
    {
     "name": "stdout",
     "output_type": "stream",
     "text": [
      "mean: tensor(0.0239)\n",
      "upper bound: tensor(0.0253)\n"
     ]
    },
    {
     "data": {
      "image/png": "[encoded data removed]",
      "text/plain": [
       "<Figure size 640x480 with 1 Axes>"
      ]
     },
     "metadata": {},
     "output_type": "display_data"
    }
   ],
   "source": [
    "# plot the scores\n",
    "# higher values indicate more likely to be OOD\n",
    "print(\"mean:\", torch.mean(test_scores.cpu()))\n",
    "print(\"upper bound:\", upper_bound)\n",
    "plt.hist(test_scores.cpu().numpy(), bins=100);\n",
    "plt.axvline(m, color=\"green\", label=\"mean\")\n",
    "plt.axvline(upper_bound, color=\"red\", label=\"upper bound\");"
   ]
  },
  {
   "cell_type": "code",
   "execution_count": 26,
   "metadata": {},
   "outputs": [
    {
     "name": "stdout",
     "output_type": "stream",
     "text": [
      "Number of outliers: tensor(125)\n",
      "Outlier labels: (tensor([0, 2, 4, 5, 9]), tensor([11, 50, 11, 46,  7]))\n"
     ]
    }
   ],
   "source": [
    "outlier_idx = (test_scores > upper_bound).cpu()\n",
    "print(\"Number of outliers:\", outlier_idx.sum())\n",
    "y_outlier = y_sender[outlier_idx]\n",
    "print(\"Outlier labels:\", torch.unique(y_outlier, return_counts=True))"
   ]
  },
  {
   "cell_type": "code",
   "execution_count": 27,
   "metadata": {},
   "outputs": [
    {
     "ename": "RuntimeError",
     "evalue": "The size of tensor a (125) must match the size of tensor b (320) at non-singleton dimension 0",
     "output_type": "error",
     "traceback": [
      "\u001b[0;31m---------------------------------------------------------------------------\u001b[0m",
      "\u001b[0;31mRuntimeError\u001b[0m                              Traceback (most recent call last)",
      "Cell \u001b[0;32mIn [27], line 6\u001b[0m\n\u001b[1;32m      4\u001b[0m \u001b[39mfor\u001b[39;00m i, \u001b[39mcls\u001b[39m \u001b[39min\u001b[39;00m \u001b[39menumerate\u001b[39m(outlier_cls):\n\u001b[1;32m      5\u001b[0m     \u001b[39mfor\u001b[39;00m j, \u001b[39mcls\u001b[39m \u001b[39min\u001b[39;00m \u001b[39menumerate\u001b[39m(outlier_cls):\n\u001b[0;32m----> 6\u001b[0m         conf_mat[i, j] \u001b[39m=\u001b[39m torch\u001b[39m.\u001b[39msum((y_outlier \u001b[39m==\u001b[39;49m \u001b[39mcls\u001b[39;49m) \u001b[39m*\u001b[39;49m (y_sender \u001b[39m==\u001b[39;49m \u001b[39mcls\u001b[39;49m))\n",
      "\u001b[0;31mRuntimeError\u001b[0m: The size of tensor a (125) must match the size of tensor b (320) at non-singleton dimension 0"
     ]
    }
   ],
   "source": [
    "outlier_cls = [2, 5]\n",
    "# compute the conf matrix, f1 score and shit\n",
    "conf_mat = torch.zeros((len(outlier_cls), len(outlier_cls)))\n",
    "for i, cls in enumerate(outlier_cls):\n",
    "    for j, cls in enumerate(outlier_cls):\n",
    "        conf_mat[i, j] = torch.sum((y_outlier == cls) * (y_sender == cls))"
   ]
  },
  {
   "cell_type": "code",
   "execution_count": null,
   "metadata": {},
   "outputs": [],
   "source": []
  }
 ],
 "metadata": {
  "kernelspec": {
   "display_name": "data-sharing",
   "language": "python",
   "name": "python3"
  },
  "language_info": {
   "codemirror_mode": {
    "name": "ipython",
    "version": 3
   },
   "file_extension": ".py",
   "mimetype": "text/x-python",
   "name": "python",
   "nbconvert_exporter": "python",
   "pygments_lexer": "ipython3",
   "version": "3.9.15"
  },
  "orig_nbformat": 4,
  "vscode": {
   "interpreter": {
    "hash": "1ce37e01e4e25dad4acdf5a835a9fd4c67494d5c7616f20984ba493f320ae940"
   }
  }
 },
 "nbformat": 4,
 "nbformat_minor": 2
}
