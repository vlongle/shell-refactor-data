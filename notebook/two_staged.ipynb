{
 "cells": [
  {
   "cell_type": "code",
   "execution_count": 4,
   "metadata": {},
   "outputs": [],
   "source": [
    "import os\n",
    "os.chdir(\"..\")"
   ]
  },
  {
   "cell_type": "code",
   "execution_count": 5,
   "metadata": {},
   "outputs": [
    {
     "data": {
      "text/plain": [
       "<contextlib.ExitStack at 0x7f314844beb0>"
      ]
     },
     "execution_count": 5,
     "metadata": {},
     "output_type": "execute_result"
    }
   ],
   "source": [
    "import pandas as pd\n",
    "import numpy as np\n",
    "from sklearn.metrics import confusion_matrix, ConfusionMatrixDisplay\n",
    "import matplotlib.pyplot as plt\n",
    "# import mplcyberpunk\n",
    "# plt.style.use(\"cyberpunk\")\n",
    "# plt.style.use('bmh')\n",
    "import seaborn as sns\n",
    "plt.style.use(\"fivethirtyeight\")\n",
    "sns.set_style(\"whitegrid\")\n",
    "import random\n",
    "plt.ioff()"
   ]
  },
  {
   "cell_type": "code",
   "execution_count": 6,
   "metadata": {},
   "outputs": [
    {
     "ename": "FileNotFoundError",
     "evalue": "[Errno 2] No such file or directory: 'record_0.csv'",
     "output_type": "error",
     "traceback": [
      "\u001b[0;31m---------------------------------------------------------------------------\u001b[0m",
      "\u001b[0;31mFileNotFoundError\u001b[0m                         Traceback (most recent call last)",
      "Cell \u001b[0;32mIn [6], line 1\u001b[0m\n\u001b[0;32m----> 1\u001b[0m df \u001b[39m=\u001b[39m pd\u001b[39m.\u001b[39;49mread_csv(\u001b[39mf\u001b[39;49m\u001b[39m\"\u001b[39;49m\u001b[39mrecord_0.csv\u001b[39;49m\u001b[39m\"\u001b[39;49m)\n\u001b[1;32m      2\u001b[0m df\n",
      "File \u001b[0;32m~/miniconda3/envs/data-sharing/lib/python3.9/site-packages/pandas/util/_decorators.py:211\u001b[0m, in \u001b[0;36mdeprecate_kwarg.<locals>._deprecate_kwarg.<locals>.wrapper\u001b[0;34m(*args, **kwargs)\u001b[0m\n\u001b[1;32m    209\u001b[0m     \u001b[39melse\u001b[39;00m:\n\u001b[1;32m    210\u001b[0m         kwargs[new_arg_name] \u001b[39m=\u001b[39m new_arg_value\n\u001b[0;32m--> 211\u001b[0m \u001b[39mreturn\u001b[39;00m func(\u001b[39m*\u001b[39;49margs, \u001b[39m*\u001b[39;49m\u001b[39m*\u001b[39;49mkwargs)\n",
      "File \u001b[0;32m~/miniconda3/envs/data-sharing/lib/python3.9/site-packages/pandas/util/_decorators.py:331\u001b[0m, in \u001b[0;36mdeprecate_nonkeyword_arguments.<locals>.decorate.<locals>.wrapper\u001b[0;34m(*args, **kwargs)\u001b[0m\n\u001b[1;32m    325\u001b[0m \u001b[39mif\u001b[39;00m \u001b[39mlen\u001b[39m(args) \u001b[39m>\u001b[39m num_allow_args:\n\u001b[1;32m    326\u001b[0m     warnings\u001b[39m.\u001b[39mwarn(\n\u001b[1;32m    327\u001b[0m         msg\u001b[39m.\u001b[39mformat(arguments\u001b[39m=\u001b[39m_format_argument_list(allow_args)),\n\u001b[1;32m    328\u001b[0m         \u001b[39mFutureWarning\u001b[39;00m,\n\u001b[1;32m    329\u001b[0m         stacklevel\u001b[39m=\u001b[39mfind_stack_level(),\n\u001b[1;32m    330\u001b[0m     )\n\u001b[0;32m--> 331\u001b[0m \u001b[39mreturn\u001b[39;00m func(\u001b[39m*\u001b[39;49margs, \u001b[39m*\u001b[39;49m\u001b[39m*\u001b[39;49mkwargs)\n",
      "File \u001b[0;32m~/miniconda3/envs/data-sharing/lib/python3.9/site-packages/pandas/io/parsers/readers.py:950\u001b[0m, in \u001b[0;36mread_csv\u001b[0;34m(filepath_or_buffer, sep, delimiter, header, names, index_col, usecols, squeeze, prefix, mangle_dupe_cols, dtype, engine, converters, true_values, false_values, skipinitialspace, skiprows, skipfooter, nrows, na_values, keep_default_na, na_filter, verbose, skip_blank_lines, parse_dates, infer_datetime_format, keep_date_col, date_parser, dayfirst, cache_dates, iterator, chunksize, compression, thousands, decimal, lineterminator, quotechar, quoting, doublequote, escapechar, comment, encoding, encoding_errors, dialect, error_bad_lines, warn_bad_lines, on_bad_lines, delim_whitespace, low_memory, memory_map, float_precision, storage_options)\u001b[0m\n\u001b[1;32m    935\u001b[0m kwds_defaults \u001b[39m=\u001b[39m _refine_defaults_read(\n\u001b[1;32m    936\u001b[0m     dialect,\n\u001b[1;32m    937\u001b[0m     delimiter,\n\u001b[0;32m   (...)\u001b[0m\n\u001b[1;32m    946\u001b[0m     defaults\u001b[39m=\u001b[39m{\u001b[39m\"\u001b[39m\u001b[39mdelimiter\u001b[39m\u001b[39m\"\u001b[39m: \u001b[39m\"\u001b[39m\u001b[39m,\u001b[39m\u001b[39m\"\u001b[39m},\n\u001b[1;32m    947\u001b[0m )\n\u001b[1;32m    948\u001b[0m kwds\u001b[39m.\u001b[39mupdate(kwds_defaults)\n\u001b[0;32m--> 950\u001b[0m \u001b[39mreturn\u001b[39;00m _read(filepath_or_buffer, kwds)\n",
      "File \u001b[0;32m~/miniconda3/envs/data-sharing/lib/python3.9/site-packages/pandas/io/parsers/readers.py:605\u001b[0m, in \u001b[0;36m_read\u001b[0;34m(filepath_or_buffer, kwds)\u001b[0m\n\u001b[1;32m    602\u001b[0m _validate_names(kwds\u001b[39m.\u001b[39mget(\u001b[39m\"\u001b[39m\u001b[39mnames\u001b[39m\u001b[39m\"\u001b[39m, \u001b[39mNone\u001b[39;00m))\n\u001b[1;32m    604\u001b[0m \u001b[39m# Create the parser.\u001b[39;00m\n\u001b[0;32m--> 605\u001b[0m parser \u001b[39m=\u001b[39m TextFileReader(filepath_or_buffer, \u001b[39m*\u001b[39;49m\u001b[39m*\u001b[39;49mkwds)\n\u001b[1;32m    607\u001b[0m \u001b[39mif\u001b[39;00m chunksize \u001b[39mor\u001b[39;00m iterator:\n\u001b[1;32m    608\u001b[0m     \u001b[39mreturn\u001b[39;00m parser\n",
      "File \u001b[0;32m~/miniconda3/envs/data-sharing/lib/python3.9/site-packages/pandas/io/parsers/readers.py:1442\u001b[0m, in \u001b[0;36mTextFileReader.__init__\u001b[0;34m(self, f, engine, **kwds)\u001b[0m\n\u001b[1;32m   1439\u001b[0m     \u001b[39mself\u001b[39m\u001b[39m.\u001b[39moptions[\u001b[39m\"\u001b[39m\u001b[39mhas_index_names\u001b[39m\u001b[39m\"\u001b[39m] \u001b[39m=\u001b[39m kwds[\u001b[39m\"\u001b[39m\u001b[39mhas_index_names\u001b[39m\u001b[39m\"\u001b[39m]\n\u001b[1;32m   1441\u001b[0m \u001b[39mself\u001b[39m\u001b[39m.\u001b[39mhandles: IOHandles \u001b[39m|\u001b[39m \u001b[39mNone\u001b[39;00m \u001b[39m=\u001b[39m \u001b[39mNone\u001b[39;00m\n\u001b[0;32m-> 1442\u001b[0m \u001b[39mself\u001b[39m\u001b[39m.\u001b[39m_engine \u001b[39m=\u001b[39m \u001b[39mself\u001b[39;49m\u001b[39m.\u001b[39;49m_make_engine(f, \u001b[39mself\u001b[39;49m\u001b[39m.\u001b[39;49mengine)\n",
      "File \u001b[0;32m~/miniconda3/envs/data-sharing/lib/python3.9/site-packages/pandas/io/parsers/readers.py:1735\u001b[0m, in \u001b[0;36mTextFileReader._make_engine\u001b[0;34m(self, f, engine)\u001b[0m\n\u001b[1;32m   1733\u001b[0m     \u001b[39mif\u001b[39;00m \u001b[39m\"\u001b[39m\u001b[39mb\u001b[39m\u001b[39m\"\u001b[39m \u001b[39mnot\u001b[39;00m \u001b[39min\u001b[39;00m mode:\n\u001b[1;32m   1734\u001b[0m         mode \u001b[39m+\u001b[39m\u001b[39m=\u001b[39m \u001b[39m\"\u001b[39m\u001b[39mb\u001b[39m\u001b[39m\"\u001b[39m\n\u001b[0;32m-> 1735\u001b[0m \u001b[39mself\u001b[39m\u001b[39m.\u001b[39mhandles \u001b[39m=\u001b[39m get_handle(\n\u001b[1;32m   1736\u001b[0m     f,\n\u001b[1;32m   1737\u001b[0m     mode,\n\u001b[1;32m   1738\u001b[0m     encoding\u001b[39m=\u001b[39;49m\u001b[39mself\u001b[39;49m\u001b[39m.\u001b[39;49moptions\u001b[39m.\u001b[39;49mget(\u001b[39m\"\u001b[39;49m\u001b[39mencoding\u001b[39;49m\u001b[39m\"\u001b[39;49m, \u001b[39mNone\u001b[39;49;00m),\n\u001b[1;32m   1739\u001b[0m     compression\u001b[39m=\u001b[39;49m\u001b[39mself\u001b[39;49m\u001b[39m.\u001b[39;49moptions\u001b[39m.\u001b[39;49mget(\u001b[39m\"\u001b[39;49m\u001b[39mcompression\u001b[39;49m\u001b[39m\"\u001b[39;49m, \u001b[39mNone\u001b[39;49;00m),\n\u001b[1;32m   1740\u001b[0m     memory_map\u001b[39m=\u001b[39;49m\u001b[39mself\u001b[39;49m\u001b[39m.\u001b[39;49moptions\u001b[39m.\u001b[39;49mget(\u001b[39m\"\u001b[39;49m\u001b[39mmemory_map\u001b[39;49m\u001b[39m\"\u001b[39;49m, \u001b[39mFalse\u001b[39;49;00m),\n\u001b[1;32m   1741\u001b[0m     is_text\u001b[39m=\u001b[39;49mis_text,\n\u001b[1;32m   1742\u001b[0m     errors\u001b[39m=\u001b[39;49m\u001b[39mself\u001b[39;49m\u001b[39m.\u001b[39;49moptions\u001b[39m.\u001b[39;49mget(\u001b[39m\"\u001b[39;49m\u001b[39mencoding_errors\u001b[39;49m\u001b[39m\"\u001b[39;49m, \u001b[39m\"\u001b[39;49m\u001b[39mstrict\u001b[39;49m\u001b[39m\"\u001b[39;49m),\n\u001b[1;32m   1743\u001b[0m     storage_options\u001b[39m=\u001b[39;49m\u001b[39mself\u001b[39;49m\u001b[39m.\u001b[39;49moptions\u001b[39m.\u001b[39;49mget(\u001b[39m\"\u001b[39;49m\u001b[39mstorage_options\u001b[39;49m\u001b[39m\"\u001b[39;49m, \u001b[39mNone\u001b[39;49;00m),\n\u001b[1;32m   1744\u001b[0m )\n\u001b[1;32m   1745\u001b[0m \u001b[39massert\u001b[39;00m \u001b[39mself\u001b[39m\u001b[39m.\u001b[39mhandles \u001b[39mis\u001b[39;00m \u001b[39mnot\u001b[39;00m \u001b[39mNone\u001b[39;00m\n\u001b[1;32m   1746\u001b[0m f \u001b[39m=\u001b[39m \u001b[39mself\u001b[39m\u001b[39m.\u001b[39mhandles\u001b[39m.\u001b[39mhandle\n",
      "File \u001b[0;32m~/miniconda3/envs/data-sharing/lib/python3.9/site-packages/pandas/io/common.py:856\u001b[0m, in \u001b[0;36mget_handle\u001b[0;34m(path_or_buf, mode, encoding, compression, memory_map, is_text, errors, storage_options)\u001b[0m\n\u001b[1;32m    851\u001b[0m \u001b[39melif\u001b[39;00m \u001b[39misinstance\u001b[39m(handle, \u001b[39mstr\u001b[39m):\n\u001b[1;32m    852\u001b[0m     \u001b[39m# Check whether the filename is to be opened in binary mode.\u001b[39;00m\n\u001b[1;32m    853\u001b[0m     \u001b[39m# Binary mode does not support 'encoding' and 'newline'.\u001b[39;00m\n\u001b[1;32m    854\u001b[0m     \u001b[39mif\u001b[39;00m ioargs\u001b[39m.\u001b[39mencoding \u001b[39mand\u001b[39;00m \u001b[39m\"\u001b[39m\u001b[39mb\u001b[39m\u001b[39m\"\u001b[39m \u001b[39mnot\u001b[39;00m \u001b[39min\u001b[39;00m ioargs\u001b[39m.\u001b[39mmode:\n\u001b[1;32m    855\u001b[0m         \u001b[39m# Encoding\u001b[39;00m\n\u001b[0;32m--> 856\u001b[0m         handle \u001b[39m=\u001b[39m \u001b[39mopen\u001b[39;49m(\n\u001b[1;32m    857\u001b[0m             handle,\n\u001b[1;32m    858\u001b[0m             ioargs\u001b[39m.\u001b[39;49mmode,\n\u001b[1;32m    859\u001b[0m             encoding\u001b[39m=\u001b[39;49mioargs\u001b[39m.\u001b[39;49mencoding,\n\u001b[1;32m    860\u001b[0m             errors\u001b[39m=\u001b[39;49merrors,\n\u001b[1;32m    861\u001b[0m             newline\u001b[39m=\u001b[39;49m\u001b[39m\"\u001b[39;49m\u001b[39m\"\u001b[39;49m,\n\u001b[1;32m    862\u001b[0m         )\n\u001b[1;32m    863\u001b[0m     \u001b[39melse\u001b[39;00m:\n\u001b[1;32m    864\u001b[0m         \u001b[39m# Binary mode\u001b[39;00m\n\u001b[1;32m    865\u001b[0m         handle \u001b[39m=\u001b[39m \u001b[39mopen\u001b[39m(handle, ioargs\u001b[39m.\u001b[39mmode)\n",
      "\u001b[0;31mFileNotFoundError\u001b[0m: [Errno 2] No such file or directory: 'record_0.csv'"
     ]
    }
   ],
   "source": [
    "df = pd.read_csv(f\"record_0.csv\")\n",
    "df"
   ]
  },
  {
   "cell_type": "code",
   "execution_count": 7,
   "metadata": {},
   "outputs": [
    {
     "name": "stdout",
     "output_type": "stream",
     "text": [
      "final val acc: 0.9453125 best val acc: 0.9453125\n",
      "final test acc: 0.9408632286995516 best test acc: 0.9417040358744396\n"
     ]
    },
    {
     "data": {
      "image/png": "[encoded data removed]",
      "text/plain": [
       "<Figure size 640x480 with 1 Axes>"
      ]
     },
     "metadata": {},
     "output_type": "display_data"
    }
   ],
   "source": [
    "df.plot(x=\"epoch\", y=[\"train_acc\", \"val_acc\", \"test_acc\"]);\n",
    "print(f\"final val acc: {df['val_acc'].iloc[-1]} best val acc: {df['val_acc'].max()}\")\n",
    "print(f\"final test acc: {df['test_acc'].iloc[-1]} best test acc: {df['test_acc'].max()}\")"
   ]
  },
  {
   "cell_type": "code",
   "execution_count": null,
   "metadata": {},
   "outputs": [],
   "source": [
    "df = pd.read_csv(f\"record_cls_eval_0_class_0.csv\")\n",
    "df.plot(x=\"epoch\", y=[\"train_acc\", \"val_acc\", \"test_acc\"]);\n",
    "print(f\"final val acc: {df['val_acc'].iloc[-1]} best val acc: {df['val_acc'].max()}\")\n",
    "print(f\"final test acc: {df['test_acc'].iloc[-1]} best test acc: {df['test_acc'].max()}\")"
   ]
  },
  {
   "cell_type": "code",
   "execution_count": null,
   "metadata": {},
   "outputs": [],
   "source": [
    "df = pd.read_csv(f\"record_cls_eval_0_class_3.csv\")\n",
    "df.plot(x=\"epoch\", y=[\"train_acc\", \"val_acc\", \"test_acc\"]);\n",
    "print(f\"final val acc: {df['val_acc'].iloc[-1]} best val acc: {df['val_acc'].max()}\")\n",
    "print(f\"final test acc: {df['test_acc'].iloc[-1]} best test acc: {df['test_acc'].max()}\")"
   ]
  },
  {
   "cell_type": "code",
   "execution_count": null,
   "metadata": {},
   "outputs": [],
   "source": [
    "df = pd.read_csv(f\"record_cls_eval_0_class_4.csv\")\n",
    "df.plot(x=\"epoch\", y=[\"train_acc\", \"val_acc\", \"test_acc\"]);\n",
    "print(f\"final val acc: {df['val_acc'].iloc[-1]} best val acc: {df['val_acc'].max()}\")\n",
    "print(f\"final test acc: {df['test_acc'].iloc[-1]} best test acc: {df['test_acc'].max()}\")"
   ]
  },
  {
   "cell_type": "code",
   "execution_count": null,
   "metadata": {},
   "outputs": [],
   "source": [
    "df = pd.read_csv(f\"record_cls_eval_0_class_9.csv\")\n",
    "df.plot(x=\"epoch\", y=[\"train_acc\", \"val_acc\", \"test_acc\"]);\n",
    "print(f\"final val acc: {df['val_acc'].iloc[-1]} best val acc: {df['val_acc'].max()}\")\n",
    "print(f\"final test acc: {df['test_acc'].iloc[-1]} best test acc: {df['test_acc'].max()}\")"
   ]
  },
  {
   "cell_type": "code",
   "execution_count": null,
   "metadata": {},
   "outputs": [],
   "source": [
    "# calculate the per-class accuracy from the confusion matrix\n",
    "def per_class_acc(conf_mat):\n",
    "    return np.diag(conf_mat) / conf_mat.sum(axis=1)\n",
    "\n",
    "def per_class_true_labels(conf_mat):\n",
    "    return conf_mat.sum(axis=1)\n",
    "\n",
    "def acc(conf_mat):\n",
    "    return np.diag(conf_mat).sum() / conf_mat.sum()"
   ]
  },
  {
   "cell_type": "code",
   "execution_count": null,
   "metadata": {},
   "outputs": [],
   "source": [
    "metric = \"val\"\n",
    "# metric = \"test\"\n",
    "test_before = np.load(f\"two_staged_before_{metric}_conf_mat_0.npy\")\n",
    "test_after = np.load(f\"two_staged_after_{metric}_conf_mat_0.npy\")\n",
    "test_after_cls0 = np.load(f\"after_class_0_{metric}_conf_mat_0.npy\")\n",
    "test_after_cls3 = np.load(f\"after_class_3_{metric}_conf_mat_0.npy\")\n",
    "test_after_cls4 = np.load(f\"after_class_4_{metric}_conf_mat_0.npy\")\n",
    "test_after_cls9 = np.load(f\"after_class_9_{metric}_conf_mat_0.npy\")\n",
    "\n",
    "\n",
    "# train_after = np.load(\"two_staged_after_train_conf_mat_0.npy\")\n",
    "# train_before = np.load(\"two_staged_before_train_conf_mat_0.npy\")\n"
   ]
  },
  {
   "cell_type": "code",
   "execution_count": null,
   "metadata": {},
   "outputs": [],
   "source": [
    "fig, ax = plt.subplots(figsize=(10, 7))\n",
    "ConfusionMatrixDisplay(test_before).plot(cmap=\"Blues\", values_format=\"\", ax=ax);\n",
    "plt.title(\"Test Confusion Matrix Before Training\");\n",
    "print(per_class_acc(test_before))\n",
    "print(acc(test_before));"
   ]
  },
  {
   "cell_type": "code",
   "execution_count": null,
   "metadata": {},
   "outputs": [],
   "source": [
    "fig, ax = plt.subplots(figsize=(10, 7))\n",
    "ConfusionMatrixDisplay(test_after).plot(cmap=\"Blues\", values_format=\"\", ax=ax);\n",
    "plt.title(\"Test Confusion Matrix Before Training\");\n",
    "print(per_class_acc(test_after))\n",
    "print(acc(test_after));"
   ]
  },
  {
   "cell_type": "code",
   "execution_count": null,
   "metadata": {},
   "outputs": [],
   "source": [
    "fig, ax = plt.subplots(figsize=(10, 7))\n",
    "ConfusionMatrixDisplay(test_after_cls0).plot(cmap=\"Blues\", values_format=\"\", ax=ax);\n",
    "plt.title(\"Test Confusion Matrix Before Training\");\n",
    "print(per_class_acc(test_after_cls0))\n",
    "print(acc(test_after_cls0));"
   ]
  },
  {
   "cell_type": "code",
   "execution_count": null,
   "metadata": {},
   "outputs": [],
   "source": [
    "fig, ax = plt.subplots(figsize=(10, 7))\n",
    "ConfusionMatrixDisplay(test_after_cls3).plot(cmap=\"Blues\", values_format=\"\", ax=ax);\n",
    "plt.title(\"Test Confusion Matrix Before Training\");\n",
    "print(per_class_acc(test_after_cls3))\n",
    "print(acc(test_after_cls3));"
   ]
  },
  {
   "cell_type": "code",
   "execution_count": null,
   "metadata": {},
   "outputs": [],
   "source": [
    "fig, ax = plt.subplots(figsize=(10, 7))\n",
    "ConfusionMatrixDisplay(test_after_cls4).plot(cmap=\"Blues\", values_format=\"\", ax=ax);\n",
    "plt.title(\"Test Confusion Matrix Before Training\");\n",
    "print(per_class_acc(test_after_cls4))\n",
    "print(acc(test_after_cls4));"
   ]
  },
  {
   "cell_type": "code",
   "execution_count": null,
   "metadata": {},
   "outputs": [],
   "source": [
    "fig, ax = plt.subplots(figsize=(10, 7))\n",
    "ConfusionMatrixDisplay(test_after_cls9).plot(cmap=\"Blues\", values_format=\"\", ax=ax);\n",
    "plt.title(\"Test Confusion Matrix Before Training\");\n",
    "print(per_class_acc(test_after_cls9))\n",
    "print(acc(test_after_cls9));"
   ]
  },
  {
   "cell_type": "code",
   "execution_count": null,
   "metadata": {},
   "outputs": [],
   "source": [
    "import time\n",
    "import pandas as pd\n",
    "from rich.logging import RichHandler\n",
    "import logging\n",
    "from lightning_lite.utilities.seed import seed_everything\n",
    "from shell_data.dataset.dataset import get_train_val_test_subsets\n",
    "import torch\n",
    "import os\n",
    "from shell_data.utils.config import (\n",
    "    ShELLDataSharingConfig,\n",
    "    DatasetConfig,\n",
    "    TaskModelConfig,\n",
    "    TrainingConfig,\n",
    "    ExperienceReplayConfig,\n",
    "    DataValuationConfig,\n",
    "    RouterConfig,\n",
    "    BoltzmanExplorationConfig,\n",
    ")\n",
    "from shell_data.utils.record import Record, snapshot_perf, snapshot_conf_mat\n",
    "import numpy as np\n",
    "from shell_data.shell_agent.shell_agent_classification import ShELLClassificationAgent\n",
    "from itertools import combinations\n",
    "\n",
    "\n",
    "\n",
    "os.environ[\"CUBLAS_WORKSPACE_CONFIG\"] = \":16:8\"\n",
    "torch.use_deterministic_algorithms(True)\n",
    "seed_everything(0)\n",
    "\n",
    "# logging.basicConfig(level=logging.DEBUG,\n",
    "#                     format=\"%(message)s\",\n",
    "#                     handlers=[RichHandler(rich_tracebacks=True, markup=False, show_time=False, show_path=False)],)\n",
    "\n",
    "\n",
    "# load the model\n",
    "dataset_name = \"mnist\"\n",
    "train_subsets, val_subsets, test_subsets = get_train_val_test_subsets(\n",
    "    dataset_name)\n",
    "\n",
    "# size = {\n",
    "#     0: 512,\n",
    "#     1: 256,\n",
    "# }\n",
    "size = 64\n",
    "\n",
    "if isinstance(size, int):\n",
    "    print(\"size:\", size)\n",
    "else:\n",
    "    print(\"avg size: \", sum(size.values()) / len(size))\n",
    "\n",
    "num_cls_per_task = 4\n",
    "n_agents = 2\n",
    "num_task_per_life = 1\n",
    "buffer_integration_size = 50000  # sample all!\n",
    "batch_size = 32\n",
    "routing_method = \"random\"\n",
    "\n",
    "cfg = ShELLDataSharingConfig(\n",
    "    n_agents=n_agents,\n",
    "    dataset=DatasetConfig(\n",
    "        name=dataset_name,\n",
    "        train_size=size,\n",
    "        # should val_size be the same as train_size?\n",
    "        # val_size=min(size * 3, min([len(d) for d in val_subsets])),\n",
    "        val_size=size * 8,\n",
    "        num_task_per_life=num_task_per_life,\n",
    "        num_cls_per_task=num_cls_per_task,\n",
    "    ),\n",
    "    task_model=TaskModelConfig(\n",
    "        name=dataset_name,\n",
    "    ),\n",
    "    training=TrainingConfig(\n",
    "        n_epochs=200,\n",
    "        batch_size=batch_size,\n",
    "        patience=10,\n",
    "    ),\n",
    "    experience_replay=ExperienceReplayConfig(\n",
    "        buffer_size=buffer_integration_size,\n",
    "        # train_size=size // 2,\n",
    "    ),\n",
    "    data_valuation=DataValuationConfig(\n",
    "        method=\"performance\",  # control how the receiver perceives data and what to keep\n",
    "    ),\n",
    "    router=RouterConfig(\n",
    "        strategy=routing_method,  # control how the sender decides which data point to send\n",
    "        # num_batches=4,\n",
    "        num_batches=1,\n",
    "        # batch_size=32,  # sending half of the data\n",
    "        batch_size=64 * 4,  # sending half of the data\n",
    "        estimator_task_model=TaskModelConfig(\n",
    "            name=dataset_name,\n",
    "        ),\n",
    "        explore=BoltzmanExplorationConfig(\n",
    "            num_slates=64 * 4,\n",
    "        ),\n",
    "        n_heads=n_agents,\n",
    "    ),\n",
    ")\n",
    "\n",
    "receiver = ShELLClassificationAgent(\n",
    "    train_subsets, val_subsets, test_subsets, cfg)"
   ]
  },
  {
   "cell_type": "code",
   "execution_count": null,
   "metadata": {},
   "outputs": [],
   "source": [
    "# receiver.ll_dataset.perm = torch.tensor([0, 1, 4, 9])\n",
    "receiver.ll_dataset.perm = torch.tensor([0, 3, 4, 9])\n",
    "receiver.init_model_router()\n",
    "receiver.load_model(\"two_staged_receiver\")"
   ]
  },
  {
   "cell_type": "code",
   "execution_count": null,
   "metadata": {},
   "outputs": [],
   "source": [
    "receiver.ll_dataset.perm"
   ]
  },
  {
   "cell_type": "code",
   "execution_count": null,
   "metadata": {},
   "outputs": [],
   "source": [
    "# # test receiver\n",
    "test_data = receiver.ll_dataset.get_test_dataset(0, kind=\"one\")\n",
    "# X_test = [x for x, y in test_data]\n",
    "# y_test = [y for x, y in test_data]\n",
    "# len(X_test)"
   ]
  },
  {
   "cell_type": "code",
   "execution_count": null,
   "metadata": {},
   "outputs": [],
   "source": [
    "val_data = receiver.ll_dataset.get_val_dataset(0, kind=\"one\")\n",
    "# X_val = [x for x, y in val_data]\n",
    "# y_val = [y for x, y in val_data]\n",
    "X_test = [x for x, y in val_data]\n",
    "y_test = [y for x, y in val_data]\n",
    "# len(X_test)\n",
    "# len(X_val)"
   ]
  },
  {
   "cell_type": "code",
   "execution_count": null,
   "metadata": {},
   "outputs": [],
   "source": [
    "from sklearn.metrics import confusion_matrix\n",
    "with torch.no_grad():\n",
    "    # y_hat_val = receiver.model.net(torch.stack(X_val).to(receiver.model.device))\n",
    "    y_hat_val = receiver.model.net(torch.stack(X_test).to(receiver.model.device))\n",
    "    # val_conf_mat = confusion_matrix(y_val, y_hat_val.argmax(dim=1).cpu())\n",
    "    val_conf_mat = confusion_matrix(y_test, y_hat_val.argmax(dim=1).cpu())"
   ]
  },
  {
   "cell_type": "code",
   "execution_count": null,
   "metadata": {},
   "outputs": [],
   "source": [
    "fig, ax = plt.subplots(figsize=(10, 7))\n",
    "ConfusionMatrixDisplay(val_conf_mat).plot(cmap=\"Blues\", values_format=\"\", ax=ax);\n",
    "plt.title(\"Test Confusion Matrix Before Training\");\n",
    "print(per_class_acc(val_conf_mat))\n",
    "print(acc(val_conf_mat));"
   ]
  },
  {
   "cell_type": "code",
   "execution_count": null,
   "metadata": {},
   "outputs": [],
   "source": [
    "with torch.no_grad():\n",
    "    y_hat = receiver.model.net(torch.stack(X_test).to(receiver.model.device))"
   ]
  },
  {
   "cell_type": "code",
   "execution_count": null,
   "metadata": {},
   "outputs": [],
   "source": [
    "y_pred = y_hat.argmax(dim=1)\n",
    "y_pred.shape"
   ]
  },
  {
   "cell_type": "code",
   "execution_count": null,
   "metadata": {},
   "outputs": [],
   "source": [
    "# print(\"accuracy:\", (y_pred == y_test).sum().item() / len(y_test))"
   ]
  },
  {
   "cell_type": "code",
   "execution_count": null,
   "metadata": {},
   "outputs": [],
   "source": [
    "y_test = torch.stack(y_test).to(receiver.model.device)\n",
    "y_test.shape"
   ]
  },
  {
   "cell_type": "code",
   "execution_count": null,
   "metadata": {},
   "outputs": [],
   "source": [
    "correct_idx = y_pred == y_test\n",
    "incorrect_idx = y_pred != y_test\n",
    "correct_X = [X_test[i] for i in range(len(X_test)) if correct_idx[i]]\n",
    "correct_y_label = [y_test[i] for i in range(len(y_test)) if correct_idx[i]]\n",
    "incorrect_X = [X_test[i] for i in range(len(X_test)) if incorrect_idx[i]]\n",
    "incorrect_y_label = [y_test[i] for i in range(len(y_test)) if incorrect_idx[i]]\n",
    "incorrect_y_pred = [y_pred[i] for i in range(len(y_pred)) if incorrect_idx[i]]"
   ]
  },
  {
   "cell_type": "code",
   "execution_count": null,
   "metadata": {},
   "outputs": [],
   "source": [
    "# sample randomly 10 correct and 10 incorrect\n",
    "# plot the images, labels, and predictions\n",
    "correct_X = torch.stack(correct_X)\n",
    "correct_y_label = torch.stack(correct_y_label)\n",
    "incorrect_X = torch.stack(incorrect_X)\n",
    "incorrect_y_label = torch.stack(incorrect_y_label)\n",
    "incorrect_y_pred = torch.stack(incorrect_y_pred)\n",
    "\n",
    "\n",
    "some_correct_idx = random.sample(range(len(correct_X)), 10)\n",
    "some_incorrect_idx = random.sample(range(len(incorrect_X)), 10)\n",
    "\n",
    "num_samples = 8\n",
    "# plot the images, labels, and predictions\n",
    "fig, axes = plt.subplots(2, num_samples, figsize=(20, 5))\n",
    "for i in range(num_samples):\n",
    "    axes[0, i].imshow(correct_X[some_correct_idx[i]].squeeze(), cmap=\"gray\")\n",
    "    axes[0, i].set_title(f\"Label: {correct_y_label[some_correct_idx[i]]}, Pred: {y_pred[some_correct_idx[i]]}\")\n",
    "    if len(incorrect_X) > 0:\n",
    "        axes[1, i].imshow(incorrect_X[some_incorrect_idx[i]].squeeze(), cmap=\"gray\")\n",
    "        print(\"label:\", incorrect_y_label[some_incorrect_idx[i]], \"pred:\", incorrect_y_pred[some_incorrect_idx[i]])\n",
    "        axes[1, i].set_title(f\"Label: {incorrect_y_label[some_incorrect_idx[i]]}, Pred: {incorrect_y_pred[some_incorrect_idx[i]]}\")\n",
    "\n",
    "plt.tight_layout()\n"
   ]
  },
  {
   "cell_type": "code",
   "execution_count": null,
   "metadata": {},
   "outputs": [],
   "source": [
    "from sklearn.manifold import TSNE\n",
    "import umap\n",
    "\n",
    "reducer = TSNE(n_components=2, init=\"pca\", random_state=0)\n",
    "# reducer = umap.UMAP(n_neighbors=15)\n",
    "X_test = torch.stack(X_test)\n",
    "def to_features(X):\n",
    "    return X.view(X.size(0), -1)\n",
    "reducer.fit(to_features(X_test))"
   ]
  },
  {
   "cell_type": "code",
   "execution_count": null,
   "metadata": {},
   "outputs": [],
   "source": [
    "# # visualize the decision boundary of the model\n",
    "# # inverse project the tsne embedding back to the original space\n",
    "# # and feed it to the model\n",
    "# # plot the decision boundary\n",
    "\n",
    "# # create a grid of points\n",
    "# x_min, x_max = reducer.embedding_[:, 0].min() - 1, reducer.embedding_[:, 0].max() + 1\n",
    "# y_min, y_max = reducer.embedding_[:, 1].min() - 1, reducer.embedding_[:, 1].max() + 1\n",
    "# # xx, yy = np.meshgrid(np.arange(x_min, x_max, 0.1), np.arange(y_min, y_max, 0.1))\n",
    "# xx, yy = np.meshgrid(np.arange(x_min, x_max, 0.5), np.arange(y_min, y_max, 0.5))\n",
    "\n",
    "# # instead of projecting the grid back to the original space (which is\n",
    "# # not clear how to do), for each point of the grid, we assign\n",
    "# # to the K nearest neighbors of the point in the original space\n",
    "# # and get the majority vote of the predicted class\n",
    "# k = 5\n",
    "# # get the k nearest neighbors of each point in the grid\n",
    "\n",
    "# grid = np.c_[xx.ravel(), yy.ravel()]\n",
    "# # get the k nearest neighbors of each point in the grid\n",
    "\n",
    "# from sklearn.neighbors import NearestNeighbors\n",
    "# def get_knn(grid, k):\n",
    "#     knn = NearestNeighbors(n_neighbors=k)\n",
    "#     knn.fit(reducer.embedding_)\n",
    "#     dist, idx = knn.kneighbors(grid)\n",
    "#     return dist, idx\n",
    "# dist, idx = get_knn(grid, k)\n",
    "\n",
    "# from tqdm import tqdm\n",
    "\n",
    "# y_pred_grid = []\n",
    "# for i in tqdm(range(len(grid))):\n",
    "#     # get the k nearest neighbors of the point\n",
    "#     # and get the majority vote of the predicted class\n",
    "#     y_pred_knn = y_pred[idx[i]]\n",
    "#     y_pred_grid.append(torch.mode(y_pred_knn).values.item())\n",
    "\n",
    "# y_pred_grid = np.array(y_pred_grid).reshape(xx.shape)\n",
    "\n",
    "# from sklearn.inspection import DecisionBoundaryDisplay\n",
    "\n",
    "# display = DecisionBoundaryDisplay(\n",
    "#     xx0=xx, xx1=yy, response=y_pred_grid,\n",
    "# )"
   ]
  },
  {
   "cell_type": "code",
   "execution_count": null,
   "metadata": {},
   "outputs": [],
   "source": [
    "y_hat.shape"
   ]
  },
  {
   "cell_type": "code",
   "execution_count": null,
   "metadata": {},
   "outputs": [],
   "source": [
    "# y_test = torch.stack(y_test)"
   ]
  },
  {
   "cell_type": "code",
   "execution_count": null,
   "metadata": {},
   "outputs": [],
   "source": [
    "# convert logit y_hat to probability, and then compute the entropy\n",
    "# entropy = -p * log(p)\n",
    "import torch.distributions as dist\n",
    "\n",
    "\n",
    "probs = torch.softmax(y_hat, dim=1)\n",
    "# calculate the entropy of each row\n",
    "categorical = dist.Categorical(probs=probs)\n",
    "entropy = categorical.entropy()"
   ]
  },
  {
   "cell_type": "code",
   "execution_count": null,
   "metadata": {},
   "outputs": [],
   "source": [
    "min_alpha = 0.1\n",
    "max_alpha = 0.9\n",
    "# normalize entropy to between min_alpha and max_alpha\n",
    "alpha = (entropy - entropy.min()) / (entropy.max() - entropy.min()) * (max_alpha - min_alpha) + min_alpha\n",
    "# invert the alpha\n",
    "# alpha = 1 - alpha\n",
    "alpha.shape, y_test.shape"
   ]
  },
  {
   "cell_type": "code",
   "execution_count": null,
   "metadata": {},
   "outputs": [],
   "source": [
    "# # compute the centroids using kmeans from embeddings\n",
    "# num_clusters = 4\n",
    "# from sklearn.cluster import KMeans\n",
    "# kmeans = KMeans(n_clusters=num_clusters, random_state=0).fit(reducer.embedding_)\n",
    "# centroids = kmeans.cluster_centers_"
   ]
  },
  {
   "cell_type": "code",
   "execution_count": null,
   "metadata": {},
   "outputs": [],
   "source": [
    "\n",
    "\n",
    "# plot the reducer tsne projection with the labels labeled and colored\n",
    "fig, ax = plt.subplots(figsize=(20, 10))\n",
    "\n",
    "colors = [\"tab:blue\", \"tab:orange\", \"tab:green\", \"tab:red\", \"tab:purple\", \"tab:brown\", \"tab:pink\", \"tab:gray\", \"tab:olive\", \"tab:cyan\"]\n",
    "centroids = []\n",
    "# scatter with labels colored by class\n",
    "for i in range(10):\n",
    "    idx = (y_test == i).to(\"cpu\")\n",
    "    if idx.sum() < 1:\n",
    "        continue\n",
    "    # separate between correct and incorrect\n",
    "    correct_idx_cls = idx & (correct_idx.to(\"cpu\"))\n",
    "    incorrect_idx_cls = idx & (incorrect_idx.to(\"cpu\"))\n",
    "    # plot correct and incorrect with the same color\n",
    "    # but correct has alpha=0.5, cmap from tab10\n",
    "    color = colors.pop(0)\n",
    "    # plot ax scatter with alphas proportional to the entropy\n",
    "    # correct with X and incorrect with O\n",
    "\n",
    "    # plot correct\n",
    "\n",
    "    if correct_idx_cls.sum() > 0:\n",
    "        ax.scatter(\n",
    "            reducer.embedding_[correct_idx_cls, 0],\n",
    "            reducer.embedding_[correct_idx_cls, 1],\n",
    "            alpha=alpha[correct_idx_cls].cpu().numpy(),\n",
    "            # alpha=0.1,\n",
    "            c=color,\n",
    "            marker=\".\",\n",
    "            s=100,\n",
    "            label=f\"class {i}\",\n",
    "        )\n",
    "\n",
    "    # plot incorrect\n",
    "    if incorrect_idx_cls.sum() > 0:\n",
    "        ax.scatter(\n",
    "            reducer.embedding_[incorrect_idx_cls, 0],\n",
    "            reducer.embedding_[incorrect_idx_cls, 1],\n",
    "            alpha=alpha[incorrect_idx_cls].cpu().numpy(),\n",
    "            # alpha=1.0,\n",
    "            c=color,\n",
    "            marker=\"*\",\n",
    "            # label=f\"class {i}\",\n",
    "            s=200,\n",
    "        )\n",
    "\n",
    "    # compute the centroid as the average of X\n",
    "    centroids.append(reducer.embedding_[correct_idx_cls, :].mean(axis=0))\n",
    "\n",
    "centroids = np.array(centroids)\n",
    "# plot the centroids\n",
    "ax.scatter(centroids[:, 0], centroids[:, 1], marker=\"x\", c=\"black\", s=200, label=\"centroids\")\n",
    "\n",
    "\n",
    "plt.title(\"TSNE projection of the test set\")\n",
    "# plot the decision boundary with the same color as the scatter\n",
    "# display.plot(ax=ax, alpha=0.5, linewidth=2)\n",
    "leg = ax.legend();\n",
    "for lh in leg.legendHandles: \n",
    "    lh.set_alpha(1)\n",
    "\n",
    "plt.tight_layout();"
   ]
  },
  {
   "cell_type": "code",
   "execution_count": null,
   "metadata": {},
   "outputs": [],
   "source": [
    "# get the distance from each point in reducer.embedding_ to the nearest centroid\n",
    "from scipy.spatial.distance import cdist\n",
    "dist = cdist(reducer.embedding_, centroids)\n",
    "min_distances = dist.min(axis=1)\n",
    "# normalize the min_distances to between 0 and 1\n",
    "min_distances = (min_distances - min_distances.min()) / (min_distances.max() - min_distances.min())"
   ]
  },
  {
   "cell_type": "code",
   "execution_count": null,
   "metadata": {},
   "outputs": [],
   "source": [
    "# plot min_distances and entropy\n",
    "correct_dist = min_distances[correct_idx.cpu()]\n",
    "incorrect_dist = min_distances[incorrect_idx.cpu()]\n",
    "\n",
    "correct_entropy = entropy[correct_idx].cpu()\n",
    "incorrect_entropy = np.array(entropy[incorrect_idx].cpu())\n",
    "\n",
    "from sklearn.linear_model import LinearRegression\n",
    "\n",
    "reg = LinearRegression().fit(incorrect_dist.reshape(-1, 1), incorrect_entropy)\n",
    "# reg = LinearRegression().fit(correct_dist.reshape(-1, 1), correct_entropy)\n",
    "print(\"slope:\", reg.coef_[0])\n",
    "\n",
    "plt.plot(incorrect_dist, incorrect_entropy, \"o\")\n",
    "# plt.plot(correct_dist, correct_entropy, \"o\")\n",
    "# plot the regression line\n",
    "plt.plot(incorrect_dist, reg.predict(incorrect_dist.reshape(-1, 1)), \"r-\")\n",
    "# plt.plot(correct_dist, reg.predict(correct_dist.reshape(-1, 1)), \"r-\")\n",
    "plt.xlabel(\"min distance to centroid\")\n",
    "plt.ylabel(\"entropy\")"
   ]
  },
  {
   "cell_type": "code",
   "execution_count": null,
   "metadata": {},
   "outputs": [],
   "source": [
    "plt.hist(entropy[correct_idx_cls].cpu().numpy())"
   ]
  },
  {
   "cell_type": "code",
   "execution_count": null,
   "metadata": {},
   "outputs": [],
   "source": [
    "plt.hist(entropy[incorrect_idx_cls].cpu().numpy())"
   ]
  },
  {
   "cell_type": "code",
   "execution_count": null,
   "metadata": {},
   "outputs": [],
   "source": [
    "# plot entropy per class\n",
    "fig, ax = plt.subplots(4, figsize=(20, 20))\n",
    "j = 0\n",
    "for i in range(10):\n",
    "    idx = (y_test == i).to(\"cpu\")\n",
    "    if idx.sum() < 1:\n",
    "        continue\n",
    "\n",
    "    \n",
    "    incorrect_idx_cls = idx & (incorrect_idx.to(\"cpu\"))\n",
    "    correct_idx_cls = idx & (correct_idx.to(\"cpu\"))\n",
    "    # plot correct in blue and incorrect in red\n",
    "    ax[j].hist(entropy[correct_idx_cls].cpu().numpy(), alpha=0.5, label=\"correct\")\n",
    "    ax[j].hist(entropy[incorrect_idx_cls].cpu().numpy(), alpha=0.5, label=\"incorrect\")\n",
    "    ax[j].set_title(f\"class {i}\")\n",
    "    j += 1\n",
    "leg = ax[0].legend();\n",
    "for lh in leg.legendHandles: \n",
    "    lh.set_alpha(1)\n",
    "\n",
    "plt.ylabel(\"entropy\")\n",
    "plt.xlabel(\"count\")"
   ]
  },
  {
   "cell_type": "code",
   "execution_count": null,
   "metadata": {},
   "outputs": [],
   "source": [
    "top_k = 10\n",
    "# get the top k indices of the incorrect predictions with highest entropy\n",
    "top_k_idx = torch.argsort(entropy[incorrect_idx], descending=True)[:top_k]\n",
    "# print the top k incorrect predictions, labels, and entropy, and plot the images\n",
    "fig, ax = plt.subplots(top_k, 1, figsize=(10, 40))\n",
    "for i in range(top_k):\n",
    "    idx = incorrect_idx.nonzero()[top_k_idx[i]].cpu()\n",
    "    ax[i].imshow(X_test[idx].squeeze(), cmap=\"gray\")\n",
    "    ax[i].set_title(f\"predicted: {y_pred[idx].item()}, entropy: {entropy[idx].item():.2f}, label: {y_test[idx].item()}\")"
   ]
  },
  {
   "cell_type": "code",
   "execution_count": null,
   "metadata": {},
   "outputs": [],
   "source": [
    "# TODO: need to test the image similarity search for the top k images from the sender!"
   ]
  },
  {
   "cell_type": "code",
   "execution_count": null,
   "metadata": {},
   "outputs": [],
   "source": [
    "# convert logit y_hat to probability, and then compute the entropy\n",
    "# entropy = -p * log(p)\n",
    "\n",
    "import torch.distributions as dist\n",
    "\n",
    "\n",
    "probs = torch.softmax(y_hat, dim=1)\n",
    "# calculate the entropy of each row\n",
    "categorical = dist.Categorical(probs=probs)\n",
    "entropy = categorical.entropy()"
   ]
  },
  {
   "cell_type": "code",
   "execution_count": null,
   "metadata": {},
   "outputs": [],
   "source": [
    "correct_entropy = entropy[correct_idx.cpu()]\n",
    "incorrect_entropy = entropy[incorrect_idx.cpu()]"
   ]
  },
  {
   "cell_type": "code",
   "execution_count": null,
   "metadata": {},
   "outputs": [],
   "source": [
    "# find the index of the most uncertain prediction\n",
    "most_uncertain_idx = torch.argsort(entropy, descending=True)[:10]\n",
    "# print out the probability of the most uncertain prediction\n",
    "print(probs[most_uncertain_idx])"
   ]
  },
  {
   "cell_type": "code",
   "execution_count": null,
   "metadata": {},
   "outputs": [],
   "source": [
    "probs[most_uncertain_idx][0]"
   ]
  },
  {
   "cell_type": "code",
   "execution_count": null,
   "metadata": {},
   "outputs": [],
   "source": [
    "# plot the distribution of entropy\n",
    "fig, ax = plt.subplots(figsize=(10, 10))\n",
    "ax.hist(incorrect_entropy, bins=100);"
   ]
  },
  {
   "cell_type": "code",
   "execution_count": null,
   "metadata": {},
   "outputs": [],
   "source": [
    "# # separate correct and incorrect into 4 classes\n",
    "# correct_X_0 = [x for x, y in zip(correct_X, correct_y) if y == 0]\n",
    "# correct_X_1 = [x for x, y in zip(correct_X, correct_y) if y == 1]\n",
    "# correct_X_4 = [x for x, y in zip(correct_X, correct_y) if y == 4]\n",
    "# correct_X_9 = [x for x, y in zip(correct_X, correct_y) if y == 9]\n",
    "\n",
    "# incorrect_X_0 = [x for x, y in zip(incorrect_X, incorrect_y) if y == 0]\n",
    "# incorrect_X_1 = [x for x, y in zip(incorrect_X, incorrect_y) if y == 1]\n",
    "# incorrect_X_4 = [x for x, y in zip(incorrect_X, incorrect_y) if y == 4]\n",
    "# incorrect_X_9 = [x for x, y in zip(incorrect_X, incorrect_y) if y == 9]\n",
    "\n",
    "# incorrect_pred_0 = [y_hat[i] for i in range(len(y_hat)) if incorrect_idx[i] and y_test[i] == 0]\n",
    "# incorrect_pred_1 = [y_hat[i] for i in range(len(y_hat)) if incorrect_idx[i] and y_test[i] == 1]\n",
    "# incorrect_pred_4 = [y_hat[i] for i in range(len(y_hat)) if incorrect_idx[i] and y_test[i] == 4]\n",
    "# incorrect_pred_9 = [y_hat[i] for i in range(len(y_hat)) if incorrect_idx[i] and y_test[i] == 9]"
   ]
  },
  {
   "cell_type": "code",
   "execution_count": null,
   "metadata": {},
   "outputs": [],
   "source": [
    "# len(incorrect_X_0), len(incorrect_X_1), len(incorrect_X_4), len(incorrect_X_9)"
   ]
  },
  {
   "cell_type": "code",
   "execution_count": null,
   "metadata": {},
   "outputs": [],
   "source": [
    "# # draw 10 random incorrect samples from each class, plot it and label it with the incorrect prediction\n",
    "# import random\n",
    "# incorrect_X_0 = random.sample(incorrect_X_0, 10)\n",
    "# incorrect_X_1 = random.sample(incorrect_X_1, 8)\n",
    "# incorrect_X_4 = random.sample(incorrect_X_4, 10)\n",
    "# incorrect_X_9 = random.sample(incorrect_X_9, 10)\n",
    "\n",
    "# # plot 10 random incorrect samples from each class\n",
    "# fig, axs = plt.subplots(4, 5, figsize=(20, 10))\n",
    "# # plot 4 classes\n",
    "# for i in range(4):\n",
    "#     # plot 10 samples\n",
    "#     num_samples = 5\n",
    "#     for j in range(num_samples):\n",
    "#         if i == 0:\n",
    "#             axs[i, j].imshow(incorrect_X_0[j][0], cmap=\"gray\")\n",
    "#             axs[i, j].set_title(\"0: \" + str(incorrect_pred_0[j].argmax().item()))\n",
    "#         elif i == 1:\n",
    "#             axs[i, j].imshow(incorrect_X_1[j][0], cmap=\"gray\")\n",
    "#             axs[i, j].set_title(\"1: \" + str(incorrect_pred_1[j].argmax().item()))\n",
    "#         elif i == 2:\n",
    "#             axs[i, j].imshow(incorrect_X_4[j][0], cmap=\"gray\")\n",
    "#             axs[i, j].set_title(\"4: \" + str(incorrect_pred_4[j].argmax().item()))\n",
    "#         elif i == 3:\n",
    "#             axs[i, j].imshow(incorrect_X_9[j][0], cmap=\"gray\")\n",
    "#             axs[i, j].set_title(\"9: \" + str(incorrect_pred_9[j].argmax().item()))\n",
    "#         axs[i, j].axis(\"off\")"
   ]
  },
  {
   "cell_type": "code",
   "execution_count": null,
   "metadata": {},
   "outputs": [],
   "source": []
  }
 ],
 "metadata": {
  "kernelspec": {
   "display_name": "data-sharing",
   "language": "python",
   "name": "python3"
  },
  "language_info": {
   "codemirror_mode": {
    "name": "ipython",
    "version": 3
   },
   "file_extension": ".py",
   "mimetype": "text/x-python",
   "name": "python",
   "nbconvert_exporter": "python",
   "pygments_lexer": "ipython3",
   "version": "3.9.15 (main, Nov  4 2022, 16:13:54) \n[GCC 11.2.0]"
  },
  "orig_nbformat": 4,
  "vscode": {
   "interpreter": {
    "hash": "1ce37e01e4e25dad4acdf5a835a9fd4c67494d5c7616f20984ba493f320ae940"
   }
  }
 },
 "nbformat": 4,
 "nbformat_minor": 2
}
