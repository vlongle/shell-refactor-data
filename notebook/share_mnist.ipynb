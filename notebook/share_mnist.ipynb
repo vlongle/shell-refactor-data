{
 "cells": [
  {
   "cell_type": "code",
   "execution_count": 13,
   "metadata": {},
   "outputs": [
    {
     "name": "stderr",
     "output_type": "stream",
     "text": [
      "Global seed set to 0\n"
     ]
    }
   ],
   "source": [
    "from rich.logging import RichHandler\n",
    "import logging\n",
    "from lightning_lite.utilities.seed import seed_everything\n",
    "from shell_data.dataset.dataset import get_train_val_test_subsets\n",
    "import torch\n",
    "import os\n",
    "from shell_data.utils.config import (\n",
    "    ShELLDataSharingConfig,\n",
    "    DatasetConfig,\n",
    "    TaskModelConfig,\n",
    "    TrainingConfig,\n",
    "    ExperienceReplayConfig,\n",
    ")\n",
    "from shell_data.shell_agent.shell_agent_classification import ShELLClassificationAgent\n",
    "\n",
    "import matplotlib.pyplot as plt\n",
    "import numpy as np\n",
    "from sklearn.decomposition import PCA\n",
    "import umap\n",
    "os.environ[\"CUBLAS_WORKSPACE_CONFIG\"] = \":16:8\"\n",
    "torch.use_deterministic_algorithms(True)\n",
    "seed_everything(0)\n",
    "\n",
    "logging.basicConfig(level=logging.DEBUG,\n",
    "                    format=\"%(message)s\",\n",
    "                    handlers=[RichHandler(rich_tracebacks=True, markup=False, show_time=False, show_path=False)],)"
   ]
  },
  {
   "cell_type": "code",
   "execution_count": 14,
   "metadata": {},
   "outputs": [],
   "source": [
    "def to_features(X):\n",
    "    return X.view(X.size(0), -1)\n",
    "\n",
    "def dist(X, X2, p=2):\n",
    "    return torch.cdist(to_features(X), to_features(X2), p=p)\n",
    "\n",
    "def get_xy(dataset):\n",
    "    dataloader = torch.utils.data.DataLoader(dataset, batch_size=len(dataset))\n",
    "    return next(iter(dataloader))"
   ]
  },
  {
   "cell_type": "code",
   "execution_count": 15,
   "metadata": {},
   "outputs": [],
   "source": [
    "dataset_name = \"fashion_mnist\"\n",
    "train_subsets, val_subsets, test_subsets = get_train_val_test_subsets(\n",
    "    dataset_name)\n",
    "size = 128\n",
    "num_cls_per_task = 4\n",
    "\n",
    "cfg = ShELLDataSharingConfig(\n",
    "    n_agents=1,\n",
    "    dataset=DatasetConfig(\n",
    "        name=dataset_name,\n",
    "        train_size=size,\n",
    "        val_size=min(size, min([len(d) for d in val_subsets])),\n",
    "        num_task_per_life=2,\n",
    "        num_cls_per_task=num_cls_per_task,\n",
    "    ),\n",
    "    task_model=TaskModelConfig(\n",
    "        name=dataset_name,\n",
    "    ),\n",
    "    training=TrainingConfig(\n",
    "        n_epochs=100,\n",
    "    ),\n",
    "    experience_replay=ExperienceReplayConfig(\n",
    "            train_size=50000,\n",
    "        ),\n",
    ")"
   ]
  },
  {
   "cell_type": "code",
   "execution_count": 16,
   "metadata": {},
   "outputs": [],
   "source": [
    "sender = ShELLClassificationAgent(\n",
    "        train_subsets, val_subsets, test_subsets, cfg,\n",
    "        enable_validate_config=False,)\n",
    "\n",
    "receiver = ShELLClassificationAgent(\n",
    "        train_subsets, val_subsets, test_subsets, cfg,\n",
    "        enable_validate_config=False,)\n",
    "\n",
    "sender.ll_dataset.perm = torch.tensor([5, 1, 0, 7])  # should send 5 then 7\n",
    "receiver.ll_dataset.perm = torch.tensor([5, 1, 0, 7])"
   ]
  },
  {
   "cell_type": "code",
   "execution_count": 17,
   "metadata": {},
   "outputs": [
    {
     "name": "stdout",
     "output_type": "stream",
     "text": [
      "test before training 0.06125\n",
      "test after training 0.94725\n"
     ]
    }
   ],
   "source": [
    "# receiver should train on task 0\n",
    "print(\"test before training\", receiver.test(0))\n",
    "receiver.learn_task(0)\n",
    "print(\"test after training\", receiver.test(0))"
   ]
  },
  {
   "cell_type": "code",
   "execution_count": 18,
   "metadata": {},
   "outputs": [
    {
     "data": {
      "text/plain": [
       "[128, 128, 0, 0, 0, 128, 0, 128, 0, 0]"
      ]
     },
     "execution_count": 18,
     "metadata": {},
     "output_type": "execute_result"
    }
   ],
   "source": [
    "[len(b) for b in receiver.buffer.buffers]"
   ]
  },
  {
   "cell_type": "code",
   "execution_count": 19,
   "metadata": {},
   "outputs": [
    {
     "ename": "AssertionError",
     "evalue": "datasets should not be an empty iterable",
     "output_type": "error",
     "traceback": [
      "\u001b[0;31m---------------------------------------------------------------------------\u001b[0m",
      "\u001b[0;31mAssertionError\u001b[0m                            Traceback (most recent call last)",
      "Cell \u001b[0;32mIn [19], line 4\u001b[0m\n\u001b[1;32m      1\u001b[0m sender_data \u001b[39m=\u001b[39m []\n\u001b[1;32m      3\u001b[0m \u001b[39mfor\u001b[39;00m t \u001b[39min\u001b[39;00m \u001b[39mrange\u001b[39m(\u001b[39m2\u001b[39m):\n\u001b[0;32m----> 4\u001b[0m     sender_data\u001b[39m.\u001b[39mappend(sender\u001b[39m.\u001b[39;49mll_dataset\u001b[39m.\u001b[39;49mget_train_dataset(t))\n\u001b[1;32m      6\u001b[0m sender_data \u001b[39m=\u001b[39m torch\u001b[39m.\u001b[39mutils\u001b[39m.\u001b[39mdata\u001b[39m.\u001b[39mConcatDataset(sender_data)\n\u001b[1;32m      8\u001b[0m sender_x, sender_y \u001b[39m=\u001b[39m get_xy(sender_data)\n",
      "File \u001b[0;32m~/code/shell-refactor-data/shell-data/shell_data/dataset/dataset.py:177\u001b[0m, in \u001b[0;36mLifelongDataset.get_train_dataset\u001b[0;34m(self, time)\u001b[0m\n\u001b[1;32m    176\u001b[0m \u001b[39mdef\u001b[39;00m \u001b[39mget_train_dataset\u001b[39m(\u001b[39mself\u001b[39m, time: \u001b[39mint\u001b[39m) \u001b[39m-\u001b[39m\u001b[39m>\u001b[39m torch\u001b[39m.\u001b[39mutils\u001b[39m.\u001b[39mdata\u001b[39m.\u001b[39mDataset:\n\u001b[0;32m--> 177\u001b[0m     \u001b[39mreturn\u001b[39;00m torch\u001b[39m.\u001b[39;49mutils\u001b[39m.\u001b[39;49mdata\u001b[39m.\u001b[39;49mConcatDataset(\u001b[39mself\u001b[39;49m\u001b[39m.\u001b[39;49mget_data_tasks(time, \u001b[39m'\u001b[39;49m\u001b[39mtrain\u001b[39;49m\u001b[39m'\u001b[39;49m))\n",
      "File \u001b[0;32m~/miniconda3/envs/data-sharing/lib/python3.9/site-packages/torch/utils/data/dataset.py:222\u001b[0m, in \u001b[0;36mConcatDataset.__init__\u001b[0;34m(self, datasets)\u001b[0m\n\u001b[1;32m    220\u001b[0m \u001b[39msuper\u001b[39m(ConcatDataset, \u001b[39mself\u001b[39m)\u001b[39m.\u001b[39m\u001b[39m__init__\u001b[39m()\n\u001b[1;32m    221\u001b[0m \u001b[39mself\u001b[39m\u001b[39m.\u001b[39mdatasets \u001b[39m=\u001b[39m \u001b[39mlist\u001b[39m(datasets)\n\u001b[0;32m--> 222\u001b[0m \u001b[39massert\u001b[39;00m \u001b[39mlen\u001b[39m(\u001b[39mself\u001b[39m\u001b[39m.\u001b[39mdatasets) \u001b[39m>\u001b[39m \u001b[39m0\u001b[39m, \u001b[39m'\u001b[39m\u001b[39mdatasets should not be an empty iterable\u001b[39m\u001b[39m'\u001b[39m  \u001b[39m# type: ignore[arg-type]\u001b[39;00m\n\u001b[1;32m    223\u001b[0m \u001b[39mfor\u001b[39;00m d \u001b[39min\u001b[39;00m \u001b[39mself\u001b[39m\u001b[39m.\u001b[39mdatasets:\n\u001b[1;32m    224\u001b[0m     \u001b[39massert\u001b[39;00m \u001b[39mnot\u001b[39;00m \u001b[39misinstance\u001b[39m(d, IterableDataset), \u001b[39m\"\u001b[39m\u001b[39mConcatDataset does not support IterableDataset\u001b[39m\u001b[39m\"\u001b[39m\n",
      "\u001b[0;31mAssertionError\u001b[0m: datasets should not be an empty iterable"
     ]
    }
   ],
   "source": [
    "sender_data = []\n",
    "\n",
    "for t in range(2):\n",
    "    sender_data.append(sender.ll_dataset.get_train_dataset(t))\n",
    "\n",
    "sender_data = torch.utils.data.ConcatDataset(sender_data)\n",
    "\n",
    "sender_x, sender_y = get_xy(sender_data)"
   ]
  },
  {
   "cell_type": "code",
   "execution_count": 8,
   "metadata": {},
   "outputs": [
    {
     "data": {
      "text/plain": [
       "[0, 256, 0, 0, 0, 256, 0, 0, 0, 0]"
      ]
     },
     "execution_count": 8,
     "metadata": {},
     "output_type": "execute_result"
    }
   ],
   "source": [
    "receiver.buffer.add_data((sender_x[sender_y == 5], sender_y[sender_y == 5]))\n",
    "# receiver.buffer.add_data((sender_x[sender_y == 7], sender_y[sender_y == 7]))\n",
    "# receiver.buffer.add_data((sender_x[sender_y == 0], sender_y[sender_y == 0]))\n",
    "receiver.buffer.add_data((sender_x[sender_y == 1], sender_y[sender_y == 1]))\n",
    "[len(b) for b in receiver.buffer.buffers]"
   ]
  },
  {
   "cell_type": "code",
   "execution_count": 9,
   "metadata": {},
   "outputs": [],
   "source": [
    "receiver.learn_from_buffer(ll_time=0)"
   ]
  },
  {
   "cell_type": "code",
   "execution_count": 10,
   "metadata": {},
   "outputs": [
    {
     "data": {
      "text/plain": [
       "0.9975"
      ]
     },
     "execution_count": 10,
     "metadata": {},
     "output_type": "execute_result"
    }
   ],
   "source": [
    "receiver.test(0)"
   ]
  },
  {
   "cell_type": "code",
   "execution_count": 12,
   "metadata": {},
   "outputs": [
    {
     "data": {
      "image/png": "[encoded data removed]",
      "text/plain": [
       "<Figure size 1000x500 with 10 Axes>"
      ]
     },
     "metadata": {},
     "output_type": "display_data"
    }
   ],
   "source": [
    "test_dataset = receiver.ll_dataset.get_test_dataset(0)\n",
    "\n",
    "# plot 10 random images\n",
    "fig, axs = plt.subplots(2, 5, figsize=(10, 5))\n",
    "for i in range(10):\n",
    "    ax = axs[i // 5, i % 5]\n",
    "    ax.imshow(test_dataset[i][0].view(28, 28), cmap=\"gray\")\n",
    "    ax.set_title(test_dataset[i][1])\n",
    "    ax.axis(\"off\")"
   ]
  },
  {
   "cell_type": "code",
   "execution_count": null,
   "metadata": {},
   "outputs": [],
   "source": []
  }
 ],
 "metadata": {
  "kernelspec": {
   "display_name": "data-sharing",
   "language": "python",
   "name": "python3"
  },
  "language_info": {
   "codemirror_mode": {
    "name": "ipython",
    "version": 3
   },
   "file_extension": ".py",
   "mimetype": "text/x-python",
   "name": "python",
   "nbconvert_exporter": "python",
   "pygments_lexer": "ipython3",
   "version": "3.9.15"
  },
  "orig_nbformat": 4,
  "vscode": {
   "interpreter": {
    "hash": "1ce37e01e4e25dad4acdf5a835a9fd4c67494d5c7616f20984ba493f320ae940"
   }
  }
 },
 "nbformat": 4,
 "nbformat_minor": 2
}
