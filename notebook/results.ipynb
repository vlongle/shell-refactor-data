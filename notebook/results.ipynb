{
 "cells": [
  {
   "cell_type": "code",
   "execution_count": 23,
   "metadata": {},
   "outputs": [],
   "source": [
    "import torch"
   ]
  },
  {
   "cell_type": "code",
   "execution_count": 27,
   "metadata": {},
   "outputs": [],
   "source": [
    "seed = 24\n",
    "strategy = \"neural\"\n",
    "n_agents = 2\n",
    "n_tasks = 2\n",
    "\n",
    "root_dir = f\"shell-data/results/seed_{seed}_strategy_{strategy}_n_agents_{n_agents}_n_tasks_{n_tasks}\""
   ]
  },
  {
   "cell_type": "code",
   "execution_count": 28,
   "metadata": {},
   "outputs": [],
   "source": [
    "before_test_res = torch.load(f\"{root_dir}/before_test_res.pt\")\n",
    "before_val_res = torch.load(f\"{root_dir}/before_val_res.pt\")\n",
    "after_test_res = torch.load(f\"{root_dir}/after_test_res.pt\")\n",
    "after_val_res = torch.load(f\"{root_dir}/after_val_res.pt\")\n",
    "before_data_dist = torch.load(f\"{root_dir}/before_data_dist.pt\")\n",
    "after_data_dist = torch.load(f\"{root_dir}/after_data_dist.pt\")"
   ]
  },
  {
   "cell_type": "code",
   "execution_count": 31,
   "metadata": {},
   "outputs": [
    {
     "name": "stdout",
     "output_type": "stream",
     "text": [
      "agent 0 trained on ll_time 0, t 0\n",
      "test 0.874 -> 0.867, improv -0.801%\n",
      "val 0.863 -> 0.863, improv 0.000%\n",
      "avg test improv -0.801%, avg val improv 0.000%\n",
      "before dist tensor([  0.,   0.,   0.,   0., 128.,   0.,   0.,   0.,   0., 128.])\n",
      "after dist tensor([  0.,   0.,   0.,   0., 128.,   0.,   0.,   0.,   0., 222.])\n",
      "\n",
      "agent 0 trained on ll_time 1, t 0\n",
      "test 0.549 -> 0.562, improv 2.277%\n",
      "val 0.492 -> 0.527, improv 7.143%\n",
      "avg test improv -3.539%, avg val improv -1.515%\n",
      "before dist tensor([  0.,   0., 128.,   0., 256.,   0., 128.,   0.,   0., 350.])\n",
      "after dist tensor([ 10.,  48., 128.,   0., 256.,   0., 128.,  34.,   0., 384.])\n",
      "\n",
      "agent 0 trained on ll_time 1, t 1\n",
      "test 0.567 -> 0.515, improv -9.171%\n",
      "val 0.539 -> 0.488, improv -9.420%\n",
      "avg test improv -3.539%, avg val improv -1.515%\n",
      "before dist tensor([  0.,   0., 128.,   0., 256.,   0., 128.,   0.,   0., 350.])\n",
      "after dist tensor([ 10.,  48., 128.,   0., 256.,   0., 128.,  34.,   0., 384.])\n",
      "\n",
      "agent 1 trained on ll_time 0, t 0\n"
     ]
    },
    {
     "ename": "ZeroDivisionError",
     "evalue": "float division by zero",
     "output_type": "error",
     "traceback": [
      "\u001b[0;31m---------------------------------------------------------------------------\u001b[0m",
      "\u001b[0;31mZeroDivisionError\u001b[0m                         Traceback (most recent call last)",
      "Cell \u001b[0;32mIn [31], line 9\u001b[0m\n\u001b[1;32m      7\u001b[0m after_test \u001b[39m=\u001b[39m after_test_res[agent_id, ll_time, t]\u001b[39m.\u001b[39mitem()\n\u001b[1;32m      8\u001b[0m after_val \u001b[39m=\u001b[39m after_val_res[agent_id, ll_time, t]\u001b[39m.\u001b[39mitem()\n\u001b[0;32m----> 9\u001b[0m test_improv \u001b[39m=\u001b[39m (after_test \u001b[39m-\u001b[39;49m before_test) \u001b[39m/\u001b[39;49m before_test\n\u001b[1;32m     10\u001b[0m val_improv \u001b[39m=\u001b[39m (after_val \u001b[39m-\u001b[39m before_val) \u001b[39m/\u001b[39m before_val\n\u001b[1;32m     11\u001b[0m before_dist \u001b[39m=\u001b[39m before_data_dist[agent_id, ll_time, :]\n",
      "\u001b[0;31mZeroDivisionError\u001b[0m: float division by zero"
     ]
    }
   ],
   "source": [
    "for agent_id in range(n_agents):\n",
    "        for ll_time in range(n_tasks):\n",
    "                for t in range(ll_time+1):\n",
    "                        print(f\"agent {agent_id} trained on ll_time {ll_time}, t {t}\")\n",
    "                        before_test = before_test_res[agent_id, ll_time, t].item()\n",
    "                        before_val = before_val_res[agent_id, ll_time, t].item()\n",
    "                        after_test = after_test_res[agent_id, ll_time, t].item()\n",
    "                        after_val = after_val_res[agent_id, ll_time, t].item()\n",
    "                        test_improv = (after_test - before_test) / before_test\n",
    "                        val_improv = (after_val - before_val) / before_val\n",
    "                        before_dist = before_data_dist[agent_id, ll_time, :]\n",
    "                        after_dist = after_data_dist[agent_id, ll_time, :]\n",
    "\n",
    "\n",
    "                        # compute the avg acc_improv and val_improv\n",
    "                        avg_before_test = before_test_res[agent_id,\n",
    "                                                        ll_time, :ll_time+1].mean()\n",
    "                        avg_after_test = after_test_res[agent_id,\n",
    "                                                        ll_time, :ll_time+1].mean()\n",
    "                        avg_test_improv = (\n",
    "                                avg_after_test - avg_before_test) / avg_before_test\n",
    "\n",
    "                        avg_before_val = before_val_res[agent_id,\n",
    "                                                        ll_time, :ll_time+1].mean()\n",
    "                        avg_after_val = after_val_res[agent_id,\n",
    "                                                        ll_time, :ll_time+1].mean()\n",
    "                        avg_val_improv = (avg_after_val - avg_before_val) / avg_before_val\n",
    "\n",
    "                        print(f\"test {before_test:.3f} -> {after_test:.3f}, improv {test_improv * 100:.3f}%\")\n",
    "                        print(f\"val {before_val:.3f} -> {after_val:.3f}, improv {val_improv * 100:.3f}%\")\n",
    "                        print(f\"avg test improv {avg_test_improv * 100:.3f}%, avg val improv {avg_val_improv * 100:.3f}%\")\n",
    "                        print(f\"before dist {before_dist}\")\n",
    "                        print(f\"after dist {after_dist}\")\n",
    "                        print()"
   ]
  },
  {
   "cell_type": "code",
   "execution_count": null,
   "metadata": {},
   "outputs": [],
   "source": []
  }
 ],
 "metadata": {
  "kernelspec": {
   "display_name": "data-sharing",
   "language": "python",
   "name": "python3"
  },
  "language_info": {
   "codemirror_mode": {
    "name": "ipython",
    "version": 3
   },
   "file_extension": ".py",
   "mimetype": "text/x-python",
   "name": "python",
   "nbconvert_exporter": "python",
   "pygments_lexer": "ipython3",
   "version": "3.9.15 (main, Nov  4 2022, 16:13:54) \n[GCC 11.2.0]"
  },
  "orig_nbformat": 4,
  "vscode": {
   "interpreter": {
    "hash": "1ce37e01e4e25dad4acdf5a835a9fd4c67494d5c7616f20984ba493f320ae940"
   }
  }
 },
 "nbformat": 4,
 "nbformat_minor": 2
}
