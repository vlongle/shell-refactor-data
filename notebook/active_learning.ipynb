{
 "cells": [
  {
   "cell_type": "code",
   "execution_count": 1,
   "metadata": {},
   "outputs": [],
   "source": [
    "import os\n",
    "os.chdir(\"..\")"
   ]
  },
  {
   "cell_type": "code",
   "execution_count": 2,
   "metadata": {},
   "outputs": [
    {
     "name": "stderr",
     "output_type": "stream",
     "text": [
      "2023-02-05 16:57:56.760887: I tensorflow/core/platform/cpu_feature_guard.cc:193] This TensorFlow binary is optimized with oneAPI Deep Neural Network Library (oneDNN) to use the following CPU instructions in performance-critical operations:  AVX2 FMA\n",
      "To enable them in other operations, rebuild TensorFlow with the appropriate compiler flags.\n",
      "2023-02-05 16:57:57.321916: W tensorflow/compiler/xla/stream_executor/platform/default/dso_loader.cc:64] Could not load dynamic library 'libnvinfer.so.7'; dlerror: libnvinfer.so.7: cannot open shared object file: No such file or directory\n",
      "2023-02-05 16:57:57.321964: W tensorflow/compiler/xla/stream_executor/platform/default/dso_loader.cc:64] Could not load dynamic library 'libnvinfer_plugin.so.7'; dlerror: libnvinfer_plugin.so.7: cannot open shared object file: No such file or directory\n",
      "2023-02-05 16:57:57.321968: W tensorflow/compiler/tf2tensorrt/utils/py_utils.cc:38] TF-TRT Warning: Cannot dlopen some TensorRT libraries. If you would like to use Nvidia GPU with TensorRT, please make sure the missing libraries mentioned above are installed properly.\n",
      "Global seed set to 0\n"
     ]
    },
    {
     "data": {
      "text/plain": [
       "0"
      ]
     },
     "execution_count": 2,
     "metadata": {},
     "output_type": "execute_result"
    }
   ],
   "source": [
    "import time\n",
    "import pandas as pd\n",
    "from lightning_lite.utilities.seed import seed_everything\n",
    "from shell_data.dataset.dataset import get_train_val_test_subsets\n",
    "import torch\n",
    "import os\n",
    "from shell_data.utils.config import (\n",
    "    ShELLDataSharingConfig,\n",
    "    DatasetConfig,\n",
    "    TaskModelConfig,\n",
    "    TrainingConfig,\n",
    "    ExperienceReplayConfig,\n",
    "    DataValuationConfig,\n",
    "    RouterConfig,\n",
    "    BoltzmanExplorationConfig,\n",
    ")\n",
    "from shell_data.utils.record import Record, snapshot_perf, snapshot_conf_mat\n",
    "import numpy as np\n",
    "from shell_data.shell_agent.shell_agent_classification import ShELLClassificationAgent\n",
    "from itertools import combinations\n",
    "import umap\n",
    "from copy import deepcopy\n",
    "\n",
    "\n",
    "import matplotlib.pyplot as plt\n",
    "# import mplcyberpunk\n",
    "# plt.style.use(\"cyberpunk\")\n",
    "# plt.style.use('bmh')\n",
    "import seaborn as sns\n",
    "plt.style.use(\"fivethirtyeight\")\n",
    "# plt.style.use(\"xkcd\")\n",
    "sns.set_style(\"whitegrid\")\n",
    "from sklearn.metrics import confusion_matrix, ConfusionMatrixDisplay\n",
    "from sklearn.manifold import TSNE\n",
    "import random\n",
    "from IPython.core.interactiveshell import InteractiveShell\n",
    "InteractiveShell.ast_node_interactivity = \"all\"\n",
    "\n",
    "\n",
    "os.environ[\"CUBLAS_WORKSPACE_CONFIG\"] = \":16:8\"\n",
    "torch.use_deterministic_algorithms(True)\n",
    "seed_everything(0)"
   ]
  },
  {
   "cell_type": "code",
   "execution_count": 3,
   "metadata": {},
   "outputs": [],
   "source": [
    "# calculate the per-class accuracy from the confusion matrix\n",
    "def per_class_acc(conf_mat):\n",
    "    return np.diag(conf_mat) / conf_mat.sum(axis=1)\n",
    "\n",
    "def per_class_true_labels(conf_mat):\n",
    "    return conf_mat.sum(axis=1)\n",
    "\n",
    "def acc(conf_mat):\n",
    "    # total accuracy\n",
    "    return np.diag(conf_mat).sum() / conf_mat.sum()\n",
    "\n",
    "def predicted_cls_freq(conf_mat):\n",
    "    # frequency that a class is predicted\n",
    "    return conf_mat.sum(axis=0) / conf_mat.sum()\n",
    "\n",
    "\n",
    "def to_features(X):\n",
    "    return X.view(X.size(0), -1)"
   ]
  },
  {
   "cell_type": "code",
   "execution_count": 4,
   "metadata": {},
   "outputs": [],
   "source": [
    "def load_snapshot_conf_mats(record_name, ll_time):\n",
    "    train_conf = np.load(f\"{record_name}_train_conf_mat_{ll_time}.npy\")\n",
    "    test_conf = np.load(f\"{record_name}_test_conf_mat_{ll_time}.npy\")\n",
    "    val_conf = np.load(f\"{record_name}_val_conf_mat_{ll_time}.npy\")\n",
    "    return train_conf, test_conf, val_conf"
   ]
  },
  {
   "cell_type": "code",
   "execution_count": 5,
   "metadata": {},
   "outputs": [],
   "source": [
    "def summarize_conf(conf_mat):\n",
    "    return {\n",
    "        \"acc\": acc(conf_mat),\n",
    "        \"per_class_acc\": per_class_acc(conf_mat),\n",
    "        \"per_class_true_labels\": per_class_true_labels(conf_mat),\n",
    "        \"predicted_cls_freq\": predicted_cls_freq(conf_mat),\n",
    "    }\n",
    "\n",
    "\n",
    "def summarize_confs(confs, names):\n",
    "    # return 3 dfs: first df has acc follows by per_class_acc\n",
    "    # second df has per_class_true_lables\n",
    "    # third has predicted_cls_freq\n",
    "    df1 = pd.DataFrame(columns=[\"name\", \"acc\"] + [f\"per_class_acc_{i}\" for i in range(10)])\n",
    "    df2 = pd.DataFrame(columns=[\"name\"] + [f\"per_class_true_labels_{i}\" for i in range(10)])\n",
    "    df3 = pd.DataFrame(columns=[\"name\"] + [f\"predicted_cls_freq_{i}\" for i in range(10)])\n",
    "    # summarize the confs first\n",
    "    sums = [summarize_conf(conf) for conf in confs]\n",
    "    for i, name in enumerate(names):\n",
    "        df1.loc[i] = [name] + [sums[i][\"acc\"]] + list(sums[i][\"per_class_acc\"])\n",
    "        df2.loc[i] = [name] + list(sums[i][\"per_class_true_labels\"])\n",
    "        df3.loc[i] = [name] + list(sums[i][\"predicted_cls_freq\"])\n",
    "    return df1, df2, df3\n"
   ]
  },
  {
   "cell_type": "code",
   "execution_count": 6,
   "metadata": {},
   "outputs": [],
   "source": [
    "def viz_conf(conf, name=\"\"):\n",
    "    fig, ax = plt.subplots(figsize=(10, 7))\n",
    "    ConfusionMatrixDisplay(conf).plot(cmap=\"Blues\", values_format=\"\", ax=ax);\n",
    "    plt.title(name)\n",
    "    print(\"accuracy\", per_class_acc(conf))\n",
    "    print(\"overall accuracy\", acc(conf));\n",
    "    print(\"predicted freq:\", predicted_cls_freq(conf))"
   ]
  },
  {
   "attachments": {},
   "cell_type": "markdown",
   "metadata": {},
   "source": [
    "## Setup"
   ]
  },
  {
   "cell_type": "code",
   "execution_count": 7,
   "metadata": {},
   "outputs": [],
   "source": [
    "num_cls_per_task = 5\n",
    "n_agents = 2\n",
    "num_task_per_life = 2\n",
    "buffer_integration_size = 50000  # sample all!\n",
    "batch_size = 32\n",
    "size = 64\n",
    "routing_method = \"random\"\n",
    "\n",
    "dataset_name = \"mnist\""
   ]
  },
  {
   "cell_type": "code",
   "execution_count": 8,
   "metadata": {},
   "outputs": [],
   "source": [
    "RES_LL_TIME = 0"
   ]
  },
  {
   "cell_type": "code",
   "execution_count": 9,
   "metadata": {},
   "outputs": [],
   "source": [
    "train_subsets, val_subsets, test_subsets = get_train_val_test_subsets(\n",
    "        dataset_name)"
   ]
  },
  {
   "cell_type": "code",
   "execution_count": 10,
   "metadata": {},
   "outputs": [],
   "source": [
    "cfg = ShELLDataSharingConfig(\n",
    "        n_agents=n_agents,\n",
    "        dataset=DatasetConfig(\n",
    "            name=dataset_name,\n",
    "            train_size=size,\n",
    "            test_size=1.0,\n",
    "            val_size=size//2,\n",
    "            num_task_per_life=num_task_per_life,\n",
    "            num_cls_per_task=num_cls_per_task,\n",
    "        ),\n",
    "        task_model=TaskModelConfig(\n",
    "            name=dataset_name,\n",
    "        ),\n",
    "        training=TrainingConfig(\n",
    "            n_epochs=50,\n",
    "            batch_size=batch_size,\n",
    "            patience=1000,\n",
    "            val_every_n_epoch=1,\n",
    "        ),\n",
    "        experience_replay=ExperienceReplayConfig(\n",
    "            buffer_size=buffer_integration_size,\n",
    "        ),\n",
    "          router=RouterConfig(\n",
    "            strategy=routing_method,  # control how the sender decides which data point to send\n",
    "            num_batches=1,\n",
    "            estimator_task_model=TaskModelConfig(\n",
    "                name=dataset_name,\n",
    "            ),\n",
    "            n_heads=n_agents,\n",
    "          ),\n",
    "    )"
   ]
  },
  {
   "cell_type": "code",
   "execution_count": 11,
   "metadata": {},
   "outputs": [
    {
     "name": "stdout",
     "output_type": "stream",
     "text": [
      "train_size: 64, num_cls_per_task: 5\n"
     ]
    }
   ],
   "source": [
    "receiver = ShELLClassificationAgent(\n",
    "        train_subsets, val_subsets, test_subsets, cfg)"
   ]
  },
  {
   "cell_type": "code",
   "execution_count": 12,
   "metadata": {},
   "outputs": [
    {
     "name": "stdout",
     "output_type": "stream",
     "text": [
      "train_size: 64, num_cls_per_task: 5\n"
     ]
    }
   ],
   "source": [
    "sender_cfg = deepcopy(cfg)\n",
    "# sender_cfg.dataset.train_size = 1.0 # all of the data for testing purposes...\n",
    "sender = ShELLClassificationAgent(\n",
    "        train_subsets, val_subsets, test_subsets, sender_cfg)"
   ]
  },
  {
   "cell_type": "code",
   "execution_count": 13,
   "metadata": {},
   "outputs": [],
   "source": [
    "receiver.ll_dataset.perm = torch.tensor([0, 1, 3, 4, 9,     2, 5, 6, 7, 8])\n",
    "sender.ll_dataset.perm = torch.tensor([0, 4, 9, 2, 5,       1, 3, 6, 7, 8])\n",
    "\n",
    "# intersection be 0, 4, 9 (and 2 out of distribution!)\n",
    "\n",
    "receiver.init_model_router()\n",
    "sender.init_model_router()"
   ]
  },
  {
   "cell_type": "code",
   "execution_count": 14,
   "metadata": {},
   "outputs": [],
   "source": [
    "snapshot_conf_mat(receiver, ll_time=RES_LL_TIME, record_name=\"before_active_learning\")"
   ]
  },
  {
   "cell_type": "code",
   "execution_count": 15,
   "metadata": {},
   "outputs": [
    {
     "name": "stdout",
     "output_type": "stream",
     "text": [
      "Going to load...\n"
     ]
    }
   ],
   "source": [
    "if os.path.exists(\"active_learning.pt\"):\n",
    "    print(\"Going to load...\")\n",
    "    receiver.load_model(\"active_learning.pt\")\n",
    "    receiver.load_buffer(\"active_learning_0\")\n",
    "else:\n",
    "    print(\"Going to train...\")\n",
    "    receiver.learn_task(0, metric=\"val_acc\", record_name=\"active_learning.csv\")\n",
    "    receiver.save_model(\"active_learning.pt\")\n",
    "    receiver.save_buffer(\"active_learning_0\")"
   ]
  },
  {
   "cell_type": "code",
   "execution_count": 16,
   "metadata": {},
   "outputs": [],
   "source": [
    "snapshot_conf_mat(receiver, ll_time=RES_LL_TIME, record_name=\"active_learning\")"
   ]
  },
  {
   "attachments": {},
   "cell_type": "markdown",
   "metadata": {},
   "source": [
    "## Learning Curve"
   ]
  },
  {
   "cell_type": "code",
   "execution_count": null,
   "metadata": {},
   "outputs": [],
   "source": [
    "df = pd.read_csv(f\"active_learning.csv\")\n",
    "# shortened = df.iloc[15:]\n",
    "shortened = df.iloc[:]\n",
    "shortened.plot(x=\"epoch\", y=[\"train_acc\", \"val_acc\", \"test_acc\"]);\n",
    "print(f\"final val acc: {df['val_acc'].iloc[-1]:.3f} best val acc: {df['val_acc'].max():.3f} @ epoch {df['epoch'][df['val_acc'].idxmax()]}\")\n",
    "print(f\"final test acc: {df['test_acc'].iloc[-1]:.3f} best test acc: {df['test_acc'].max():.3f} @ epoch {df['epoch'][df['test_acc'].idxmax()]}\")\n",
    "print(f\"Train accuracy at best val accuracy: {df['train_acc'][df['val_acc'].idxmax()]:.3f}\")"
   ]
  },
  {
   "cell_type": "code",
   "execution_count": 36,
   "metadata": {},
   "outputs": [],
   "source": [
    "train, test, val = load_snapshot_conf_mats(\"active_learning\", RES_LL_TIME)\n",
    "train_before, test_before, val_before = load_snapshot_conf_mats(\"before_active_learning\", RES_LL_TIME)"
   ]
  },
  {
   "cell_type": "code",
   "execution_count": 37,
   "metadata": {},
   "outputs": [
    {
     "name": "stderr",
     "output_type": "stream",
     "text": [
      "/tmp/ipykernel_2446859/4123088172.py:3: RuntimeWarning: invalid value encountered in divide\n",
      "  return np.diag(conf_mat) / conf_mat.sum(axis=1)\n"
     ]
    },
    {
     "data": {
      "text/html": [
       "<div>\n",
       "<style scoped>\n",
       "    .dataframe tbody tr th:only-of-type {\n",
       "        vertical-align: middle;\n",
       "    }\n",
       "\n",
       "    .dataframe tbody tr th {\n",
       "        vertical-align: top;\n",
       "    }\n",
       "\n",
       "    .dataframe thead th {\n",
       "        text-align: right;\n",
       "    }\n",
       "</style>\n",
       "<table border=\"1\" class=\"dataframe\">\n",
       "  <thead>\n",
       "    <tr style=\"text-align: right;\">\n",
       "      <th></th>\n",
       "      <th>name</th>\n",
       "      <th>acc</th>\n",
       "      <th>per_class_acc_0</th>\n",
       "      <th>per_class_acc_1</th>\n",
       "      <th>per_class_acc_2</th>\n",
       "      <th>per_class_acc_3</th>\n",
       "      <th>per_class_acc_4</th>\n",
       "      <th>per_class_acc_5</th>\n",
       "      <th>per_class_acc_6</th>\n",
       "      <th>per_class_acc_7</th>\n",
       "      <th>per_class_acc_8</th>\n",
       "      <th>per_class_acc_9</th>\n",
       "    </tr>\n",
       "  </thead>\n",
       "  <tbody>\n",
       "    <tr>\n",
       "      <th>0</th>\n",
       "      <td>train_before</td>\n",
       "      <td>0.021875</td>\n",
       "      <td>0.0</td>\n",
       "      <td>0.0</td>\n",
       "      <td>NaN</td>\n",
       "      <td>0.0</td>\n",
       "      <td>0.0</td>\n",
       "      <td>NaN</td>\n",
       "      <td>NaN</td>\n",
       "      <td>NaN</td>\n",
       "      <td>NaN</td>\n",
       "      <td>0.109375</td>\n",
       "    </tr>\n",
       "    <tr>\n",
       "      <th>1</th>\n",
       "      <td>test_before</td>\n",
       "      <td>0.023651</td>\n",
       "      <td>0.0</td>\n",
       "      <td>0.0</td>\n",
       "      <td>NaN</td>\n",
       "      <td>0.0</td>\n",
       "      <td>0.0</td>\n",
       "      <td>NaN</td>\n",
       "      <td>NaN</td>\n",
       "      <td>NaN</td>\n",
       "      <td>NaN</td>\n",
       "      <td>0.119921</td>\n",
       "    </tr>\n",
       "    <tr>\n",
       "      <th>2</th>\n",
       "      <td>val_before</td>\n",
       "      <td>0.018750</td>\n",
       "      <td>0.0</td>\n",
       "      <td>0.0</td>\n",
       "      <td>NaN</td>\n",
       "      <td>0.0</td>\n",
       "      <td>0.0</td>\n",
       "      <td>NaN</td>\n",
       "      <td>NaN</td>\n",
       "      <td>NaN</td>\n",
       "      <td>NaN</td>\n",
       "      <td>0.093750</td>\n",
       "    </tr>\n",
       "  </tbody>\n",
       "</table>\n",
       "</div>"
      ],
      "text/plain": [
       "           name       acc  per_class_acc_0  per_class_acc_1  per_class_acc_2  \\\n",
       "0  train_before  0.021875              0.0              0.0              NaN   \n",
       "1   test_before  0.023651              0.0              0.0              NaN   \n",
       "2    val_before  0.018750              0.0              0.0              NaN   \n",
       "\n",
       "   per_class_acc_3  per_class_acc_4  per_class_acc_5  per_class_acc_6  \\\n",
       "0              0.0              0.0              NaN              NaN   \n",
       "1              0.0              0.0              NaN              NaN   \n",
       "2              0.0              0.0              NaN              NaN   \n",
       "\n",
       "   per_class_acc_7  per_class_acc_8  per_class_acc_9  \n",
       "0              NaN              NaN         0.109375  \n",
       "1              NaN              NaN         0.119921  \n",
       "2              NaN              NaN         0.093750  "
      ]
     },
     "execution_count": 37,
     "metadata": {},
     "output_type": "execute_result"
    },
    {
     "data": {
      "text/html": [
       "<div>\n",
       "<style scoped>\n",
       "    .dataframe tbody tr th:only-of-type {\n",
       "        vertical-align: middle;\n",
       "    }\n",
       "\n",
       "    .dataframe tbody tr th {\n",
       "        vertical-align: top;\n",
       "    }\n",
       "\n",
       "    .dataframe thead th {\n",
       "        text-align: right;\n",
       "    }\n",
       "</style>\n",
       "<table border=\"1\" class=\"dataframe\">\n",
       "  <thead>\n",
       "    <tr style=\"text-align: right;\">\n",
       "      <th></th>\n",
       "      <th>name</th>\n",
       "      <th>per_class_true_labels_0</th>\n",
       "      <th>per_class_true_labels_1</th>\n",
       "      <th>per_class_true_labels_2</th>\n",
       "      <th>per_class_true_labels_3</th>\n",
       "      <th>per_class_true_labels_4</th>\n",
       "      <th>per_class_true_labels_5</th>\n",
       "      <th>per_class_true_labels_6</th>\n",
       "      <th>per_class_true_labels_7</th>\n",
       "      <th>per_class_true_labels_8</th>\n",
       "      <th>per_class_true_labels_9</th>\n",
       "    </tr>\n",
       "  </thead>\n",
       "  <tbody>\n",
       "    <tr>\n",
       "      <th>0</th>\n",
       "      <td>train_before</td>\n",
       "      <td>64.0</td>\n",
       "      <td>64.0</td>\n",
       "      <td>0.0</td>\n",
       "      <td>64.0</td>\n",
       "      <td>64.0</td>\n",
       "      <td>0.0</td>\n",
       "      <td>0.0</td>\n",
       "      <td>0.0</td>\n",
       "      <td>0.0</td>\n",
       "      <td>64.0</td>\n",
       "    </tr>\n",
       "    <tr>\n",
       "      <th>1</th>\n",
       "      <td>test_before</td>\n",
       "      <td>980.0</td>\n",
       "      <td>1135.0</td>\n",
       "      <td>0.0</td>\n",
       "      <td>1010.0</td>\n",
       "      <td>982.0</td>\n",
       "      <td>0.0</td>\n",
       "      <td>0.0</td>\n",
       "      <td>0.0</td>\n",
       "      <td>0.0</td>\n",
       "      <td>1009.0</td>\n",
       "    </tr>\n",
       "    <tr>\n",
       "      <th>2</th>\n",
       "      <td>val_before</td>\n",
       "      <td>32.0</td>\n",
       "      <td>32.0</td>\n",
       "      <td>0.0</td>\n",
       "      <td>32.0</td>\n",
       "      <td>32.0</td>\n",
       "      <td>0.0</td>\n",
       "      <td>0.0</td>\n",
       "      <td>0.0</td>\n",
       "      <td>0.0</td>\n",
       "      <td>32.0</td>\n",
       "    </tr>\n",
       "  </tbody>\n",
       "</table>\n",
       "</div>"
      ],
      "text/plain": [
       "           name  per_class_true_labels_0  per_class_true_labels_1  \\\n",
       "0  train_before                     64.0                     64.0   \n",
       "1   test_before                    980.0                   1135.0   \n",
       "2    val_before                     32.0                     32.0   \n",
       "\n",
       "   per_class_true_labels_2  per_class_true_labels_3  per_class_true_labels_4  \\\n",
       "0                      0.0                     64.0                     64.0   \n",
       "1                      0.0                   1010.0                    982.0   \n",
       "2                      0.0                     32.0                     32.0   \n",
       "\n",
       "   per_class_true_labels_5  per_class_true_labels_6  per_class_true_labels_7  \\\n",
       "0                      0.0                      0.0                      0.0   \n",
       "1                      0.0                      0.0                      0.0   \n",
       "2                      0.0                      0.0                      0.0   \n",
       "\n",
       "   per_class_true_labels_8  per_class_true_labels_9  \n",
       "0                      0.0                     64.0  \n",
       "1                      0.0                   1009.0  \n",
       "2                      0.0                     32.0  "
      ]
     },
     "execution_count": 37,
     "metadata": {},
     "output_type": "execute_result"
    },
    {
     "data": {
      "text/html": [
       "<div>\n",
       "<style scoped>\n",
       "    .dataframe tbody tr th:only-of-type {\n",
       "        vertical-align: middle;\n",
       "    }\n",
       "\n",
       "    .dataframe tbody tr th {\n",
       "        vertical-align: top;\n",
       "    }\n",
       "\n",
       "    .dataframe thead th {\n",
       "        text-align: right;\n",
       "    }\n",
       "</style>\n",
       "<table border=\"1\" class=\"dataframe\">\n",
       "  <thead>\n",
       "    <tr style=\"text-align: right;\">\n",
       "      <th></th>\n",
       "      <th>name</th>\n",
       "      <th>predicted_cls_freq_0</th>\n",
       "      <th>predicted_cls_freq_1</th>\n",
       "      <th>predicted_cls_freq_2</th>\n",
       "      <th>predicted_cls_freq_3</th>\n",
       "      <th>predicted_cls_freq_4</th>\n",
       "      <th>predicted_cls_freq_5</th>\n",
       "      <th>predicted_cls_freq_6</th>\n",
       "      <th>predicted_cls_freq_7</th>\n",
       "      <th>predicted_cls_freq_8</th>\n",
       "      <th>predicted_cls_freq_9</th>\n",
       "    </tr>\n",
       "  </thead>\n",
       "  <tbody>\n",
       "    <tr>\n",
       "      <th>0</th>\n",
       "      <td>train_before</td>\n",
       "      <td>0.0</td>\n",
       "      <td>0.0</td>\n",
       "      <td>0.025000</td>\n",
       "      <td>0.0</td>\n",
       "      <td>0.0</td>\n",
       "      <td>0.0</td>\n",
       "      <td>0.0</td>\n",
       "      <td>0.0</td>\n",
       "      <td>0.750000</td>\n",
       "      <td>0.225000</td>\n",
       "    </tr>\n",
       "    <tr>\n",
       "      <th>1</th>\n",
       "      <td>test_before</td>\n",
       "      <td>0.0</td>\n",
       "      <td>0.0</td>\n",
       "      <td>0.033229</td>\n",
       "      <td>0.0</td>\n",
       "      <td>0.0</td>\n",
       "      <td>0.0</td>\n",
       "      <td>0.0</td>\n",
       "      <td>0.0</td>\n",
       "      <td>0.717162</td>\n",
       "      <td>0.249609</td>\n",
       "    </tr>\n",
       "    <tr>\n",
       "      <th>2</th>\n",
       "      <td>val_before</td>\n",
       "      <td>0.0</td>\n",
       "      <td>0.0</td>\n",
       "      <td>0.018750</td>\n",
       "      <td>0.0</td>\n",
       "      <td>0.0</td>\n",
       "      <td>0.0</td>\n",
       "      <td>0.0</td>\n",
       "      <td>0.0</td>\n",
       "      <td>0.737500</td>\n",
       "      <td>0.243750</td>\n",
       "    </tr>\n",
       "  </tbody>\n",
       "</table>\n",
       "</div>"
      ],
      "text/plain": [
       "           name  predicted_cls_freq_0  predicted_cls_freq_1  \\\n",
       "0  train_before                   0.0                   0.0   \n",
       "1   test_before                   0.0                   0.0   \n",
       "2    val_before                   0.0                   0.0   \n",
       "\n",
       "   predicted_cls_freq_2  predicted_cls_freq_3  predicted_cls_freq_4  \\\n",
       "0              0.025000                   0.0                   0.0   \n",
       "1              0.033229                   0.0                   0.0   \n",
       "2              0.018750                   0.0                   0.0   \n",
       "\n",
       "   predicted_cls_freq_5  predicted_cls_freq_6  predicted_cls_freq_7  \\\n",
       "0                   0.0                   0.0                   0.0   \n",
       "1                   0.0                   0.0                   0.0   \n",
       "2                   0.0                   0.0                   0.0   \n",
       "\n",
       "   predicted_cls_freq_8  predicted_cls_freq_9  \n",
       "0              0.750000              0.225000  \n",
       "1              0.717162              0.249609  \n",
       "2              0.737500              0.243750  "
      ]
     },
     "execution_count": 37,
     "metadata": {},
     "output_type": "execute_result"
    }
   ],
   "source": [
    "df1, df2, df3 = summarize_confs([train_before, test_before, val_before], [\"train_before\", \"test_before\", \"val_before\"])\n",
    "df1\n",
    "df2\n",
    "df3"
   ]
  },
  {
   "cell_type": "code",
   "execution_count": 38,
   "metadata": {},
   "outputs": [
    {
     "name": "stderr",
     "output_type": "stream",
     "text": [
      "/tmp/ipykernel_2446859/4123088172.py:3: RuntimeWarning: invalid value encountered in divide\n",
      "  return np.diag(conf_mat) / conf_mat.sum(axis=1)\n"
     ]
    },
    {
     "data": {
      "text/html": [
       "<div>\n",
       "<style scoped>\n",
       "    .dataframe tbody tr th:only-of-type {\n",
       "        vertical-align: middle;\n",
       "    }\n",
       "\n",
       "    .dataframe tbody tr th {\n",
       "        vertical-align: top;\n",
       "    }\n",
       "\n",
       "    .dataframe thead th {\n",
       "        text-align: right;\n",
       "    }\n",
       "</style>\n",
       "<table border=\"1\" class=\"dataframe\">\n",
       "  <thead>\n",
       "    <tr style=\"text-align: right;\">\n",
       "      <th></th>\n",
       "      <th>name</th>\n",
       "      <th>acc</th>\n",
       "      <th>per_class_acc_0</th>\n",
       "      <th>per_class_acc_1</th>\n",
       "      <th>per_class_acc_2</th>\n",
       "      <th>per_class_acc_3</th>\n",
       "      <th>per_class_acc_4</th>\n",
       "      <th>per_class_acc_5</th>\n",
       "      <th>per_class_acc_6</th>\n",
       "      <th>per_class_acc_7</th>\n",
       "      <th>per_class_acc_8</th>\n",
       "      <th>per_class_acc_9</th>\n",
       "    </tr>\n",
       "  </thead>\n",
       "  <tbody>\n",
       "    <tr>\n",
       "      <th>0</th>\n",
       "      <td>train</td>\n",
       "      <td>0.965625</td>\n",
       "      <td>1.000000</td>\n",
       "      <td>0.984375</td>\n",
       "      <td>NaN</td>\n",
       "      <td>1.000000</td>\n",
       "      <td>0.953125</td>\n",
       "      <td>NaN</td>\n",
       "      <td>NaN</td>\n",
       "      <td>NaN</td>\n",
       "      <td>NaN</td>\n",
       "      <td>0.890625</td>\n",
       "    </tr>\n",
       "    <tr>\n",
       "      <th>1</th>\n",
       "      <td>test</td>\n",
       "      <td>0.940188</td>\n",
       "      <td>0.967347</td>\n",
       "      <td>0.974449</td>\n",
       "      <td>NaN</td>\n",
       "      <td>0.957426</td>\n",
       "      <td>0.892057</td>\n",
       "      <td>NaN</td>\n",
       "      <td>NaN</td>\n",
       "      <td>NaN</td>\n",
       "      <td>NaN</td>\n",
       "      <td>0.904856</td>\n",
       "    </tr>\n",
       "    <tr>\n",
       "      <th>2</th>\n",
       "      <td>val</td>\n",
       "      <td>0.925000</td>\n",
       "      <td>1.000000</td>\n",
       "      <td>0.906250</td>\n",
       "      <td>NaN</td>\n",
       "      <td>0.906250</td>\n",
       "      <td>0.906250</td>\n",
       "      <td>NaN</td>\n",
       "      <td>NaN</td>\n",
       "      <td>NaN</td>\n",
       "      <td>NaN</td>\n",
       "      <td>0.906250</td>\n",
       "    </tr>\n",
       "  </tbody>\n",
       "</table>\n",
       "</div>"
      ],
      "text/plain": [
       "    name       acc  per_class_acc_0  per_class_acc_1  per_class_acc_2  \\\n",
       "0  train  0.965625         1.000000         0.984375              NaN   \n",
       "1   test  0.940188         0.967347         0.974449              NaN   \n",
       "2    val  0.925000         1.000000         0.906250              NaN   \n",
       "\n",
       "   per_class_acc_3  per_class_acc_4  per_class_acc_5  per_class_acc_6  \\\n",
       "0         1.000000         0.953125              NaN              NaN   \n",
       "1         0.957426         0.892057              NaN              NaN   \n",
       "2         0.906250         0.906250              NaN              NaN   \n",
       "\n",
       "   per_class_acc_7  per_class_acc_8  per_class_acc_9  \n",
       "0              NaN              NaN         0.890625  \n",
       "1              NaN              NaN         0.904856  \n",
       "2              NaN              NaN         0.906250  "
      ]
     },
     "execution_count": 38,
     "metadata": {},
     "output_type": "execute_result"
    },
    {
     "data": {
      "text/html": [
       "<div>\n",
       "<style scoped>\n",
       "    .dataframe tbody tr th:only-of-type {\n",
       "        vertical-align: middle;\n",
       "    }\n",
       "\n",
       "    .dataframe tbody tr th {\n",
       "        vertical-align: top;\n",
       "    }\n",
       "\n",
       "    .dataframe thead th {\n",
       "        text-align: right;\n",
       "    }\n",
       "</style>\n",
       "<table border=\"1\" class=\"dataframe\">\n",
       "  <thead>\n",
       "    <tr style=\"text-align: right;\">\n",
       "      <th></th>\n",
       "      <th>name</th>\n",
       "      <th>per_class_true_labels_0</th>\n",
       "      <th>per_class_true_labels_1</th>\n",
       "      <th>per_class_true_labels_2</th>\n",
       "      <th>per_class_true_labels_3</th>\n",
       "      <th>per_class_true_labels_4</th>\n",
       "      <th>per_class_true_labels_5</th>\n",
       "      <th>per_class_true_labels_6</th>\n",
       "      <th>per_class_true_labels_7</th>\n",
       "      <th>per_class_true_labels_8</th>\n",
       "      <th>per_class_true_labels_9</th>\n",
       "    </tr>\n",
       "  </thead>\n",
       "  <tbody>\n",
       "    <tr>\n",
       "      <th>0</th>\n",
       "      <td>train</td>\n",
       "      <td>64.0</td>\n",
       "      <td>64.0</td>\n",
       "      <td>0.0</td>\n",
       "      <td>64.0</td>\n",
       "      <td>64.0</td>\n",
       "      <td>0.0</td>\n",
       "      <td>0.0</td>\n",
       "      <td>0.0</td>\n",
       "      <td>0.0</td>\n",
       "      <td>64.0</td>\n",
       "    </tr>\n",
       "    <tr>\n",
       "      <th>1</th>\n",
       "      <td>test</td>\n",
       "      <td>980.0</td>\n",
       "      <td>1135.0</td>\n",
       "      <td>0.0</td>\n",
       "      <td>1010.0</td>\n",
       "      <td>982.0</td>\n",
       "      <td>0.0</td>\n",
       "      <td>0.0</td>\n",
       "      <td>0.0</td>\n",
       "      <td>0.0</td>\n",
       "      <td>1009.0</td>\n",
       "    </tr>\n",
       "    <tr>\n",
       "      <th>2</th>\n",
       "      <td>val</td>\n",
       "      <td>32.0</td>\n",
       "      <td>32.0</td>\n",
       "      <td>0.0</td>\n",
       "      <td>32.0</td>\n",
       "      <td>32.0</td>\n",
       "      <td>0.0</td>\n",
       "      <td>0.0</td>\n",
       "      <td>0.0</td>\n",
       "      <td>0.0</td>\n",
       "      <td>32.0</td>\n",
       "    </tr>\n",
       "  </tbody>\n",
       "</table>\n",
       "</div>"
      ],
      "text/plain": [
       "    name  per_class_true_labels_0  per_class_true_labels_1  \\\n",
       "0  train                     64.0                     64.0   \n",
       "1   test                    980.0                   1135.0   \n",
       "2    val                     32.0                     32.0   \n",
       "\n",
       "   per_class_true_labels_2  per_class_true_labels_3  per_class_true_labels_4  \\\n",
       "0                      0.0                     64.0                     64.0   \n",
       "1                      0.0                   1010.0                    982.0   \n",
       "2                      0.0                     32.0                     32.0   \n",
       "\n",
       "   per_class_true_labels_5  per_class_true_labels_6  per_class_true_labels_7  \\\n",
       "0                      0.0                      0.0                      0.0   \n",
       "1                      0.0                      0.0                      0.0   \n",
       "2                      0.0                      0.0                      0.0   \n",
       "\n",
       "   per_class_true_labels_8  per_class_true_labels_9  \n",
       "0                      0.0                     64.0  \n",
       "1                      0.0                   1009.0  \n",
       "2                      0.0                     32.0  "
      ]
     },
     "execution_count": 38,
     "metadata": {},
     "output_type": "execute_result"
    },
    {
     "data": {
      "text/html": [
       "<div>\n",
       "<style scoped>\n",
       "    .dataframe tbody tr th:only-of-type {\n",
       "        vertical-align: middle;\n",
       "    }\n",
       "\n",
       "    .dataframe tbody tr th {\n",
       "        vertical-align: top;\n",
       "    }\n",
       "\n",
       "    .dataframe thead th {\n",
       "        text-align: right;\n",
       "    }\n",
       "</style>\n",
       "<table border=\"1\" class=\"dataframe\">\n",
       "  <thead>\n",
       "    <tr style=\"text-align: right;\">\n",
       "      <th></th>\n",
       "      <th>name</th>\n",
       "      <th>predicted_cls_freq_0</th>\n",
       "      <th>predicted_cls_freq_1</th>\n",
       "      <th>predicted_cls_freq_2</th>\n",
       "      <th>predicted_cls_freq_3</th>\n",
       "      <th>predicted_cls_freq_4</th>\n",
       "      <th>predicted_cls_freq_5</th>\n",
       "      <th>predicted_cls_freq_6</th>\n",
       "      <th>predicted_cls_freq_7</th>\n",
       "      <th>predicted_cls_freq_8</th>\n",
       "      <th>predicted_cls_freq_9</th>\n",
       "    </tr>\n",
       "  </thead>\n",
       "  <tbody>\n",
       "    <tr>\n",
       "      <th>0</th>\n",
       "      <td>train</td>\n",
       "      <td>0.200000</td>\n",
       "      <td>0.203125</td>\n",
       "      <td>0.0</td>\n",
       "      <td>0.206250</td>\n",
       "      <td>0.203125</td>\n",
       "      <td>0.0</td>\n",
       "      <td>0.0</td>\n",
       "      <td>0.0</td>\n",
       "      <td>0.0</td>\n",
       "      <td>0.187500</td>\n",
       "    </tr>\n",
       "    <tr>\n",
       "      <th>1</th>\n",
       "      <td>test</td>\n",
       "      <td>0.189601</td>\n",
       "      <td>0.221853</td>\n",
       "      <td>0.0</td>\n",
       "      <td>0.207389</td>\n",
       "      <td>0.181001</td>\n",
       "      <td>0.0</td>\n",
       "      <td>0.0</td>\n",
       "      <td>0.0</td>\n",
       "      <td>0.0</td>\n",
       "      <td>0.200156</td>\n",
       "    </tr>\n",
       "    <tr>\n",
       "      <th>2</th>\n",
       "      <td>val</td>\n",
       "      <td>0.200000</td>\n",
       "      <td>0.193750</td>\n",
       "      <td>0.0</td>\n",
       "      <td>0.218750</td>\n",
       "      <td>0.187500</td>\n",
       "      <td>0.0</td>\n",
       "      <td>0.0</td>\n",
       "      <td>0.0</td>\n",
       "      <td>0.0</td>\n",
       "      <td>0.200000</td>\n",
       "    </tr>\n",
       "  </tbody>\n",
       "</table>\n",
       "</div>"
      ],
      "text/plain": [
       "    name  predicted_cls_freq_0  predicted_cls_freq_1  predicted_cls_freq_2  \\\n",
       "0  train              0.200000              0.203125                   0.0   \n",
       "1   test              0.189601              0.221853                   0.0   \n",
       "2    val              0.200000              0.193750                   0.0   \n",
       "\n",
       "   predicted_cls_freq_3  predicted_cls_freq_4  predicted_cls_freq_5  \\\n",
       "0              0.206250              0.203125                   0.0   \n",
       "1              0.207389              0.181001                   0.0   \n",
       "2              0.218750              0.187500                   0.0   \n",
       "\n",
       "   predicted_cls_freq_6  predicted_cls_freq_7  predicted_cls_freq_8  \\\n",
       "0                   0.0                   0.0                   0.0   \n",
       "1                   0.0                   0.0                   0.0   \n",
       "2                   0.0                   0.0                   0.0   \n",
       "\n",
       "   predicted_cls_freq_9  \n",
       "0              0.187500  \n",
       "1              0.200156  \n",
       "2              0.200000  "
      ]
     },
     "execution_count": 38,
     "metadata": {},
     "output_type": "execute_result"
    }
   ],
   "source": [
    "df1, df2, df3 = summarize_confs([train, test, val], [\"train\", \"test\", \"val\"])\n",
    "df1\n",
    "df2\n",
    "df3"
   ]
  },
  {
   "attachments": {},
   "cell_type": "markdown",
   "metadata": {},
   "source": [
    "## Confusion Matrix"
   ]
  },
  {
   "attachments": {},
   "cell_type": "markdown",
   "metadata": {},
   "source": [
    "### Before"
   ]
  },
  {
   "cell_type": "code",
   "execution_count": null,
   "metadata": {},
   "outputs": [],
   "source": [
    "fig, ax = plt.subplots(figsize=(10, 7))\n",
    "ConfusionMatrixDisplay(train_before).plot(cmap=\"Blues\", values_format=\"\", ax=ax);\n",
    "plt.title(\"Train Confusion Matrix Before Training\");\n",
    "print(\"accuracy\", per_class_acc(train_before))\n",
    "print(\"overall accuracy\", acc(train_before));\n",
    "print(\"predicted freq:\", predicted_cls_freq(train_before))"
   ]
  },
  {
   "cell_type": "code",
   "execution_count": null,
   "metadata": {},
   "outputs": [],
   "source": [
    "fig, ax = plt.subplots(figsize=(10, 7))\n",
    "ConfusionMatrixDisplay(test_before).plot(cmap=\"Blues\", values_format=\"\", ax=ax);\n",
    "plt.title(\"Test Confusion Matrix Before Training\");\n",
    "print(\"accuracy\", per_class_acc(test_before))\n",
    "print(\"overall accuracy\", acc(test_before));\n",
    "print(\"predicted freq:\", predicted_cls_freq(test_before))"
   ]
  },
  {
   "cell_type": "code",
   "execution_count": null,
   "metadata": {},
   "outputs": [],
   "source": [
    "fig, ax = plt.subplots(figsize=(10, 7))\n",
    "ConfusionMatrixDisplay(val_before).plot(cmap=\"Blues\", values_format=\"\", ax=ax);\n",
    "plt.title(\"Val Confusion Matrix Before Training\");\n",
    "print(\"accuracy\", per_class_acc(val_before))\n",
    "print(\"overall accuracy\", acc(val_before));\n",
    "print(\"predicted freq:\", predicted_cls_freq(val_before))"
   ]
  },
  {
   "attachments": {},
   "cell_type": "markdown",
   "metadata": {},
   "source": [
    "### After"
   ]
  },
  {
   "cell_type": "code",
   "execution_count": null,
   "metadata": {},
   "outputs": [],
   "source": [
    "fig, ax = plt.subplots(figsize=(10, 7))\n",
    "ConfusionMatrixDisplay(train).plot(cmap=\"Blues\", values_format=\"\", ax=ax);\n",
    "plt.title(\"Train Confusion Matrix Before Training\");\n",
    "print(per_class_acc(train))\n",
    "print(acc(train));\n",
    "print(predicted_cls_freq(train))"
   ]
  },
  {
   "cell_type": "code",
   "execution_count": null,
   "metadata": {},
   "outputs": [],
   "source": [
    "fig, ax = plt.subplots(figsize=(10, 7))\n",
    "ConfusionMatrixDisplay(test).plot(cmap=\"Blues\", values_format=\"\", ax=ax);\n",
    "plt.title(\"Test Confusion Matrix Before Training\");\n",
    "print(per_class_acc(test))\n",
    "print(acc(test));\n",
    "print(predicted_cls_freq(test))"
   ]
  },
  {
   "cell_type": "code",
   "execution_count": 40,
   "metadata": {},
   "outputs": [
    {
     "name": "stderr",
     "output_type": "stream",
     "text": [
      "/tmp/ipykernel_2446859/4123088172.py:3: RuntimeWarning: invalid value encountered in divide\n",
      "  return np.diag(conf_mat) / conf_mat.sum(axis=1)\n"
     ]
    },
    {
     "name": "stdout",
     "output_type": "stream",
     "text": [
      "accuracy [1.      0.90625     nan 0.90625 0.90625     nan     nan     nan     nan\n",
      " 0.90625]\n",
      "overall accuracy 0.925\n",
      "predicted freq: [0.2     0.19375 0.      0.21875 0.1875  0.      0.      0.      0.\n",
      " 0.2    ]\n"
     ]
    },
    {
     "data": {
      "image/png": "[encoded data removed]",
      "text/plain": [
       "<Figure size 1000x700 with 2 Axes>"
      ]
     },
     "metadata": {},
     "output_type": "display_data"
    }
   ],
   "source": [
    "viz_conf(val, \"val\")"
   ]
  },
  {
   "attachments": {},
   "cell_type": "markdown",
   "metadata": {},
   "source": [
    "## Embedding Visualization"
   ]
  },
  {
   "cell_type": "code",
   "execution_count": null,
   "metadata": {},
   "outputs": [],
   "source": [
    "test_data = receiver.ll_dataset.get_test_dataset(0, kind=\"one\")\n",
    "train_data = receiver.ll_dataset.get_train_dataset(0, kind=\"all\")\n",
    "val_data = receiver.ll_dataset.get_val_dataset(0)\n",
    "\n",
    "X_test = torch.stack([x for x, y in test_data])\n",
    "X_train = torch.stack([x for x, y in train_data])\n",
    "X_val = torch.stack([x for x, y in val_data])\n",
    "\n",
    "y_test = torch.tensor([y for x, y in test_data])\n",
    "y_train = torch.tensor([y for x, y in train_data])\n",
    "y_val = torch.tensor([y for x, y in val_data])"
   ]
  },
  {
   "cell_type": "code",
   "execution_count": null,
   "metadata": {},
   "outputs": [],
   "source": [
    "# softmax\n",
    "with torch.no_grad():\n",
    "    y_test_hat = receiver.model.net(X_test.to(receiver.model.device))\n",
    "    y_val_hat = receiver.model.net(X_val.to(receiver.model.device))"
   ]
  },
  {
   "cell_type": "code",
   "execution_count": null,
   "metadata": {},
   "outputs": [],
   "source": [
    "y_test_pred = torch.argmax(y_test_hat, dim=1)\n",
    "y_val_pred = torch.argmax(y_val_hat, dim=1)"
   ]
  },
  {
   "cell_type": "code",
   "execution_count": null,
   "metadata": {},
   "outputs": [],
   "source": [
    "def sep_incorrect_correct(X, y, y_pred):\n",
    "    # if y_test and y_pred not in the same device, move them to the same device\n",
    "    if y.device != y_pred.device:\n",
    "        y = y.to(y_pred.device)\n",
    "    correct_idx = y_pred == y\n",
    "    incorrect_idx = y_pred != y\n",
    "    correct_X = torch.stack([X[i] for i in range(len(y)) if correct_idx[i]])\n",
    "    correct_y_label = torch.tensor([y[i] for i in range(len(y)) if correct_idx[i]])\n",
    "    incorrect_X = torch.stack([X[i] for i in range(len(y)) if incorrect_idx[i]])\n",
    "    incorrect_y_label = torch.tensor([y[i] for i in range(len(y)) if incorrect_idx[i]])\n",
    "    incorrect_y_pred = torch.tensor([y_pred[i] for i in range(len(y_pred)) if incorrect_idx[i]])\n",
    "    return {\n",
    "        \"correct\": {\"x\": correct_X, \"y\": correct_y_label, \"idx\": correct_idx},\n",
    "        \"incorrect\": {\"x\": incorrect_X, \"y\": incorrect_y_label, \"y_pred\": incorrect_y_pred, \"idx\": incorrect_idx},\n",
    "    }"
   ]
  },
  {
   "cell_type": "code",
   "execution_count": null,
   "metadata": {},
   "outputs": [],
   "source": [
    "val_sep = sep_incorrect_correct(X_val, y_val, y_val_pred)\n",
    "test_sep = sep_incorrect_correct(X_test, y_test, y_test_pred)"
   ]
  },
  {
   "cell_type": "code",
   "execution_count": null,
   "metadata": {},
   "outputs": [],
   "source": [
    "def viz_img_error(sep, num_samples=10):\n",
    "    correct_X = sep[\"correct\"][\"x\"]\n",
    "    correct_y_label = sep[\"correct\"][\"y\"]\n",
    "    incorrect_X = sep[\"incorrect\"][\"x\"]\n",
    "    incorrect_y_label = sep[\"incorrect\"][\"y\"]\n",
    "    incorrect_y_pred = sep[\"incorrect\"][\"y_pred\"]\n",
    "\n",
    "    print(f\"Number of correct samples: {len(correct_X)}\")\n",
    "    print(f\"Number of incorrect samples: {len(incorrect_X)}\")\n",
    "    print(f\"accuracy: {len(correct_X) / (len(correct_X) + len(incorrect_X)):.3f}\")\n",
    "    num_samples = min(num_samples, len(correct_X), len(incorrect_X))\n",
    "    some_correct_idx = random.sample(range(len(correct_X)), num_samples)\n",
    "    some_incorrect_idx = random.sample(range(len(incorrect_X)), num_samples)\n",
    "\n",
    "\n",
    "    # plot the images, labels, and predictions\n",
    "\n",
    "    fig, axes = plt.subplots(2, num_samples, figsize=(30, 5))\n",
    "    for i in range(num_samples):\n",
    "        if len(correct_X) >= num_samples:\n",
    "            axes[0, i].imshow(correct_X[some_correct_idx[i]].squeeze(), cmap=\"gray\")\n",
    "            axes[0, i].set_title(f\"Label: {correct_y_label[some_correct_idx[i]]}, Pred: {correct_y_label[some_correct_idx[i]]}\")\n",
    "        if len(incorrect_X) >= num_samples:\n",
    "            axes[1, i].imshow(incorrect_X[some_incorrect_idx[i]].squeeze(), cmap=\"gray\")\n",
    "            axes[1, i].set_title(f\"Label: {incorrect_y_label[some_incorrect_idx[i]]}, Pred: {incorrect_y_pred[some_incorrect_idx[i]]}\")\n",
    "\n",
    "    plt.tight_layout()\n"
   ]
  },
  {
   "cell_type": "code",
   "execution_count": null,
   "metadata": {},
   "outputs": [],
   "source": [
    "viz_img_error(test_sep)"
   ]
  },
  {
   "cell_type": "code",
   "execution_count": null,
   "metadata": {},
   "outputs": [],
   "source": [
    "viz_img_error(val_sep)"
   ]
  },
  {
   "cell_type": "code",
   "execution_count": null,
   "metadata": {},
   "outputs": [],
   "source": [
    "X_test_val = torch.cat([X_test, X_val])\n",
    "y_test_val = torch.cat([y_test, y_val])\n",
    "receiver_reducer = umap.UMAP(n_neighbors=10, random_state=42)\n",
    "receiver_reducer.fit(to_features(X_test_val))"
   ]
  },
  {
   "cell_type": "code",
   "execution_count": null,
   "metadata": {},
   "outputs": [],
   "source": [
    "def viz_embed(X, y, reducer, y_pred=None, sep=None, small_alpha_cls=None):\n",
    "    # plot the reducer tsne projection with the labels labeled and colored\n",
    "    fig, ax = plt.subplots(figsize=(10, 10))\n",
    "\n",
    "    colors = [\"tab:blue\", \"tab:orange\", \"tab:green\", \"tab:red\", \"tab:purple\", \"tab:brown\", \"tab:pink\", \"tab:gray\", \"tab:olive\", \"tab:cyan\"]\n",
    "    centroids = []\n",
    "\n",
    "    # scatter with labels colored by class\n",
    "    for i in range(10):\n",
    "        test_cls_idx = y == i\n",
    "        color = colors.pop(0)\n",
    "        if test_cls_idx.sum() > 0:\n",
    "            X_test_embed_cls = reducer.transform(to_features(X[test_cls_idx]))\n",
    "\n",
    "            if sep is not None:\n",
    "                X_test_embed_cls_correct = X_test_embed_cls[sep[\"correct\"][\"idx\"][test_cls_idx].to(\"cpu\")]\n",
    "                X_test_embed_cls_incorrect = X_test_embed_cls[sep[\"incorrect\"][\"idx\"][test_cls_idx].to(\"cpu\")]\n",
    "\n",
    "\n",
    "                ax.scatter(X_test_embed_cls_correct[:, 0], X_test_embed_cls_correct[:, 1], c=color, \n",
    "                            marker=\"o\",\n",
    "                            label=f\"Class {i}\",\n",
    "                            alpha=0.1)\n",
    "                \n",
    "                \n",
    "                ax.scatter(X_test_embed_cls_incorrect[:, 0], X_test_embed_cls_incorrect[:, 1], c=color,\n",
    "                                marker=\"x\")\n",
    "                if y_pred is not None:\n",
    "                    # # annotate the incorrect ones with pred/label pair\n",
    "                    for j in range(len(X_test_embed_cls_incorrect)):\n",
    "                        pred = y_pred[sep[\"incorrect\"][\"idx\"].to(\"cpu\") & test_cls_idx][j]\n",
    "                        ax.annotate(f\"{pred}/{i}\",\n",
    "                                    (X_test_embed_cls_incorrect[j, 0], X_test_embed_cls_incorrect[j, 1]),\n",
    "                                    color=\"black\",\n",
    "                                    alpha=0.5)\n",
    "            else:\n",
    "                alpha = 1.0\n",
    "                s=100\n",
    "                if small_alpha_cls is not None and i in small_alpha_cls:\n",
    "                    alpha = 0.1\n",
    "                    s = 10\n",
    "                ax.scatter(\n",
    "                    X_test_embed_cls[:, 0], X_test_embed_cls[:, 1], c=color,\n",
    "                    label=f\"Class {i}\",\n",
    "                    alpha=alpha,\n",
    "                    s=s,\n",
    "                )\n",
    "            \n",
    "\n",
    "    plt.title(\"2D projection\")\n",
    "    leg = ax.legend();\n",
    "    for lh in leg.legendHandles: \n",
    "        lh.set_alpha(1)\n",
    "\n",
    "    plt.tight_layout();"
   ]
  },
  {
   "cell_type": "code",
   "execution_count": null,
   "metadata": {},
   "outputs": [],
   "source": [
    "viz_embed(X_test, y_test, receiver_reducer, sep=test_sep)"
   ]
  },
  {
   "cell_type": "code",
   "execution_count": null,
   "metadata": {},
   "outputs": [],
   "source": [
    "viz_embed(X_val, y_val, receiver_reducer, y_val_pred, sep=val_sep)"
   ]
  },
  {
   "cell_type": "code",
   "execution_count": null,
   "metadata": {},
   "outputs": [],
   "source": [
    "viz_embed(X_test_val, y_test_val, receiver_reducer)"
   ]
  },
  {
   "attachments": {},
   "cell_type": "markdown",
   "metadata": {},
   "source": [
    "## Data Sharing"
   ]
  },
  {
   "cell_type": "code",
   "execution_count": null,
   "metadata": {},
   "outputs": [],
   "source": [
    "# Cheating 1: train directly on the wrongly classified points on the val set\n",
    "\n",
    "# wrong_val_idx = val_sep[\"incorrect\"][\"idx\"].to(\"cpu\")\n",
    "# wrong_val_X = X_val[wrong_val_idx]\n",
    "# wrong_val_y = y_val[wrong_val_idx]\n",
    "\n",
    "wrong_val_X = val_sep[\"incorrect\"][\"x\"]\n",
    "wrong_val_y = val_sep[\"incorrect\"][\"y\"]\n",
    "\n",
    "cheat1 = deepcopy(receiver)\n",
    "print(\"buffer before:\", len(cheat1.buffer))\n",
    "cheat1.buffer.add_data((wrong_val_X, wrong_val_y))\n",
    "print(\"buffer after:\", len(cheat1.buffer))\n",
    "\n",
    "cheat1.learn_from_buffer(ll_time=0, kind=\"all\", metric=\"past_task_val_acc\",\n",
    "    val_before=False, record_name=\"cheat1.csv\")\n",
    "\n",
    "snapshot_conf_mat(cheat1, ll_time=RES_LL_TIME, record_name=\"cheat1\")"
   ]
  },
  {
   "cell_type": "code",
   "execution_count": null,
   "metadata": {},
   "outputs": [],
   "source": [
    "df = pd.read_csv(f\"cheat1.csv\")\n",
    "df.plot(x=\"epoch\", y=[\"train_acc\", \"val_acc\", \"test_acc\"]);\n",
    "print(f\"final val acc: {df['val_acc'].iloc[-1]:.3f} best val acc: {df['val_acc'].max():.3f} @ epoch {df['epoch'][df['val_acc'].idxmax()]}\")\n",
    "print(f\"final test acc: {df['test_acc'].iloc[-1]:.3f} best test acc: {df['test_acc'].max():.3f} @ epoch {df['epoch'][df['test_acc'].idxmax()]}\")\n",
    "print(f\"Train accuracy at best val accuracy: {df['train_acc'][df['val_acc'].idxmax()]:.3f}\")"
   ]
  },
  {
   "cell_type": "code",
   "execution_count": null,
   "metadata": {},
   "outputs": [],
   "source": [
    "cheat1_conf = np.load(f\"cheat1_train_conf_mat_{RES_LL_TIME}.npy\")\n",
    "fig, ax = plt.subplots(figsize=(10, 7))\n",
    "ConfusionMatrixDisplay(cheat1_conf).plot(cmap=\"Blues\", values_format=\"\", ax=ax);\n",
    "plt.title(\"Train Confusion Matrix\");\n",
    "print(per_class_acc(cheat1_conf))\n",
    "print(acc(cheat1_conf));"
   ]
  },
  {
   "cell_type": "code",
   "execution_count": null,
   "metadata": {},
   "outputs": [],
   "source": [
    "cheat1_conf = np.load(f\"cheat1_test_conf_mat_{RES_LL_TIME}.npy\")\n",
    "fig, ax = plt.subplots(figsize=(10, 7))\n",
    "ConfusionMatrixDisplay(cheat1_conf).plot(cmap=\"Blues\", values_format=\"\", ax=ax);\n",
    "plt.title(\"Test Confusion Matrix\");\n",
    "print(per_class_acc(cheat1_conf))\n",
    "print(acc(cheat1_conf));"
   ]
  },
  {
   "cell_type": "code",
   "execution_count": null,
   "metadata": {},
   "outputs": [],
   "source": [
    "cheat1_conf = np.load(f\"cheat1_val_conf_mat_{RES_LL_TIME}.npy\")\n",
    "fig, ax = plt.subplots(figsize=(10, 7))\n",
    "ConfusionMatrixDisplay(cheat1_conf).plot(cmap=\"Blues\", values_format=\"\", ax=ax);\n",
    "plt.title(\"Val Confusion Matrix\");\n",
    "print(per_class_acc(cheat1_conf))\n",
    "print(acc(cheat1_conf));"
   ]
  },
  {
   "cell_type": "code",
   "execution_count": null,
   "metadata": {},
   "outputs": [],
   "source": [
    "# Cheating 2: train directly on the wrongly classified points on the test set (even stronger cheat, lfgggg!)\n",
    "\n",
    "# wrong_test_idx = test_sep[\"incorrect\"][\"idx\"].to(\"cpu\")\n",
    "# wrong_test_X = X_test[wrong_test_idx]\n",
    "# wrong_test_y = y_test[wrong_test_idx]\n",
    "\n",
    "wrong_test_X = test_sep[\"incorrect\"][\"x\"]\n",
    "wrong_test_y = test_sep[\"incorrect\"][\"y\"]\n",
    "\n",
    "cheat2 = deepcopy(receiver)\n",
    "print(\"buffer before:\", len(cheat2.buffer))\n",
    "cheat2.buffer.add_data((wrong_test_X, wrong_test_y))\n",
    "print(\"buffer after:\", len(cheat2.buffer))\n",
    "\n",
    "cheat2.learn_from_buffer(ll_time=0, kind=\"all\", metric=\"past_task_val_acc\",\n",
    "    val_before=False, record_name=\"cheat2.csv\")\n",
    "\n",
    "snapshot_conf_mat(cheat2, ll_time=RES_LL_TIME, record_name=\"cheat2\")"
   ]
  },
  {
   "cell_type": "code",
   "execution_count": null,
   "metadata": {},
   "outputs": [],
   "source": [
    "df = pd.read_csv(f\"cheat2.csv\")\n",
    "df.plot(x=\"epoch\", y=[\"train_acc\", \"val_acc\", \"test_acc\"]);\n",
    "print(f\"final val acc: {df['val_acc'].iloc[-1]:.3f} best val acc: {df['val_acc'].max():.3f} @ epoch {df['epoch'][df['val_acc'].idxmax()]}\")\n",
    "print(f\"final test acc: {df['test_acc'].iloc[-1]:.3f} best test acc: {df['test_acc'].max():.3f} @ epoch {df['epoch'][df['test_acc'].idxmax()]}\")\n",
    "print(f\"Train accuracy at best val accuracy: {df['train_acc'][df['val_acc'].idxmax()]:.3f}\")"
   ]
  },
  {
   "cell_type": "code",
   "execution_count": null,
   "metadata": {},
   "outputs": [],
   "source": [
    "cheat2_conf = np.load(f\"cheat2_train_conf_mat_{RES_LL_TIME}.npy\")\n",
    "fig, ax = plt.subplots(figsize=(10, 7))\n",
    "ConfusionMatrixDisplay(cheat2_conf).plot(cmap=\"Blues\", values_format=\"\", ax=ax);\n",
    "plt.title(\"Train Confusion Matrix\");\n",
    "print(per_class_acc(cheat2_conf))\n",
    "print(acc(cheat2_conf));"
   ]
  },
  {
   "cell_type": "code",
   "execution_count": null,
   "metadata": {},
   "outputs": [],
   "source": [
    "cheat2_conf = np.load(f\"cheat2_test_conf_mat_{RES_LL_TIME}.npy\")\n",
    "fig, ax = plt.subplots(figsize=(10, 7))\n",
    "ConfusionMatrixDisplay(cheat2_conf).plot(cmap=\"Blues\", values_format=\"\", ax=ax);\n",
    "plt.title(\"Test Confusion Matrix\");\n",
    "print(per_class_acc(cheat2_conf))\n",
    "print(acc(cheat2_conf));"
   ]
  },
  {
   "cell_type": "code",
   "execution_count": null,
   "metadata": {},
   "outputs": [],
   "source": [
    "cheat2_conf = np.load(f\"cheat2_val_conf_mat_{RES_LL_TIME}.npy\")\n",
    "fig, ax = plt.subplots(figsize=(10, 7))\n",
    "ConfusionMatrixDisplay(cheat2_conf).plot(cmap=\"Blues\", values_format=\"\", ax=ax);\n",
    "plt.title(\"Val Confusion Matrix\");\n",
    "print(per_class_acc(cheat2_conf))\n",
    "print(acc(cheat2_conf));"
   ]
  },
  {
   "attachments": {},
   "cell_type": "markdown",
   "metadata": {},
   "source": [
    "## Active learning to get more samples"
   ]
  },
  {
   "cell_type": "code",
   "execution_count": 17,
   "metadata": {},
   "outputs": [
    {
     "name": "stdout",
     "output_type": "stream",
     "text": [
      "torch.Size([320, 1, 28, 28])\n"
     ]
    }
   ],
   "source": [
    "sender_data = sender.ll_dataset.get_train_dataset(0, kind=\"all\")\n",
    "\n",
    "# # NOTE: HACK: CHEAT: cheating super hard...\n",
    "# sender_test_data = sender.ll_dataset.get_test_dataset(0, kind=\"all\")\n",
    "# sender_data = torch.utils.data.ConcatDataset([sender_data, sender_test_data])\n",
    "\n",
    "X_sender = torch.stack([x for x, y in sender_data])\n",
    "y_sender = torch.tensor([y for x, y in sender_data])\n",
    "print(X_sender.shape)"
   ]
  },
  {
   "attachments": {},
   "cell_type": "markdown",
   "metadata": {},
   "source": [
    "### Class-performance"
   ]
  },
  {
   "cell_type": "code",
   "execution_count": 18,
   "metadata": {},
   "outputs": [
    {
     "name": "stderr",
     "output_type": "stream",
     "text": [
      "CRITICAL:root:Buffer size: 382 cls distribution (tensor([0, 1, 3, 4, 9]), tensor([126,  64,  64,  64,  64]))\n",
      "CRITICAL:root:Class 0 before 0.925 after 0.9375 len 64 contribution: 0.013513513513513466\n",
      "CRITICAL:root:Buffer size: 384 cls distribution (tensor([0, 1, 2, 3, 4, 9]), tensor([64, 64, 64, 64, 64, 64]))\n",
      "CRITICAL:root:Class 2 before 0.925 after 0.925 len 64 contribution: 0.0\n",
      "CRITICAL:root:Buffer size: 384 cls distribution (tensor([0, 1, 3, 4, 9]), tensor([ 64,  64,  64, 128,  64]))\n",
      "CRITICAL:root:Class 4 before 0.925 after 0.93125 len 64 contribution: 0.006756756756756733\n",
      "CRITICAL:root:Buffer size: 384 cls distribution (tensor([0, 1, 3, 4, 5, 9]), tensor([64, 64, 64, 64, 64, 64]))\n",
      "CRITICAL:root:Class 5 before 0.925 after 0.925 len 64 contribution: 0.0\n",
      "CRITICAL:root:Buffer size: 384 cls distribution (tensor([0, 1, 3, 4, 9]), tensor([ 64,  64,  64,  64, 128]))\n",
      "CRITICAL:root:Class 9 before 0.925 after 0.9375 len 64 contribution: 0.013513513513513466\n"
     ]
    },
    {
     "data": {
      "text/plain": [
       "tensor([0.0135, 0.0135, 0.0135, 0.0135, 0.0135, 0.0135, 0.0135, 0.0135, 0.0135,\n",
       "        0.0135, 0.0135, 0.0135, 0.0135, 0.0135, 0.0135, 0.0135, 0.0135, 0.0135,\n",
       "        0.0135, 0.0135, 0.0135, 0.0135, 0.0135, 0.0135, 0.0135, 0.0135, 0.0135,\n",
       "        0.0135, 0.0135, 0.0135, 0.0135, 0.0135, 0.0135, 0.0135, 0.0135, 0.0135,\n",
       "        0.0135, 0.0135, 0.0135, 0.0135, 0.0135, 0.0135, 0.0135, 0.0135, 0.0135,\n",
       "        0.0135, 0.0135, 0.0135, 0.0135, 0.0135, 0.0135, 0.0135, 0.0135, 0.0135,\n",
       "        0.0135, 0.0135, 0.0135, 0.0135, 0.0135, 0.0135, 0.0135, 0.0135, 0.0135,\n",
       "        0.0135, 0.0068, 0.0068, 0.0068, 0.0068, 0.0068, 0.0068, 0.0068, 0.0068,\n",
       "        0.0068, 0.0068, 0.0068, 0.0068, 0.0068, 0.0068, 0.0068, 0.0068, 0.0068,\n",
       "        0.0068, 0.0068, 0.0068, 0.0068, 0.0068, 0.0068, 0.0068, 0.0068, 0.0068,\n",
       "        0.0068, 0.0068, 0.0068, 0.0068, 0.0068, 0.0068, 0.0068, 0.0068, 0.0068,\n",
       "        0.0068, 0.0068, 0.0068, 0.0068, 0.0068, 0.0068, 0.0068, 0.0068, 0.0068,\n",
       "        0.0068, 0.0068, 0.0068, 0.0068, 0.0068, 0.0068, 0.0068, 0.0068, 0.0068,\n",
       "        0.0068, 0.0068, 0.0068, 0.0068, 0.0068, 0.0068, 0.0068, 0.0068, 0.0068,\n",
       "        0.0068, 0.0068, 0.0135, 0.0135, 0.0135, 0.0135, 0.0135, 0.0135, 0.0135,\n",
       "        0.0135, 0.0135, 0.0135, 0.0135, 0.0135, 0.0135, 0.0135, 0.0135, 0.0135,\n",
       "        0.0135, 0.0135, 0.0135, 0.0135, 0.0135, 0.0135, 0.0135, 0.0135, 0.0135,\n",
       "        0.0135, 0.0135, 0.0135, 0.0135, 0.0135, 0.0135, 0.0135, 0.0135, 0.0135,\n",
       "        0.0135, 0.0135, 0.0135, 0.0135, 0.0135, 0.0135, 0.0135, 0.0135, 0.0135,\n",
       "        0.0135, 0.0135, 0.0135, 0.0135, 0.0135, 0.0135, 0.0135, 0.0135, 0.0135,\n",
       "        0.0135, 0.0135, 0.0135, 0.0135, 0.0135, 0.0135, 0.0135, 0.0135, 0.0135,\n",
       "        0.0135, 0.0135, 0.0135, 0.0000, 0.0000, 0.0000, 0.0000, 0.0000, 0.0000,\n",
       "        0.0000, 0.0000, 0.0000, 0.0000, 0.0000, 0.0000, 0.0000, 0.0000, 0.0000,\n",
       "        0.0000, 0.0000, 0.0000, 0.0000, 0.0000, 0.0000, 0.0000, 0.0000, 0.0000,\n",
       "        0.0000, 0.0000, 0.0000, 0.0000, 0.0000, 0.0000, 0.0000, 0.0000, 0.0000,\n",
       "        0.0000, 0.0000, 0.0000, 0.0000, 0.0000, 0.0000, 0.0000, 0.0000, 0.0000,\n",
       "        0.0000, 0.0000, 0.0000, 0.0000, 0.0000, 0.0000, 0.0000, 0.0000, 0.0000,\n",
       "        0.0000, 0.0000, 0.0000, 0.0000, 0.0000, 0.0000, 0.0000, 0.0000, 0.0000,\n",
       "        0.0000, 0.0000, 0.0000, 0.0000, 0.0000, 0.0000, 0.0000, 0.0000, 0.0000,\n",
       "        0.0000, 0.0000, 0.0000, 0.0000, 0.0000, 0.0000, 0.0000, 0.0000, 0.0000,\n",
       "        0.0000, 0.0000, 0.0000, 0.0000, 0.0000, 0.0000, 0.0000, 0.0000, 0.0000,\n",
       "        0.0000, 0.0000, 0.0000, 0.0000, 0.0000, 0.0000, 0.0000, 0.0000, 0.0000,\n",
       "        0.0000, 0.0000, 0.0000, 0.0000, 0.0000, 0.0000, 0.0000, 0.0000, 0.0000,\n",
       "        0.0000, 0.0000, 0.0000, 0.0000, 0.0000, 0.0000, 0.0000, 0.0000, 0.0000,\n",
       "        0.0000, 0.0000, 0.0000, 0.0000, 0.0000, 0.0000, 0.0000, 0.0000, 0.0000,\n",
       "        0.0000, 0.0000, 0.0000, 0.0000, 0.0000])"
      ]
     },
     "execution_count": 18,
     "metadata": {},
     "output_type": "execute_result"
    }
   ],
   "source": [
    "receiver.data_valuation_class_perf(X_sender, y_sender, ll_time=0)"
   ]
  },
  {
   "cell_type": "code",
   "execution_count": 20,
   "metadata": {},
   "outputs": [],
   "source": [
    "train_cls0, test_cls0, val_cls0 = load_snapshot_conf_mats(\"after_class_0\", RES_LL_TIME)\n",
    "train_cls2, test_cls2, val_cls2 = load_snapshot_conf_mats(\"after_class_2\", RES_LL_TIME)\n",
    "train_cls4, test_cls4, val_cls4 = load_snapshot_conf_mats(\"after_class_4\", RES_LL_TIME)\n",
    "train_cls5, test_cls5, val_cls5 = load_snapshot_conf_mats(\"after_class_5\", RES_LL_TIME)\n",
    "train_cls9, test_cls9, val_cls9 = load_snapshot_conf_mats(\"after_class_9\", RES_LL_TIME)\n"
   ]
  },
  {
   "cell_type": "code",
   "execution_count": 21,
   "metadata": {},
   "outputs": [],
   "source": [
    "# before\n",
    "train_cls0_before, test_cls0_before, val_cls0_before = load_snapshot_conf_mats(\"before_class_0\", RES_LL_TIME)\n",
    "train_cls2_before, test_cls2_before, val_cls2_before = load_snapshot_conf_mats(\"before_class_2\", RES_LL_TIME)\n",
    "train_cls4_before, test_cls4_before, val_cls4_before = load_snapshot_conf_mats(\"before_class_4\", RES_LL_TIME)\n",
    "train_cls5_before, test_cls5_before, val_cls5_before = load_snapshot_conf_mats(\"before_class_5\", RES_LL_TIME)\n",
    "train_cls9_before, test_cls9_before, val_cls9_before = load_snapshot_conf_mats(\"before_class_9\", RES_LL_TIME)"
   ]
  },
  {
   "cell_type": "code",
   "execution_count": 24,
   "metadata": {},
   "outputs": [
    {
     "name": "stderr",
     "output_type": "stream",
     "text": [
      "/tmp/ipykernel_2446859/4123088172.py:3: RuntimeWarning: invalid value encountered in divide\n",
      "  return np.diag(conf_mat) / conf_mat.sum(axis=1)\n"
     ]
    },
    {
     "data": {
      "text/html": [
       "<div>\n",
       "<style scoped>\n",
       "    .dataframe tbody tr th:only-of-type {\n",
       "        vertical-align: middle;\n",
       "    }\n",
       "\n",
       "    .dataframe tbody tr th {\n",
       "        vertical-align: top;\n",
       "    }\n",
       "\n",
       "    .dataframe thead th {\n",
       "        text-align: right;\n",
       "    }\n",
       "</style>\n",
       "<table border=\"1\" class=\"dataframe\">\n",
       "  <thead>\n",
       "    <tr style=\"text-align: right;\">\n",
       "      <th></th>\n",
       "      <th>name</th>\n",
       "      <th>acc</th>\n",
       "      <th>per_class_acc_0</th>\n",
       "      <th>per_class_acc_1</th>\n",
       "      <th>per_class_acc_2</th>\n",
       "      <th>per_class_acc_3</th>\n",
       "      <th>per_class_acc_4</th>\n",
       "      <th>per_class_acc_5</th>\n",
       "      <th>per_class_acc_6</th>\n",
       "      <th>per_class_acc_7</th>\n",
       "      <th>per_class_acc_8</th>\n",
       "      <th>per_class_acc_9</th>\n",
       "    </tr>\n",
       "  </thead>\n",
       "  <tbody>\n",
       "    <tr>\n",
       "      <th>0</th>\n",
       "      <td>0</td>\n",
       "      <td>0.960733</td>\n",
       "      <td>0.968254</td>\n",
       "      <td>0.984375</td>\n",
       "      <td>NaN</td>\n",
       "      <td>1.0</td>\n",
       "      <td>0.953125</td>\n",
       "      <td>NaN</td>\n",
       "      <td>NaN</td>\n",
       "      <td>NaN</td>\n",
       "      <td>NaN</td>\n",
       "      <td>0.890625</td>\n",
       "    </tr>\n",
       "    <tr>\n",
       "      <th>1</th>\n",
       "      <td>2</td>\n",
       "      <td>0.804688</td>\n",
       "      <td>1.000000</td>\n",
       "      <td>0.984375</td>\n",
       "      <td>0.0</td>\n",
       "      <td>1.0</td>\n",
       "      <td>0.953125</td>\n",
       "      <td>NaN</td>\n",
       "      <td>NaN</td>\n",
       "      <td>NaN</td>\n",
       "      <td>NaN</td>\n",
       "      <td>0.890625</td>\n",
       "    </tr>\n",
       "    <tr>\n",
       "      <th>2</th>\n",
       "      <td>4</td>\n",
       "      <td>0.950521</td>\n",
       "      <td>1.000000</td>\n",
       "      <td>0.984375</td>\n",
       "      <td>NaN</td>\n",
       "      <td>1.0</td>\n",
       "      <td>0.914062</td>\n",
       "      <td>NaN</td>\n",
       "      <td>NaN</td>\n",
       "      <td>NaN</td>\n",
       "      <td>NaN</td>\n",
       "      <td>0.890625</td>\n",
       "    </tr>\n",
       "    <tr>\n",
       "      <th>3</th>\n",
       "      <td>5</td>\n",
       "      <td>0.804688</td>\n",
       "      <td>1.000000</td>\n",
       "      <td>0.984375</td>\n",
       "      <td>NaN</td>\n",
       "      <td>1.0</td>\n",
       "      <td>0.953125</td>\n",
       "      <td>0.0</td>\n",
       "      <td>NaN</td>\n",
       "      <td>NaN</td>\n",
       "      <td>NaN</td>\n",
       "      <td>0.890625</td>\n",
       "    </tr>\n",
       "    <tr>\n",
       "      <th>4</th>\n",
       "      <td>9</td>\n",
       "      <td>0.966146</td>\n",
       "      <td>1.000000</td>\n",
       "      <td>0.984375</td>\n",
       "      <td>NaN</td>\n",
       "      <td>1.0</td>\n",
       "      <td>0.953125</td>\n",
       "      <td>NaN</td>\n",
       "      <td>NaN</td>\n",
       "      <td>NaN</td>\n",
       "      <td>NaN</td>\n",
       "      <td>0.929688</td>\n",
       "    </tr>\n",
       "  </tbody>\n",
       "</table>\n",
       "</div>"
      ],
      "text/plain": [
       "  name       acc  per_class_acc_0  per_class_acc_1  per_class_acc_2  \\\n",
       "0    0  0.960733         0.968254         0.984375              NaN   \n",
       "1    2  0.804688         1.000000         0.984375              0.0   \n",
       "2    4  0.950521         1.000000         0.984375              NaN   \n",
       "3    5  0.804688         1.000000         0.984375              NaN   \n",
       "4    9  0.966146         1.000000         0.984375              NaN   \n",
       "\n",
       "   per_class_acc_3  per_class_acc_4  per_class_acc_5  per_class_acc_6  \\\n",
       "0              1.0         0.953125              NaN              NaN   \n",
       "1              1.0         0.953125              NaN              NaN   \n",
       "2              1.0         0.914062              NaN              NaN   \n",
       "3              1.0         0.953125              0.0              NaN   \n",
       "4              1.0         0.953125              NaN              NaN   \n",
       "\n",
       "   per_class_acc_7  per_class_acc_8  per_class_acc_9  \n",
       "0              NaN              NaN         0.890625  \n",
       "1              NaN              NaN         0.890625  \n",
       "2              NaN              NaN         0.890625  \n",
       "3              NaN              NaN         0.890625  \n",
       "4              NaN              NaN         0.929688  "
      ]
     },
     "execution_count": 24,
     "metadata": {},
     "output_type": "execute_result"
    }
   ],
   "source": [
    "df1,_, _ = summarize_confs([train_cls0_before, train_cls2_before, train_cls4_before, train_cls5_before, train_cls9_before],\n",
    "[\"0\", \"2\", \"4\", \"5\", \"9\"])\n",
    "df1"
   ]
  },
  {
   "cell_type": "code",
   "execution_count": 25,
   "metadata": {},
   "outputs": [
    {
     "name": "stderr",
     "output_type": "stream",
     "text": [
      "/tmp/ipykernel_2446859/4123088172.py:3: RuntimeWarning: invalid value encountered in divide\n",
      "  return np.diag(conf_mat) / conf_mat.sum(axis=1)\n"
     ]
    },
    {
     "data": {
      "text/html": [
       "<div>\n",
       "<style scoped>\n",
       "    .dataframe tbody tr th:only-of-type {\n",
       "        vertical-align: middle;\n",
       "    }\n",
       "\n",
       "    .dataframe tbody tr th {\n",
       "        vertical-align: top;\n",
       "    }\n",
       "\n",
       "    .dataframe thead th {\n",
       "        text-align: right;\n",
       "    }\n",
       "</style>\n",
       "<table border=\"1\" class=\"dataframe\">\n",
       "  <thead>\n",
       "    <tr style=\"text-align: right;\">\n",
       "      <th></th>\n",
       "      <th>name</th>\n",
       "      <th>acc</th>\n",
       "      <th>per_class_acc_0</th>\n",
       "      <th>per_class_acc_1</th>\n",
       "      <th>per_class_acc_2</th>\n",
       "      <th>per_class_acc_3</th>\n",
       "      <th>per_class_acc_4</th>\n",
       "      <th>per_class_acc_5</th>\n",
       "      <th>per_class_acc_6</th>\n",
       "      <th>per_class_acc_7</th>\n",
       "      <th>per_class_acc_8</th>\n",
       "      <th>per_class_acc_9</th>\n",
       "    </tr>\n",
       "  </thead>\n",
       "  <tbody>\n",
       "    <tr>\n",
       "      <th>0</th>\n",
       "      <td>0</td>\n",
       "      <td>0.989529</td>\n",
       "      <td>0.992063</td>\n",
       "      <td>1.0</td>\n",
       "      <td>NaN</td>\n",
       "      <td>1.00000</td>\n",
       "      <td>0.984375</td>\n",
       "      <td>NaN</td>\n",
       "      <td>NaN</td>\n",
       "      <td>NaN</td>\n",
       "      <td>NaN</td>\n",
       "      <td>0.968750</td>\n",
       "    </tr>\n",
       "    <tr>\n",
       "      <th>1</th>\n",
       "      <td>2</td>\n",
       "      <td>0.955729</td>\n",
       "      <td>1.000000</td>\n",
       "      <td>1.0</td>\n",
       "      <td>0.875</td>\n",
       "      <td>0.96875</td>\n",
       "      <td>0.953125</td>\n",
       "      <td>NaN</td>\n",
       "      <td>NaN</td>\n",
       "      <td>NaN</td>\n",
       "      <td>NaN</td>\n",
       "      <td>0.937500</td>\n",
       "    </tr>\n",
       "    <tr>\n",
       "      <th>2</th>\n",
       "      <td>4</td>\n",
       "      <td>0.989583</td>\n",
       "      <td>1.000000</td>\n",
       "      <td>1.0</td>\n",
       "      <td>NaN</td>\n",
       "      <td>1.00000</td>\n",
       "      <td>0.992188</td>\n",
       "      <td>NaN</td>\n",
       "      <td>NaN</td>\n",
       "      <td>NaN</td>\n",
       "      <td>NaN</td>\n",
       "      <td>0.953125</td>\n",
       "    </tr>\n",
       "    <tr>\n",
       "      <th>3</th>\n",
       "      <td>5</td>\n",
       "      <td>0.994792</td>\n",
       "      <td>1.000000</td>\n",
       "      <td>1.0</td>\n",
       "      <td>NaN</td>\n",
       "      <td>1.00000</td>\n",
       "      <td>0.984375</td>\n",
       "      <td>1.0</td>\n",
       "      <td>NaN</td>\n",
       "      <td>NaN</td>\n",
       "      <td>NaN</td>\n",
       "      <td>0.984375</td>\n",
       "    </tr>\n",
       "    <tr>\n",
       "      <th>4</th>\n",
       "      <td>9</td>\n",
       "      <td>0.992188</td>\n",
       "      <td>1.000000</td>\n",
       "      <td>1.0</td>\n",
       "      <td>NaN</td>\n",
       "      <td>1.00000</td>\n",
       "      <td>0.984375</td>\n",
       "      <td>NaN</td>\n",
       "      <td>NaN</td>\n",
       "      <td>NaN</td>\n",
       "      <td>NaN</td>\n",
       "      <td>0.984375</td>\n",
       "    </tr>\n",
       "  </tbody>\n",
       "</table>\n",
       "</div>"
      ],
      "text/plain": [
       "  name       acc  per_class_acc_0  per_class_acc_1  per_class_acc_2  \\\n",
       "0    0  0.989529         0.992063              1.0              NaN   \n",
       "1    2  0.955729         1.000000              1.0            0.875   \n",
       "2    4  0.989583         1.000000              1.0              NaN   \n",
       "3    5  0.994792         1.000000              1.0              NaN   \n",
       "4    9  0.992188         1.000000              1.0              NaN   \n",
       "\n",
       "   per_class_acc_3  per_class_acc_4  per_class_acc_5  per_class_acc_6  \\\n",
       "0          1.00000         0.984375              NaN              NaN   \n",
       "1          0.96875         0.953125              NaN              NaN   \n",
       "2          1.00000         0.992188              NaN              NaN   \n",
       "3          1.00000         0.984375              1.0              NaN   \n",
       "4          1.00000         0.984375              NaN              NaN   \n",
       "\n",
       "   per_class_acc_7  per_class_acc_8  per_class_acc_9  \n",
       "0              NaN              NaN         0.968750  \n",
       "1              NaN              NaN         0.937500  \n",
       "2              NaN              NaN         0.953125  \n",
       "3              NaN              NaN         0.984375  \n",
       "4              NaN              NaN         0.984375  "
      ]
     },
     "execution_count": 25,
     "metadata": {},
     "output_type": "execute_result"
    }
   ],
   "source": [
    "df1,_, _ = summarize_confs([train_cls0, train_cls2, train_cls4, train_cls5, train_cls9],\n",
    "[\"0\", \"2\", \"4\", \"5\", \"9\"])\n",
    "df1"
   ]
  },
  {
   "cell_type": "code",
   "execution_count": 27,
   "metadata": {},
   "outputs": [
    {
     "name": "stderr",
     "output_type": "stream",
     "text": [
      "/tmp/ipykernel_2446859/4123088172.py:3: RuntimeWarning: invalid value encountered in divide\n",
      "  return np.diag(conf_mat) / conf_mat.sum(axis=1)\n"
     ]
    },
    {
     "data": {
      "text/html": [
       "<div>\n",
       "<style scoped>\n",
       "    .dataframe tbody tr th:only-of-type {\n",
       "        vertical-align: middle;\n",
       "    }\n",
       "\n",
       "    .dataframe tbody tr th {\n",
       "        vertical-align: top;\n",
       "    }\n",
       "\n",
       "    .dataframe thead th {\n",
       "        text-align: right;\n",
       "    }\n",
       "</style>\n",
       "<table border=\"1\" class=\"dataframe\">\n",
       "  <thead>\n",
       "    <tr style=\"text-align: right;\">\n",
       "      <th></th>\n",
       "      <th>name</th>\n",
       "      <th>acc</th>\n",
       "      <th>per_class_acc_0</th>\n",
       "      <th>per_class_acc_1</th>\n",
       "      <th>per_class_acc_2</th>\n",
       "      <th>per_class_acc_3</th>\n",
       "      <th>per_class_acc_4</th>\n",
       "      <th>per_class_acc_5</th>\n",
       "      <th>per_class_acc_6</th>\n",
       "      <th>per_class_acc_7</th>\n",
       "      <th>per_class_acc_8</th>\n",
       "      <th>per_class_acc_9</th>\n",
       "    </tr>\n",
       "  </thead>\n",
       "  <tbody>\n",
       "    <tr>\n",
       "      <th>0</th>\n",
       "      <td>0</td>\n",
       "      <td>0.940188</td>\n",
       "      <td>0.967347</td>\n",
       "      <td>0.974449</td>\n",
       "      <td>NaN</td>\n",
       "      <td>0.957426</td>\n",
       "      <td>0.892057</td>\n",
       "      <td>NaN</td>\n",
       "      <td>NaN</td>\n",
       "      <td>NaN</td>\n",
       "      <td>NaN</td>\n",
       "      <td>0.904856</td>\n",
       "    </tr>\n",
       "    <tr>\n",
       "      <th>1</th>\n",
       "      <td>2</td>\n",
       "      <td>0.940188</td>\n",
       "      <td>0.967347</td>\n",
       "      <td>0.974449</td>\n",
       "      <td>NaN</td>\n",
       "      <td>0.957426</td>\n",
       "      <td>0.892057</td>\n",
       "      <td>NaN</td>\n",
       "      <td>NaN</td>\n",
       "      <td>NaN</td>\n",
       "      <td>NaN</td>\n",
       "      <td>0.904856</td>\n",
       "    </tr>\n",
       "    <tr>\n",
       "      <th>2</th>\n",
       "      <td>4</td>\n",
       "      <td>0.940188</td>\n",
       "      <td>0.967347</td>\n",
       "      <td>0.974449</td>\n",
       "      <td>NaN</td>\n",
       "      <td>0.957426</td>\n",
       "      <td>0.892057</td>\n",
       "      <td>NaN</td>\n",
       "      <td>NaN</td>\n",
       "      <td>NaN</td>\n",
       "      <td>NaN</td>\n",
       "      <td>0.904856</td>\n",
       "    </tr>\n",
       "    <tr>\n",
       "      <th>3</th>\n",
       "      <td>5</td>\n",
       "      <td>0.940188</td>\n",
       "      <td>0.967347</td>\n",
       "      <td>0.974449</td>\n",
       "      <td>NaN</td>\n",
       "      <td>0.957426</td>\n",
       "      <td>0.892057</td>\n",
       "      <td>NaN</td>\n",
       "      <td>NaN</td>\n",
       "      <td>NaN</td>\n",
       "      <td>NaN</td>\n",
       "      <td>0.904856</td>\n",
       "    </tr>\n",
       "    <tr>\n",
       "      <th>4</th>\n",
       "      <td>9</td>\n",
       "      <td>0.940188</td>\n",
       "      <td>0.967347</td>\n",
       "      <td>0.974449</td>\n",
       "      <td>NaN</td>\n",
       "      <td>0.957426</td>\n",
       "      <td>0.892057</td>\n",
       "      <td>NaN</td>\n",
       "      <td>NaN</td>\n",
       "      <td>NaN</td>\n",
       "      <td>NaN</td>\n",
       "      <td>0.904856</td>\n",
       "    </tr>\n",
       "  </tbody>\n",
       "</table>\n",
       "</div>"
      ],
      "text/plain": [
       "  name       acc  per_class_acc_0  per_class_acc_1  per_class_acc_2  \\\n",
       "0    0  0.940188         0.967347         0.974449              NaN   \n",
       "1    2  0.940188         0.967347         0.974449              NaN   \n",
       "2    4  0.940188         0.967347         0.974449              NaN   \n",
       "3    5  0.940188         0.967347         0.974449              NaN   \n",
       "4    9  0.940188         0.967347         0.974449              NaN   \n",
       "\n",
       "   per_class_acc_3  per_class_acc_4  per_class_acc_5  per_class_acc_6  \\\n",
       "0         0.957426         0.892057              NaN              NaN   \n",
       "1         0.957426         0.892057              NaN              NaN   \n",
       "2         0.957426         0.892057              NaN              NaN   \n",
       "3         0.957426         0.892057              NaN              NaN   \n",
       "4         0.957426         0.892057              NaN              NaN   \n",
       "\n",
       "   per_class_acc_7  per_class_acc_8  per_class_acc_9  \n",
       "0              NaN              NaN         0.904856  \n",
       "1              NaN              NaN         0.904856  \n",
       "2              NaN              NaN         0.904856  \n",
       "3              NaN              NaN         0.904856  \n",
       "4              NaN              NaN         0.904856  "
      ]
     },
     "execution_count": 27,
     "metadata": {},
     "output_type": "execute_result"
    }
   ],
   "source": [
    "df1,_, _ = summarize_confs([test_cls0_before, test_cls2_before, test_cls4_before, test_cls5_before, test_cls9_before],\n",
    "[\"0\", \"2\", \"4\", \"5\", \"9\"])\n",
    "df1"
   ]
  },
  {
   "cell_type": "code",
   "execution_count": 26,
   "metadata": {},
   "outputs": [
    {
     "name": "stderr",
     "output_type": "stream",
     "text": [
      "/tmp/ipykernel_2446859/4123088172.py:3: RuntimeWarning: invalid value encountered in divide\n",
      "  return np.diag(conf_mat) / conf_mat.sum(axis=1)\n"
     ]
    },
    {
     "data": {
      "text/html": [
       "<div>\n",
       "<style scoped>\n",
       "    .dataframe tbody tr th:only-of-type {\n",
       "        vertical-align: middle;\n",
       "    }\n",
       "\n",
       "    .dataframe tbody tr th {\n",
       "        vertical-align: top;\n",
       "    }\n",
       "\n",
       "    .dataframe thead th {\n",
       "        text-align: right;\n",
       "    }\n",
       "</style>\n",
       "<table border=\"1\" class=\"dataframe\">\n",
       "  <thead>\n",
       "    <tr style=\"text-align: right;\">\n",
       "      <th></th>\n",
       "      <th>name</th>\n",
       "      <th>acc</th>\n",
       "      <th>per_class_acc_0</th>\n",
       "      <th>per_class_acc_1</th>\n",
       "      <th>per_class_acc_2</th>\n",
       "      <th>per_class_acc_3</th>\n",
       "      <th>per_class_acc_4</th>\n",
       "      <th>per_class_acc_5</th>\n",
       "      <th>per_class_acc_6</th>\n",
       "      <th>per_class_acc_7</th>\n",
       "      <th>per_class_acc_8</th>\n",
       "      <th>per_class_acc_9</th>\n",
       "    </tr>\n",
       "  </thead>\n",
       "  <tbody>\n",
       "    <tr>\n",
       "      <th>0</th>\n",
       "      <td>0</td>\n",
       "      <td>0.940774</td>\n",
       "      <td>0.988776</td>\n",
       "      <td>0.963877</td>\n",
       "      <td>NaN</td>\n",
       "      <td>0.939604</td>\n",
       "      <td>0.926680</td>\n",
       "      <td>NaN</td>\n",
       "      <td>NaN</td>\n",
       "      <td>NaN</td>\n",
       "      <td>NaN</td>\n",
       "      <td>0.883053</td>\n",
       "    </tr>\n",
       "    <tr>\n",
       "      <th>1</th>\n",
       "      <td>2</td>\n",
       "      <td>0.923964</td>\n",
       "      <td>0.972449</td>\n",
       "      <td>0.984141</td>\n",
       "      <td>NaN</td>\n",
       "      <td>0.872277</td>\n",
       "      <td>0.863544</td>\n",
       "      <td>NaN</td>\n",
       "      <td>NaN</td>\n",
       "      <td>NaN</td>\n",
       "      <td>NaN</td>\n",
       "      <td>0.919722</td>\n",
       "    </tr>\n",
       "    <tr>\n",
       "      <th>2</th>\n",
       "      <td>4</td>\n",
       "      <td>0.945661</td>\n",
       "      <td>0.966327</td>\n",
       "      <td>0.976211</td>\n",
       "      <td>NaN</td>\n",
       "      <td>0.940594</td>\n",
       "      <td>0.953157</td>\n",
       "      <td>NaN</td>\n",
       "      <td>NaN</td>\n",
       "      <td>NaN</td>\n",
       "      <td>NaN</td>\n",
       "      <td>0.888999</td>\n",
       "    </tr>\n",
       "    <tr>\n",
       "      <th>3</th>\n",
       "      <td>5</td>\n",
       "      <td>0.931392</td>\n",
       "      <td>0.970408</td>\n",
       "      <td>0.969163</td>\n",
       "      <td>NaN</td>\n",
       "      <td>0.919802</td>\n",
       "      <td>0.865580</td>\n",
       "      <td>NaN</td>\n",
       "      <td>NaN</td>\n",
       "      <td>NaN</td>\n",
       "      <td>NaN</td>\n",
       "      <td>0.926660</td>\n",
       "    </tr>\n",
       "    <tr>\n",
       "      <th>4</th>\n",
       "      <td>9</td>\n",
       "      <td>0.944683</td>\n",
       "      <td>0.969388</td>\n",
       "      <td>0.968282</td>\n",
       "      <td>NaN</td>\n",
       "      <td>0.942574</td>\n",
       "      <td>0.919552</td>\n",
       "      <td>NaN</td>\n",
       "      <td>NaN</td>\n",
       "      <td>NaN</td>\n",
       "      <td>NaN</td>\n",
       "      <td>0.920714</td>\n",
       "    </tr>\n",
       "  </tbody>\n",
       "</table>\n",
       "</div>"
      ],
      "text/plain": [
       "  name       acc  per_class_acc_0  per_class_acc_1  per_class_acc_2  \\\n",
       "0    0  0.940774         0.988776         0.963877              NaN   \n",
       "1    2  0.923964         0.972449         0.984141              NaN   \n",
       "2    4  0.945661         0.966327         0.976211              NaN   \n",
       "3    5  0.931392         0.970408         0.969163              NaN   \n",
       "4    9  0.944683         0.969388         0.968282              NaN   \n",
       "\n",
       "   per_class_acc_3  per_class_acc_4  per_class_acc_5  per_class_acc_6  \\\n",
       "0         0.939604         0.926680              NaN              NaN   \n",
       "1         0.872277         0.863544              NaN              NaN   \n",
       "2         0.940594         0.953157              NaN              NaN   \n",
       "3         0.919802         0.865580              NaN              NaN   \n",
       "4         0.942574         0.919552              NaN              NaN   \n",
       "\n",
       "   per_class_acc_7  per_class_acc_8  per_class_acc_9  \n",
       "0              NaN              NaN         0.883053  \n",
       "1              NaN              NaN         0.919722  \n",
       "2              NaN              NaN         0.888999  \n",
       "3              NaN              NaN         0.926660  \n",
       "4              NaN              NaN         0.920714  "
      ]
     },
     "execution_count": 26,
     "metadata": {},
     "output_type": "execute_result"
    }
   ],
   "source": [
    "df1,_, _ = summarize_confs([test_cls0, test_cls2, test_cls4, test_cls5, test_cls9],\n",
    "[\"0\", \"2\", \"4\", \"5\", \"9\"])\n",
    "df1"
   ]
  },
  {
   "cell_type": "code",
   "execution_count": 28,
   "metadata": {},
   "outputs": [
    {
     "name": "stderr",
     "output_type": "stream",
     "text": [
      "/tmp/ipykernel_2446859/4123088172.py:3: RuntimeWarning: invalid value encountered in divide\n",
      "  return np.diag(conf_mat) / conf_mat.sum(axis=1)\n"
     ]
    },
    {
     "data": {
      "text/html": [
       "<div>\n",
       "<style scoped>\n",
       "    .dataframe tbody tr th:only-of-type {\n",
       "        vertical-align: middle;\n",
       "    }\n",
       "\n",
       "    .dataframe tbody tr th {\n",
       "        vertical-align: top;\n",
       "    }\n",
       "\n",
       "    .dataframe thead th {\n",
       "        text-align: right;\n",
       "    }\n",
       "</style>\n",
       "<table border=\"1\" class=\"dataframe\">\n",
       "  <thead>\n",
       "    <tr style=\"text-align: right;\">\n",
       "      <th></th>\n",
       "      <th>name</th>\n",
       "      <th>acc</th>\n",
       "      <th>per_class_acc_0</th>\n",
       "      <th>per_class_acc_1</th>\n",
       "      <th>per_class_acc_2</th>\n",
       "      <th>per_class_acc_3</th>\n",
       "      <th>per_class_acc_4</th>\n",
       "      <th>per_class_acc_5</th>\n",
       "      <th>per_class_acc_6</th>\n",
       "      <th>per_class_acc_7</th>\n",
       "      <th>per_class_acc_8</th>\n",
       "      <th>per_class_acc_9</th>\n",
       "    </tr>\n",
       "  </thead>\n",
       "  <tbody>\n",
       "    <tr>\n",
       "      <th>0</th>\n",
       "      <td>0</td>\n",
       "      <td>0.925</td>\n",
       "      <td>1.0</td>\n",
       "      <td>0.90625</td>\n",
       "      <td>NaN</td>\n",
       "      <td>0.90625</td>\n",
       "      <td>0.90625</td>\n",
       "      <td>NaN</td>\n",
       "      <td>NaN</td>\n",
       "      <td>NaN</td>\n",
       "      <td>NaN</td>\n",
       "      <td>0.90625</td>\n",
       "    </tr>\n",
       "    <tr>\n",
       "      <th>1</th>\n",
       "      <td>2</td>\n",
       "      <td>0.925</td>\n",
       "      <td>1.0</td>\n",
       "      <td>0.90625</td>\n",
       "      <td>NaN</td>\n",
       "      <td>0.90625</td>\n",
       "      <td>0.90625</td>\n",
       "      <td>NaN</td>\n",
       "      <td>NaN</td>\n",
       "      <td>NaN</td>\n",
       "      <td>NaN</td>\n",
       "      <td>0.90625</td>\n",
       "    </tr>\n",
       "    <tr>\n",
       "      <th>2</th>\n",
       "      <td>4</td>\n",
       "      <td>0.925</td>\n",
       "      <td>1.0</td>\n",
       "      <td>0.90625</td>\n",
       "      <td>NaN</td>\n",
       "      <td>0.90625</td>\n",
       "      <td>0.90625</td>\n",
       "      <td>NaN</td>\n",
       "      <td>NaN</td>\n",
       "      <td>NaN</td>\n",
       "      <td>NaN</td>\n",
       "      <td>0.90625</td>\n",
       "    </tr>\n",
       "    <tr>\n",
       "      <th>3</th>\n",
       "      <td>5</td>\n",
       "      <td>0.925</td>\n",
       "      <td>1.0</td>\n",
       "      <td>0.90625</td>\n",
       "      <td>NaN</td>\n",
       "      <td>0.90625</td>\n",
       "      <td>0.90625</td>\n",
       "      <td>NaN</td>\n",
       "      <td>NaN</td>\n",
       "      <td>NaN</td>\n",
       "      <td>NaN</td>\n",
       "      <td>0.90625</td>\n",
       "    </tr>\n",
       "    <tr>\n",
       "      <th>4</th>\n",
       "      <td>9</td>\n",
       "      <td>0.925</td>\n",
       "      <td>1.0</td>\n",
       "      <td>0.90625</td>\n",
       "      <td>NaN</td>\n",
       "      <td>0.90625</td>\n",
       "      <td>0.90625</td>\n",
       "      <td>NaN</td>\n",
       "      <td>NaN</td>\n",
       "      <td>NaN</td>\n",
       "      <td>NaN</td>\n",
       "      <td>0.90625</td>\n",
       "    </tr>\n",
       "  </tbody>\n",
       "</table>\n",
       "</div>"
      ],
      "text/plain": [
       "  name    acc  per_class_acc_0  per_class_acc_1  per_class_acc_2  \\\n",
       "0    0  0.925              1.0          0.90625              NaN   \n",
       "1    2  0.925              1.0          0.90625              NaN   \n",
       "2    4  0.925              1.0          0.90625              NaN   \n",
       "3    5  0.925              1.0          0.90625              NaN   \n",
       "4    9  0.925              1.0          0.90625              NaN   \n",
       "\n",
       "   per_class_acc_3  per_class_acc_4  per_class_acc_5  per_class_acc_6  \\\n",
       "0          0.90625          0.90625              NaN              NaN   \n",
       "1          0.90625          0.90625              NaN              NaN   \n",
       "2          0.90625          0.90625              NaN              NaN   \n",
       "3          0.90625          0.90625              NaN              NaN   \n",
       "4          0.90625          0.90625              NaN              NaN   \n",
       "\n",
       "   per_class_acc_7  per_class_acc_8  per_class_acc_9  \n",
       "0              NaN              NaN          0.90625  \n",
       "1              NaN              NaN          0.90625  \n",
       "2              NaN              NaN          0.90625  \n",
       "3              NaN              NaN          0.90625  \n",
       "4              NaN              NaN          0.90625  "
      ]
     },
     "execution_count": 28,
     "metadata": {},
     "output_type": "execute_result"
    }
   ],
   "source": [
    "df1, _, _ = summarize_confs([val_cls0_before, val_cls2_before, val_cls4_before, val_cls5_before, val_cls9_before],\n",
    "[\"0\", \"2\", \"4\", \"5\", \"9\"])\n",
    "df1"
   ]
  },
  {
   "cell_type": "code",
   "execution_count": 34,
   "metadata": {},
   "outputs": [
    {
     "name": "stderr",
     "output_type": "stream",
     "text": [
      "/tmp/ipykernel_2446859/4123088172.py:3: RuntimeWarning: invalid value encountered in divide\n",
      "  return np.diag(conf_mat) / conf_mat.sum(axis=1)\n"
     ]
    },
    {
     "data": {
      "text/html": [
       "<div>\n",
       "<style scoped>\n",
       "    .dataframe tbody tr th:only-of-type {\n",
       "        vertical-align: middle;\n",
       "    }\n",
       "\n",
       "    .dataframe tbody tr th {\n",
       "        vertical-align: top;\n",
       "    }\n",
       "\n",
       "    .dataframe thead th {\n",
       "        text-align: right;\n",
       "    }\n",
       "</style>\n",
       "<table border=\"1\" class=\"dataframe\">\n",
       "  <thead>\n",
       "    <tr style=\"text-align: right;\">\n",
       "      <th></th>\n",
       "      <th>name</th>\n",
       "      <th>acc</th>\n",
       "      <th>per_class_acc_0</th>\n",
       "      <th>per_class_acc_1</th>\n",
       "      <th>per_class_acc_2</th>\n",
       "      <th>per_class_acc_3</th>\n",
       "      <th>per_class_acc_4</th>\n",
       "      <th>per_class_acc_5</th>\n",
       "      <th>per_class_acc_6</th>\n",
       "      <th>per_class_acc_7</th>\n",
       "      <th>per_class_acc_8</th>\n",
       "      <th>per_class_acc_9</th>\n",
       "    </tr>\n",
       "  </thead>\n",
       "  <tbody>\n",
       "    <tr>\n",
       "      <th>0</th>\n",
       "      <td>0</td>\n",
       "      <td>0.93750</td>\n",
       "      <td>1.0</td>\n",
       "      <td>0.93750</td>\n",
       "      <td>NaN</td>\n",
       "      <td>0.90625</td>\n",
       "      <td>0.93750</td>\n",
       "      <td>NaN</td>\n",
       "      <td>NaN</td>\n",
       "      <td>NaN</td>\n",
       "      <td>NaN</td>\n",
       "      <td>0.90625</td>\n",
       "    </tr>\n",
       "    <tr>\n",
       "      <th>1</th>\n",
       "      <td>2</td>\n",
       "      <td>0.92500</td>\n",
       "      <td>1.0</td>\n",
       "      <td>0.90625</td>\n",
       "      <td>NaN</td>\n",
       "      <td>0.87500</td>\n",
       "      <td>0.90625</td>\n",
       "      <td>NaN</td>\n",
       "      <td>NaN</td>\n",
       "      <td>NaN</td>\n",
       "      <td>NaN</td>\n",
       "      <td>0.93750</td>\n",
       "    </tr>\n",
       "    <tr>\n",
       "      <th>2</th>\n",
       "      <td>4</td>\n",
       "      <td>0.93125</td>\n",
       "      <td>1.0</td>\n",
       "      <td>0.90625</td>\n",
       "      <td>NaN</td>\n",
       "      <td>0.87500</td>\n",
       "      <td>0.96875</td>\n",
       "      <td>NaN</td>\n",
       "      <td>NaN</td>\n",
       "      <td>NaN</td>\n",
       "      <td>NaN</td>\n",
       "      <td>0.90625</td>\n",
       "    </tr>\n",
       "    <tr>\n",
       "      <th>3</th>\n",
       "      <td>5</td>\n",
       "      <td>0.92500</td>\n",
       "      <td>1.0</td>\n",
       "      <td>0.90625</td>\n",
       "      <td>NaN</td>\n",
       "      <td>0.90625</td>\n",
       "      <td>0.90625</td>\n",
       "      <td>NaN</td>\n",
       "      <td>NaN</td>\n",
       "      <td>NaN</td>\n",
       "      <td>NaN</td>\n",
       "      <td>0.90625</td>\n",
       "    </tr>\n",
       "    <tr>\n",
       "      <th>4</th>\n",
       "      <td>9</td>\n",
       "      <td>0.93750</td>\n",
       "      <td>1.0</td>\n",
       "      <td>0.90625</td>\n",
       "      <td>NaN</td>\n",
       "      <td>0.90625</td>\n",
       "      <td>0.96875</td>\n",
       "      <td>NaN</td>\n",
       "      <td>NaN</td>\n",
       "      <td>NaN</td>\n",
       "      <td>NaN</td>\n",
       "      <td>0.90625</td>\n",
       "    </tr>\n",
       "  </tbody>\n",
       "</table>\n",
       "</div>"
      ],
      "text/plain": [
       "  name      acc  per_class_acc_0  per_class_acc_1  per_class_acc_2  \\\n",
       "0    0  0.93750              1.0          0.93750              NaN   \n",
       "1    2  0.92500              1.0          0.90625              NaN   \n",
       "2    4  0.93125              1.0          0.90625              NaN   \n",
       "3    5  0.92500              1.0          0.90625              NaN   \n",
       "4    9  0.93750              1.0          0.90625              NaN   \n",
       "\n",
       "   per_class_acc_3  per_class_acc_4  per_class_acc_5  per_class_acc_6  \\\n",
       "0          0.90625          0.93750              NaN              NaN   \n",
       "1          0.87500          0.90625              NaN              NaN   \n",
       "2          0.87500          0.96875              NaN              NaN   \n",
       "3          0.90625          0.90625              NaN              NaN   \n",
       "4          0.90625          0.96875              NaN              NaN   \n",
       "\n",
       "   per_class_acc_7  per_class_acc_8  per_class_acc_9  \n",
       "0              NaN              NaN          0.90625  \n",
       "1              NaN              NaN          0.93750  \n",
       "2              NaN              NaN          0.90625  \n",
       "3              NaN              NaN          0.90625  \n",
       "4              NaN              NaN          0.90625  "
      ]
     },
     "execution_count": 34,
     "metadata": {},
     "output_type": "execute_result"
    },
    {
     "data": {
      "text/html": [
       "<div>\n",
       "<style scoped>\n",
       "    .dataframe tbody tr th:only-of-type {\n",
       "        vertical-align: middle;\n",
       "    }\n",
       "\n",
       "    .dataframe tbody tr th {\n",
       "        vertical-align: top;\n",
       "    }\n",
       "\n",
       "    .dataframe thead th {\n",
       "        text-align: right;\n",
       "    }\n",
       "</style>\n",
       "<table border=\"1\" class=\"dataframe\">\n",
       "  <thead>\n",
       "    <tr style=\"text-align: right;\">\n",
       "      <th></th>\n",
       "      <th>name</th>\n",
       "      <th>predicted_cls_freq_0</th>\n",
       "      <th>predicted_cls_freq_1</th>\n",
       "      <th>predicted_cls_freq_2</th>\n",
       "      <th>predicted_cls_freq_3</th>\n",
       "      <th>predicted_cls_freq_4</th>\n",
       "      <th>predicted_cls_freq_5</th>\n",
       "      <th>predicted_cls_freq_6</th>\n",
       "      <th>predicted_cls_freq_7</th>\n",
       "      <th>predicted_cls_freq_8</th>\n",
       "      <th>predicted_cls_freq_9</th>\n",
       "    </tr>\n",
       "  </thead>\n",
       "  <tbody>\n",
       "    <tr>\n",
       "      <th>0</th>\n",
       "      <td>0</td>\n",
       "      <td>0.2</td>\n",
       "      <td>0.19375</td>\n",
       "      <td>0.0000</td>\n",
       "      <td>0.20625</td>\n",
       "      <td>0.20625</td>\n",
       "      <td>0.00000</td>\n",
       "      <td>0.0</td>\n",
       "      <td>0.0</td>\n",
       "      <td>0.0</td>\n",
       "      <td>0.19375</td>\n",
       "    </tr>\n",
       "    <tr>\n",
       "      <th>1</th>\n",
       "      <td>2</td>\n",
       "      <td>0.2</td>\n",
       "      <td>0.19375</td>\n",
       "      <td>0.0125</td>\n",
       "      <td>0.19375</td>\n",
       "      <td>0.19375</td>\n",
       "      <td>0.00000</td>\n",
       "      <td>0.0</td>\n",
       "      <td>0.0</td>\n",
       "      <td>0.0</td>\n",
       "      <td>0.20625</td>\n",
       "    </tr>\n",
       "    <tr>\n",
       "      <th>2</th>\n",
       "      <td>4</td>\n",
       "      <td>0.2</td>\n",
       "      <td>0.18750</td>\n",
       "      <td>0.0000</td>\n",
       "      <td>0.21250</td>\n",
       "      <td>0.21250</td>\n",
       "      <td>0.00000</td>\n",
       "      <td>0.0</td>\n",
       "      <td>0.0</td>\n",
       "      <td>0.0</td>\n",
       "      <td>0.18750</td>\n",
       "    </tr>\n",
       "    <tr>\n",
       "      <th>3</th>\n",
       "      <td>5</td>\n",
       "      <td>0.2</td>\n",
       "      <td>0.18750</td>\n",
       "      <td>0.0000</td>\n",
       "      <td>0.20000</td>\n",
       "      <td>0.19375</td>\n",
       "      <td>0.00625</td>\n",
       "      <td>0.0</td>\n",
       "      <td>0.0</td>\n",
       "      <td>0.0</td>\n",
       "      <td>0.21250</td>\n",
       "    </tr>\n",
       "    <tr>\n",
       "      <th>4</th>\n",
       "      <td>9</td>\n",
       "      <td>0.2</td>\n",
       "      <td>0.18750</td>\n",
       "      <td>0.0000</td>\n",
       "      <td>0.21250</td>\n",
       "      <td>0.20625</td>\n",
       "      <td>0.00000</td>\n",
       "      <td>0.0</td>\n",
       "      <td>0.0</td>\n",
       "      <td>0.0</td>\n",
       "      <td>0.19375</td>\n",
       "    </tr>\n",
       "  </tbody>\n",
       "</table>\n",
       "</div>"
      ],
      "text/plain": [
       "  name  predicted_cls_freq_0  predicted_cls_freq_1  predicted_cls_freq_2  \\\n",
       "0    0                   0.2               0.19375                0.0000   \n",
       "1    2                   0.2               0.19375                0.0125   \n",
       "2    4                   0.2               0.18750                0.0000   \n",
       "3    5                   0.2               0.18750                0.0000   \n",
       "4    9                   0.2               0.18750                0.0000   \n",
       "\n",
       "   predicted_cls_freq_3  predicted_cls_freq_4  predicted_cls_freq_5  \\\n",
       "0               0.20625               0.20625               0.00000   \n",
       "1               0.19375               0.19375               0.00000   \n",
       "2               0.21250               0.21250               0.00000   \n",
       "3               0.20000               0.19375               0.00625   \n",
       "4               0.21250               0.20625               0.00000   \n",
       "\n",
       "   predicted_cls_freq_6  predicted_cls_freq_7  predicted_cls_freq_8  \\\n",
       "0                   0.0                   0.0                   0.0   \n",
       "1                   0.0                   0.0                   0.0   \n",
       "2                   0.0                   0.0                   0.0   \n",
       "3                   0.0                   0.0                   0.0   \n",
       "4                   0.0                   0.0                   0.0   \n",
       "\n",
       "   predicted_cls_freq_9  \n",
       "0               0.19375  \n",
       "1               0.20625  \n",
       "2               0.18750  \n",
       "3               0.21250  \n",
       "4               0.19375  "
      ]
     },
     "execution_count": 34,
     "metadata": {},
     "output_type": "execute_result"
    }
   ],
   "source": [
    "df1, df2, df3 = summarize_confs([val_cls0, val_cls2, val_cls4, val_cls5, val_cls9],\n",
    "[\"0\", \"2\", \"4\", \"5\", \"9\"])\n",
    "df1\n",
    "df3"
   ]
  },
  {
   "cell_type": "code",
   "execution_count": 39,
   "metadata": {},
   "outputs": [
    {
     "name": "stderr",
     "output_type": "stream",
     "text": [
      "/tmp/ipykernel_2446859/4123088172.py:3: RuntimeWarning: invalid value encountered in divide\n",
      "  return np.diag(conf_mat) / conf_mat.sum(axis=1)\n"
     ]
    },
    {
     "name": "stdout",
     "output_type": "stream",
     "text": [
      "accuracy [1.      0.90625     nan 0.875   0.90625     nan     nan     nan     nan\n",
      " 0.9375 ]\n",
      "overall accuracy 0.925\n",
      "predicted freq: [0.2     0.19375 0.0125  0.19375 0.19375 0.      0.      0.      0.\n",
      " 0.20625]\n"
     ]
    },
    {
     "data": {
      "image/png": "[encoded data removed]",
      "text/plain": [
       "<Figure size 1000x700 with 2 Axes>"
      ]
     },
     "metadata": {},
     "output_type": "display_data"
    }
   ],
   "source": [
    "viz_conf(val_cls2, \"2\")"
   ]
  },
  {
   "cell_type": "code",
   "execution_count": 32,
   "metadata": {},
   "outputs": [
    {
     "data": {
      "text/plain": [
       "<AxesSubplot: xlabel='epoch'>"
      ]
     },
     "execution_count": 32,
     "metadata": {},
     "output_type": "execute_result"
    },
    {
     "name": "stdout",
     "output_type": "stream",
     "text": [
      "final val acc: 0.887 best val acc: 0.925 @ epoch 13\n",
      "final test acc: 0.927 best test acc: 0.931 @ epoch 19\n",
      "Train accuracy at best val accuracy: 0.972\n"
     ]
    },
    {
     "data": {
      "image/png": "[encoded data removed]",
      "text/plain": [
       "<Figure size 640x480 with 1 Axes>"
      ]
     },
     "metadata": {},
     "output_type": "display_data"
    }
   ],
   "source": [
    "df = pd.read_csv(f\"record_cls_eval_0_class_2.csv\")\n",
    "# shortened = df.iloc[15:]\n",
    "shortened = df.iloc[:]\n",
    "shortened.plot(x=\"epoch\", y=[\"train_acc\", \"val_acc\", \"test_acc\"]);\n",
    "print(f\"final val acc: {df['val_acc'].iloc[-1]:.3f} best val acc: {df['val_acc'].max():.3f} @ epoch {df['epoch'][df['val_acc'].idxmax()]}\")\n",
    "print(f\"final test acc: {df['test_acc'].iloc[-1]:.3f} best test acc: {df['test_acc'].max():.3f} @ epoch {df['epoch'][df['test_acc'].idxmax()]}\")\n",
    "print(f\"Train accuracy at best val accuracy: {df['train_acc'][df['val_acc'].idxmax()]:.3f}\")"
   ]
  },
  {
   "cell_type": "code",
   "execution_count": null,
   "metadata": {},
   "outputs": [],
   "source": [
    "df = pd.read_csv(f\"record_cls_eval_0_class_0.csv\")\n",
    "# shortened = df.iloc[15:]\n",
    "shortened = df.iloc[:]\n",
    "shortened.plot(x=\"epoch\", y=[\"train_acc\", \"val_acc\", \"test_acc\"]);\n",
    "print(f\"final val acc: {df['val_acc'].iloc[-1]:.3f} best val acc: {df['val_acc'].max():.3f} @ epoch {df['epoch'][df['val_acc'].idxmax()]}\")\n",
    "print(f\"final test acc: {df['test_acc'].iloc[-1]:.3f} best test acc: {df['test_acc'].max():.3f} @ epoch {df['epoch'][df['test_acc'].idxmax()]}\")\n",
    "print(f\"Train accuracy at best val accuracy: {df['train_acc'][df['val_acc'].idxmax()]:.3f}\")"
   ]
  },
  {
   "cell_type": "code",
   "execution_count": null,
   "metadata": {},
   "outputs": [],
   "source": [
    "\"\"\"\n",
    "Three strategies to rank samples. Scorer assigns a score\n",
    "to each data point (train + val) so the receiver can request such images from the sender \n",
    "\n",
    "- Least confident: prioritize the samples with the lowest confidence (i.e. lowest maximum logits)\n",
    "- Margin sampling: prioritize the samples with the lowest margin (i.e. difference between the two highest logits)\n",
    "- Entropy: prioritize the samples with the highest entropy (i.e. highest entropy of the softmax distribution)\n",
    "\n",
    "\n",
    "Higher score means more valuable to train more on.\n",
    "\"\"\"\n",
    "import torch.nn.functional as F\n",
    "\n",
    "def least_confidence_scorer(X, model):\n",
    "    with torch.no_grad():\n",
    "        logits = model(X)\n",
    "        return -torch.max(logits, dim=1).values\n",
    "\n",
    "def margin_scorer(X, model):\n",
    "    with torch.no_grad():\n",
    "        logits = model(X)\n",
    "        max_logits, _ = torch.max(logits, dim=1)\n",
    "        second_max_logits = torch.topk(logits, k=2, dim=1).values[:, 1]\n",
    "        return -(max_logits - second_max_logits)\n",
    "\n",
    "def entropy_scorer(X, model):\n",
    "    with torch.no_grad():\n",
    "        logits = model(X)\n",
    "        probs = F.softmax(logits, dim=1)\n",
    "        return -torch.sum(probs * torch.log(probs), dim=1)\n"
   ]
  },
  {
   "cell_type": "code",
   "execution_count": null,
   "metadata": {},
   "outputs": [],
   "source": [
    "# NOTE: HACK: CHEAT\n",
    "X_train_val = torch.cat([X_train, X_val]).to(\"cuda\")\n",
    "# X_train_val = torch.cat([X_train, X_val, X_test]).to(\"cuda\")\n",
    "lc_scores = least_confidence_scorer(X_train_val, receiver.model.net)\n",
    "ms_scores = margin_scorer(X_train_val, receiver.model.net)\n",
    "ent_scores = entropy_scorer(X_train_val, receiver.model.net)"
   ]
  },
  {
   "cell_type": "code",
   "execution_count": null,
   "metadata": {},
   "outputs": [],
   "source": [
    "# rank the samples based on various scores\n",
    "lc_rank = torch.argsort(lc_scores, descending=True)\n",
    "ms_rank = torch.argsort(ms_scores, descending=True)\n",
    "ent_rank = torch.argsort(ent_scores, descending=True)"
   ]
  },
  {
   "cell_type": "code",
   "execution_count": null,
   "metadata": {},
   "outputs": [],
   "source": [
    "plt.scatter(lc_scores.cpu(), ms_scores.cpu(), alpha=0.1)\n",
    "plt.ylabel(\"Margin sampling score\")\n",
    "plt.xlabel(\"Least confidence score\")\n",
    "plt.title(\"Least confidence vs Margin sampling scores\");"
   ]
  },
  {
   "cell_type": "code",
   "execution_count": null,
   "metadata": {},
   "outputs": [],
   "source": [
    "# plot the lc_scores and ent_scores (positive correlation)\n",
    "\n",
    "# normalize lc_scores between 0 and 1\n",
    "lc_scores_normed = (lc_scores - lc_scores.min()) / (lc_scores.max() - lc_scores.min())\n",
    "plt.scatter(\n",
    "    lc_scores_normed.cpu(), ent_scores.cpu(), alpha=0.1\n",
    ")\n",
    "plt.ylabel(\"Entropy score\")\n",
    "plt.xlabel(\"Least confidence score\")\n",
    "plt.title(\"Least confidence vs Entropy scores\");"
   ]
  },
  {
   "cell_type": "code",
   "execution_count": null,
   "metadata": {},
   "outputs": [],
   "source": [
    "n_neighbors = 10\n",
    "# rank the samples and choose top k\n",
    "k = 50"
   ]
  },
  {
   "cell_type": "code",
   "execution_count": null,
   "metadata": {},
   "outputs": [],
   "source": [
    "topk_val_wrong = val_sep[\"incorrect\"][\"x\"].to(\"cuda\")\n",
    "topk_val_wrong_y = val_sep[\"incorrect\"][\"y\"].to(\"cuda\")"
   ]
  },
  {
   "cell_type": "code",
   "execution_count": null,
   "metadata": {},
   "outputs": [],
   "source": [
    "topk_lc = X_train_val[lc_rank[:k]]\n",
    "topk_ms = X_train_val[ms_rank[:k]]\n",
    "topk_ent = X_train_val[ent_rank[:k]]\n",
    "\n",
    "# plot the top k samples\n",
    "\n",
    "fig, ax = plt.subplots(4, min(k, 10), figsize=(15, 10))\n",
    "for i in range(min(k, 10)):\n",
    "    ax[0, i].imshow(topk_lc[i].cpu().permute(1, 2, 0), cmap=\"gray\")\n",
    "    ax[0, i].axis(\"off\")\n",
    "    ax[1, i].imshow(topk_ms[i].cpu().permute(1, 2, 0), cmap=\"gray\")\n",
    "    ax[1, i].axis(\"off\")\n",
    "    ax[2, i].imshow(topk_ent[i].cpu().permute(1, 2, 0), cmap=\"gray\")\n",
    "    ax[2, i].axis(\"off\")\n",
    "    ax[3, i].imshow(topk_val_wrong[i].cpu().permute(1, 2, 0), cmap=\"gray\")\n",
    "    ax[3, i].axis(\"off\")\n",
    "\n",
    "ax[0, 0].set_title(\"Least confidence\")\n",
    "ax[1, 0].set_title(\"Margin sampling\")\n",
    "ax[2, 0].set_title(\"Entropy\");\n",
    "ax[3, 0].set_title(\"Wrongly validated\");"
   ]
  },
  {
   "cell_type": "code",
   "execution_count": null,
   "metadata": {},
   "outputs": [],
   "source": [
    "# (not using siamese network). Compute the similarity between images based on clustering stuff.\n",
    "def image_sim(queries, database, reducer, p=2, n_neighbors=10):\n",
    "    query_embed = torch.tensor(reducer.transform(to_features(queries.to(\"cpu\"))))\n",
    "    database_embed = torch.tensor(reducer.transform(to_features(database.to(\"cpu\"))))\n",
    "    dist = torch.cdist(query_embed, database_embed, p=p)\n",
    "    closest_dist, closest_idx = torch.topk(dist, k=n_neighbors, dim=1, largest=False)\n",
    "    return closest_dist, closest_idx"
   ]
  },
  {
   "attachments": {},
   "cell_type": "markdown",
   "metadata": {},
   "source": [
    "## Outlier dection"
   ]
  },
  {
   "cell_type": "code",
   "execution_count": null,
   "metadata": {},
   "outputs": [],
   "source": [
    "X_query_sender = torch.cat([X_sender.to(\"cpu\"), topk_val_wrong.to(\"cpu\")])\n",
    "y_query_sender = torch.cat([y_sender.to(\"cpu\"), topk_val_wrong_y.to(\"cpu\")])"
   ]
  },
  {
   "cell_type": "code",
   "execution_count": null,
   "metadata": {},
   "outputs": [],
   "source": [
    "# X_query_sender = torch.cat([X_sender.to(\"cpu\"), X_test_val.to(\"cpu\")])\n",
    "# y_query_sender = torch.cat([y_sender.to(\"cpu\"), y_test_val.to(\"cpu\")])"
   ]
  },
  {
   "cell_type": "code",
   "execution_count": null,
   "metadata": {},
   "outputs": [],
   "source": [
    "from sklearn.manifold import Isomap\n",
    "from sklearn.manifold import LocallyLinearEmbedding\n",
    "from sklearn.decomposition import PCA\n",
    "\n",
    "sender_reducer = umap.UMAP(n_neighbors=10, random_state=42)\n",
    "# sender_reducer = PCA(n_components=2)\n",
    "# sender_reducer = Isomap(n_jobs=-1)\n",
    "# # sender_reducer = LocallyLinearEmbedding()\n",
    "sender_reducer.fit(to_features(X_sender)) # NOTE: sender_reducer fit on X_sender alone doesn't work well unfortunately...\n",
    "# sender_reducer.fit(to_features(X_query_sender))"
   ]
  },
  {
   "cell_type": "code",
   "execution_count": null,
   "metadata": {},
   "outputs": [],
   "source": [
    "viz_embed(X_sender, y_sender, sender_reducer)"
   ]
  },
  {
   "attachments": {},
   "cell_type": "markdown",
   "metadata": {},
   "source": [
    "## Train on the wrongly validated samples (seeking from other sources as well)"
   ]
  },
  {
   "cell_type": "code",
   "execution_count": null,
   "metadata": {},
   "outputs": [],
   "source": [
    "viz_embed(X_query_sender, y_query_sender, sender_reducer, small_alpha_cls=[0, 2, 4, 5, 9])"
   ]
  },
  {
   "cell_type": "code",
   "execution_count": null,
   "metadata": {},
   "outputs": [],
   "source": [
    "sim_dist_val, sim_idx_val = image_sim(topk_val_wrong, X_sender, sender_reducer, n_neighbors=n_neighbors)"
   ]
  },
  {
   "cell_type": "code",
   "execution_count": null,
   "metadata": {},
   "outputs": [],
   "source": [
    "topk_val_wrong_y"
   ]
  },
  {
   "cell_type": "code",
   "execution_count": null,
   "metadata": {},
   "outputs": [],
   "source": [
    "# plot the query images along with their neighbors according to this metrics\n",
    "# each row start with the query and following by the neighbors\n",
    "\n",
    "fig, ax = plt.subplots(min(k, 10), min(n_neighbors + 1, 10 + 1), figsize=(40, 20))\n",
    "\n",
    "for i in range(min(k, 10)):\n",
    "    ax[i, 0].imshow(topk_val_wrong[i].cpu().permute(1, 2, 0), cmap=\"gray\")\n",
    "    ax[i, 0].axis(\"off\")\n",
    "    for j in range(min(n_neighbors, 10)):\n",
    "        ax[i, j + 1].imshow(\n",
    "            X_sender[sim_idx_val[i, j]].cpu().permute(1, 2, 0), cmap=\"gray\")\n",
    "        # labels it with the distance\n",
    "        # ax[i, j+1].set_title(f\"{sim_dist_val[i, j]:.2f}\")\n",
    "        \n",
    "        ax[i, j + 1].axis(\"off\")\n"
   ]
  },
  {
   "cell_type": "code",
   "execution_count": null,
   "metadata": {},
   "outputs": [],
   "source": [
    "X_add_val = X_sender[sim_idx_val.flatten()]\n",
    "y_add_val = y_sender[sim_idx_val.flatten()]"
   ]
  },
  {
   "cell_type": "code",
   "execution_count": null,
   "metadata": {},
   "outputs": [],
   "source": [
    "X_add_val.shape"
   ]
  },
  {
   "cell_type": "code",
   "execution_count": null,
   "metadata": {},
   "outputs": [],
   "source": [
    "# try to train on this data\n",
    "val_learner = deepcopy(receiver)\n",
    "print(\"buffer before\", len(val_learner.buffer))\n",
    "val_learner.buffer.add_data((X_add_val, y_add_val))\n",
    "print(\"buffer after\", len(val_learner.buffer))\n",
    "\n",
    "val_learner.learn_from_buffer(ll_time=0, kind=\"all\", metric=\"past_task_val_acc\",\n",
    "    val_before=False, record_name=\"val_learner.csv\")\n",
    "\n",
    "# lc_learner.learn_from_buffer(ll_time=0, kind=\"all\", metric=\"past_task_test_acc\",\n",
    "#     val_before=False, record_name=\"lc_learner.csv\")\n",
    "\n",
    "snapshot_conf_mat(val_learner, ll_time=RES_LL_TIME, record_name=\"val_learner\")"
   ]
  },
  {
   "cell_type": "code",
   "execution_count": null,
   "metadata": {},
   "outputs": [],
   "source": [
    "df = pd.read_csv(f\"val_learner.csv\")\n",
    "df.plot(x=\"epoch\", y=[\"train_acc\", \"val_acc\", \"test_acc\"]);\n",
    "print(f\"final val acc: {df['val_acc'].iloc[-1]:.3f} best val acc: {df['val_acc'].max():.3f} @ epoch {df['epoch'][df['val_acc'].idxmax()]}\")\n",
    "print(f\"final test acc: {df['test_acc'].iloc[-1]:.3f} best test acc: {df['test_acc'].max():.3f} @ epoch {df['epoch'][df['test_acc'].idxmax()]}\")\n",
    "print(f\"Train accuracy at best val accuracy: {df['train_acc'][df['val_acc'].idxmax()]:.3f}\")"
   ]
  },
  {
   "cell_type": "code",
   "execution_count": null,
   "metadata": {},
   "outputs": [],
   "source": [
    "val_conf = np.load(f\"val_learner_train_conf_mat_{RES_LL_TIME}.npy\")\n",
    "fig, ax = plt.subplots(figsize=(10, 7))\n",
    "ConfusionMatrixDisplay(val_conf).plot(cmap=\"Blues\", values_format=\"\", ax=ax);\n",
    "plt.title(\"Train Confusion Matrix\");\n",
    "print(per_class_acc(val_conf))\n",
    "print(acc(val_conf));"
   ]
  },
  {
   "cell_type": "code",
   "execution_count": null,
   "metadata": {},
   "outputs": [],
   "source": [
    "val_conf = np.load(f\"val_learner_test_conf_mat_{RES_LL_TIME}.npy\")\n",
    "fig, ax = plt.subplots(figsize=(10, 7))\n",
    "ConfusionMatrixDisplay(val_conf).plot(cmap=\"Blues\", values_format=\"\", ax=ax);\n",
    "plt.title(\"Test Confusion Matrix\");\n",
    "print(per_class_acc(val_conf))\n",
    "print(acc(val_conf));\n",
    "print(predicted_cls_freq(val_conf))"
   ]
  },
  {
   "cell_type": "code",
   "execution_count": null,
   "metadata": {},
   "outputs": [],
   "source": [
    "val_conf = np.load(f\"val_learner_val_conf_mat_{RES_LL_TIME}.npy\")\n",
    "fig, ax = plt.subplots(figsize=(10, 7))\n",
    "ConfusionMatrixDisplay(val_conf).plot(cmap=\"Blues\", values_format=\"\", ax=ax);\n",
    "plt.title(\"Val Confusion Matrix\");\n",
    "print(per_class_acc(val_conf))\n",
    "print(acc(val_conf));\n",
    "print(predicted_cls_freq(val_conf))"
   ]
  },
  {
   "attachments": {},
   "cell_type": "markdown",
   "metadata": {},
   "source": [
    "## Least Confidence"
   ]
  },
  {
   "cell_type": "code",
   "execution_count": null,
   "metadata": {},
   "outputs": [],
   "source": [
    "sim_dist_lc, sim_idx_lc = image_sim(topk_lc, X_sender, reducer, n_neighbors=n_neighbors)"
   ]
  },
  {
   "cell_type": "code",
   "execution_count": null,
   "metadata": {},
   "outputs": [],
   "source": [
    "# plot the query images along with their neighbors according to this metrics\n",
    "# each row start with the query and following by the neighbors\n",
    "\n",
    "fig, ax = plt.subplots(min(k, 10), min(n_neighbors + 1, 10 + 1), figsize=(15, 5))\n",
    "\n",
    "for i in range(min(k, 10)):\n",
    "    ax[i, 0].imshow(topk_lc[i].cpu().permute(1, 2, 0), cmap=\"gray\")\n",
    "    ax[i, 0].axis(\"off\")\n",
    "    for j in range(min(n_neighbors, 10)):\n",
    "        ax[i, j + 1].imshow(\n",
    "            X_sender[sim_idx_lc[i, j]].cpu().permute(1, 2, 0), cmap=\"gray\")\n",
    "        ax[i, j + 1].axis(\"off\")\n"
   ]
  },
  {
   "cell_type": "code",
   "execution_count": null,
   "metadata": {},
   "outputs": [],
   "source": [
    "X_add_lc = X_sender[sim_idx_lc.flatten()]\n",
    "y_add_lc = y_sender[sim_idx_lc.flatten()]"
   ]
  },
  {
   "cell_type": "code",
   "execution_count": null,
   "metadata": {},
   "outputs": [],
   "source": [
    "X_add_lc.shape"
   ]
  },
  {
   "cell_type": "code",
   "execution_count": null,
   "metadata": {},
   "outputs": [],
   "source": [
    "# try to train on this data\n",
    "lc_learner = deepcopy(receiver)\n",
    "print(\"buffer before\", len(lc_learner.buffer))\n",
    "lc_learner.buffer.add_data((X_add_lc, y_add_lc))\n",
    "print(\"buffer after\", len(lc_learner.buffer))\n",
    "\n",
    "lc_learner.learn_from_buffer(ll_time=0, kind=\"all\", metric=\"past_task_val_acc\",\n",
    "    val_before=False, record_name=\"lc_learner.csv\")\n",
    "\n",
    "# lc_learner.learn_from_buffer(ll_time=0, kind=\"all\", metric=\"past_task_test_acc\",\n",
    "#     val_before=False, record_name=\"lc_learner.csv\")\n",
    "\n",
    "snapshot_conf_mat(lc_learner, ll_time=RES_LL_TIME, record_name=\"lc_learner\")"
   ]
  },
  {
   "cell_type": "code",
   "execution_count": null,
   "metadata": {},
   "outputs": [],
   "source": [
    "df = pd.read_csv(f\"lc_learner.csv\")\n",
    "df.plot(x=\"epoch\", y=[\"train_acc\", \"val_acc\", \"test_acc\"]);\n",
    "print(f\"final val acc: {df['val_acc'].iloc[-1]:.3f} best val acc: {df['val_acc'].max():.3f} @ epoch {df['epoch'][df['val_acc'].idxmax()]}\")\n",
    "print(f\"final test acc: {df['test_acc'].iloc[-1]:.3f} best test acc: {df['test_acc'].max():.3f} @ epoch {df['epoch'][df['test_acc'].idxmax()]}\")\n",
    "print(f\"Train accuracy at best val accuracy: {df['train_acc'][df['val_acc'].idxmax()]:.3f}\")"
   ]
  },
  {
   "cell_type": "code",
   "execution_count": null,
   "metadata": {},
   "outputs": [],
   "source": [
    "lc_conf = np.load(f\"lc_learner_train_conf_mat_{RES_LL_TIME}.npy\")\n",
    "fig, ax = plt.subplots(figsize=(10, 7))\n",
    "ConfusionMatrixDisplay(lc_conf).plot(cmap=\"Blues\", values_format=\"\", ax=ax);\n",
    "plt.title(\"Train Confusion Matrix\");\n",
    "print(per_class_acc(lc_conf))\n",
    "print(acc(lc_conf));"
   ]
  },
  {
   "cell_type": "code",
   "execution_count": null,
   "metadata": {},
   "outputs": [],
   "source": [
    "lc_conf = np.load(f\"lc_learner_test_conf_mat_{RES_LL_TIME}.npy\")\n",
    "fig, ax = plt.subplots(figsize=(10, 7))\n",
    "ConfusionMatrixDisplay(lc_conf).plot(cmap=\"Blues\", values_format=\"\", ax=ax);\n",
    "plt.title(\"Test Confusion Matrix\");\n",
    "print(per_class_acc(lc_conf))\n",
    "print(acc(lc_conf));"
   ]
  },
  {
   "cell_type": "code",
   "execution_count": null,
   "metadata": {},
   "outputs": [],
   "source": [
    "lc_conf = np.load(f\"lc_learner_val_conf_mat_{RES_LL_TIME}.npy\")\n",
    "fig, ax = plt.subplots(figsize=(10, 7))\n",
    "ConfusionMatrixDisplay(lc_conf).plot(cmap=\"Blues\", values_format=\"\", ax=ax);\n",
    "plt.title(\"Val Confusion Matrix\");\n",
    "print(per_class_acc(lc_conf))\n",
    "print(acc(lc_conf));"
   ]
  },
  {
   "attachments": {},
   "cell_type": "markdown",
   "metadata": {},
   "source": [
    "## Margin"
   ]
  },
  {
   "cell_type": "code",
   "execution_count": null,
   "metadata": {},
   "outputs": [],
   "source": [
    "sim_dist_ms, sim_idx_ms = image_sim(topk_ms, X_sender, reducer, n_neighbors=n_neighbors)"
   ]
  },
  {
   "cell_type": "code",
   "execution_count": null,
   "metadata": {},
   "outputs": [],
   "source": [
    "# plot the query images along with their neighbors according to this metrics\n",
    "# each row start with the query and following by the neighbors\n",
    "\n",
    "fig, ax = plt.subplots(min(k, 10), min(n_neighbors + 1, 10 + 1), figsize=(15, 5))\n",
    "\n",
    "for i in range(min(k, 10)):\n",
    "    ax[i, 0].imshow(topk_ms[i].cpu().permute(1, 2, 0), cmap=\"gray\")\n",
    "    ax[i, 0].axis(\"off\")\n",
    "    for j in range(min(n_neighbors, 10)):\n",
    "        ax[i, j + 1].imshow(\n",
    "            X_sender[sim_idx_ms[i, j]].cpu().permute(1, 2, 0), cmap=\"gray\")\n",
    "        ax[i, j + 1].axis(\"off\")\n"
   ]
  },
  {
   "cell_type": "code",
   "execution_count": null,
   "metadata": {},
   "outputs": [],
   "source": [
    "X_add_ms = X_sender[sim_idx_lc.flatten()]\n",
    "y_add_ms = y_sender[sim_idx_lc.flatten()]"
   ]
  },
  {
   "cell_type": "code",
   "execution_count": null,
   "metadata": {},
   "outputs": [],
   "source": [
    "X_add_ms.shape"
   ]
  },
  {
   "cell_type": "code",
   "execution_count": null,
   "metadata": {},
   "outputs": [],
   "source": [
    "# try to train on this data\n",
    "ms_learner = deepcopy(receiver)\n",
    "print(\"buffer before\", len(ms_learner.buffer))\n",
    "ms_learner.buffer.add_data((X_add_ms, y_add_ms))\n",
    "print(\"buffer after\", len(ms_learner.buffer))\n",
    "\n",
    "ms_learner.learn_from_buffer(ll_time=0, kind=\"all\", metric=\"past_task_val_acc\",\n",
    "    val_before=False, record_name=\"ms_learner.csv\")\n",
    "\n",
    "# ms_learner.learn_from_buffer(ll_time=0, kind=\"all\", metric=\"past_task_test_acc\",\n",
    "#     val_before=False, record_name=\"ms_learner.csv\")\n",
    "\n",
    "snapshot_conf_mat(ms_learner, ll_time=RES_LL_TIME, record_name=\"ms_learner\")"
   ]
  },
  {
   "cell_type": "code",
   "execution_count": null,
   "metadata": {},
   "outputs": [],
   "source": [
    "df = pd.read_csv(f\"ms_learner.csv\")\n",
    "df.plot(x=\"epoch\", y=[\"train_acc\", \"val_acc\", \"test_acc\"]);\n",
    "print(f\"final val acc: {df['val_acc'].iloc[-1]:.3f} best val acc: {df['val_acc'].max():.3f} @ epoch {df['epoch'][df['val_acc'].idxmax()]}\")\n",
    "print(f\"final test acc: {df['test_acc'].iloc[-1]:.3f} best test acc: {df['test_acc'].max():.3f} @ epoch {df['epoch'][df['test_acc'].idxmax()]}\")\n",
    "print(f\"Train accuracy at best val accuracy: {df['train_acc'][df['val_acc'].idxmax()]:.3f}\")"
   ]
  },
  {
   "cell_type": "code",
   "execution_count": null,
   "metadata": {},
   "outputs": [],
   "source": [
    "ms_conf = np.load(f\"ms_learner_train_conf_mat_{RES_LL_TIME}.npy\")\n",
    "fig, ax = plt.subplots(figsize=(10, 7))\n",
    "ConfusionMatrixDisplay(ms_conf).plot(cmap=\"Blues\", values_format=\"\", ax=ax);\n",
    "plt.title(\"Train Confusion Matrix\");\n",
    "print(per_class_acc(ms_conf))\n",
    "print(acc(ms_conf));"
   ]
  },
  {
   "cell_type": "code",
   "execution_count": null,
   "metadata": {},
   "outputs": [],
   "source": [
    "ms_conf = np.load(f\"ms_learner_test_conf_mat_{RES_LL_TIME}.npy\")\n",
    "fig, ax = plt.subplots(figsize=(10, 7))\n",
    "ConfusionMatrixDisplay(ms_conf).plot(cmap=\"Blues\", values_format=\"\", ax=ax);\n",
    "plt.title(\"Test Confusion Matrix\");\n",
    "print(per_class_acc(ms_conf))\n",
    "print(acc(ms_conf));"
   ]
  },
  {
   "cell_type": "code",
   "execution_count": null,
   "metadata": {},
   "outputs": [],
   "source": [
    "ms_conf = np.load(f\"ms_learner_val_conf_mat_{RES_LL_TIME}.npy\")\n",
    "fig, ax = plt.subplots(figsize=(10, 7))\n",
    "ConfusionMatrixDisplay(ms_conf).plot(cmap=\"Blues\", values_format=\"\", ax=ax);\n",
    "plt.title(\"Val Confusion Matrix\");\n",
    "print(per_class_acc(ms_conf))\n",
    "print(acc(ms_conf));"
   ]
  },
  {
   "attachments": {},
   "cell_type": "markdown",
   "metadata": {},
   "source": [
    "# Entropy"
   ]
  },
  {
   "cell_type": "code",
   "execution_count": null,
   "metadata": {},
   "outputs": [],
   "source": [
    "sim_dist_ent, sim_idx_ent = image_sim(topk_ent, X_sender, reducer, n_neighbors=n_neighbors)"
   ]
  },
  {
   "cell_type": "code",
   "execution_count": null,
   "metadata": {},
   "outputs": [],
   "source": [
    "# plot the query images along with their neighbors according to this metrics\n",
    "# each row start with the query and following by the neighbors\n",
    "\n",
    "fig, ax = plt.subplots(min(k, 10), min(n_neighbors + 1, 10 + 1), figsize=(15, 5))\n",
    "\n",
    "for i in range(min(k, 10)):\n",
    "    ax[i, 0].imshow(topk_ent[i].cpu().permute(1, 2, 0), cmap=\"gray\")\n",
    "    ax[i, 0].axis(\"off\")\n",
    "    for j in range(min(n_neighbors, 10)):\n",
    "        ax[i, j + 1].imshow(\n",
    "            X_sender[sim_idx_ent[i, j]].cpu().permute(1, 2, 0), cmap=\"gray\")\n",
    "        ax[i, j + 1].axis(\"off\")\n"
   ]
  },
  {
   "cell_type": "code",
   "execution_count": null,
   "metadata": {},
   "outputs": [],
   "source": [
    "X_add_ent = X_sender[sim_idx_ent.flatten()]\n",
    "y_add_ent = y_sender[sim_idx_ent.flatten()]"
   ]
  },
  {
   "cell_type": "code",
   "execution_count": null,
   "metadata": {},
   "outputs": [],
   "source": [
    "X_add_ent.shape"
   ]
  },
  {
   "cell_type": "code",
   "execution_count": null,
   "metadata": {},
   "outputs": [],
   "source": [
    "# try to train on this data\n",
    "ent_learner = deepcopy(receiver)\n",
    "print(\"buffer before\", len(ent_learner.buffer))\n",
    "ent_learner.buffer.add_data((X_add_ms, y_add_ms))\n",
    "print(\"buffer after\", len(ent_learner.buffer))\n",
    "\n",
    "ent_learner.learn_from_buffer(ll_time=0, kind=\"all\", metric=\"past_task_val_acc\",\n",
    "    val_before=False, record_name=\"ent_learner.csv\")\n",
    "\n",
    "# ent_learner.learn_from_buffer(ll_time=0, kind=\"all\", metric=\"past_task_test_acc\",\n",
    "#     val_before=False, record_name=\"ent_learner.csv\")\n",
    "\n",
    "snapshot_conf_mat(ent_learner, ll_time=RES_LL_TIME, record_name=\"ent_learner\")"
   ]
  },
  {
   "cell_type": "code",
   "execution_count": null,
   "metadata": {},
   "outputs": [],
   "source": [
    "df = pd.read_csv(f\"ent_learner.csv\")\n",
    "df.plot(x=\"epoch\", y=[\"train_acc\", \"val_acc\", \"test_acc\"]);\n",
    "print(f\"final val acc: {df['val_acc'].iloc[-1]:.3f} best val acc: {df['val_acc'].max():.3f} @ epoch {df['epoch'][df['val_acc'].idxmax()]}\")\n",
    "print(f\"final test acc: {df['test_acc'].iloc[-1]:.3f} best test acc: {df['test_acc'].max():.3f} @ epoch {df['epoch'][df['test_acc'].idxmax()]}\")\n",
    "print(f\"Train accuracy at best val accuracy: {df['train_acc'][df['val_acc'].idxmax()]:.3f}\")"
   ]
  },
  {
   "cell_type": "code",
   "execution_count": null,
   "metadata": {},
   "outputs": [],
   "source": [
    "ent_conf = np.load(f\"ent_learner_train_conf_mat_{RES_LL_TIME}.npy\")\n",
    "fig, ax = plt.subplots(figsize=(10, 7))\n",
    "ConfusionMatrixDisplay(ent_conf).plot(cmap=\"Blues\", values_format=\"\", ax=ax);\n",
    "plt.title(\"Train Confusion Matrix\");\n",
    "print(per_class_acc(ent_conf))\n",
    "print(acc(ent_conf));"
   ]
  },
  {
   "cell_type": "code",
   "execution_count": null,
   "metadata": {},
   "outputs": [],
   "source": [
    "ent_conf = np.load(f\"ent_learner_test_conf_mat_{RES_LL_TIME}.npy\")\n",
    "fig, ax = plt.subplots(figsize=(10, 7))\n",
    "ConfusionMatrixDisplay(ent_conf).plot(cmap=\"Blues\", values_format=\"\", ax=ax);\n",
    "plt.title(\"Test Confusion Matrix\");\n",
    "print(per_class_acc(ent_conf))\n",
    "print(acc(ent_conf));"
   ]
  },
  {
   "cell_type": "code",
   "execution_count": null,
   "metadata": {},
   "outputs": [],
   "source": [
    "ent_conf = np.load(f\"ent_learner_val_conf_mat_{RES_LL_TIME}.npy\")\n",
    "fig, ax = plt.subplots(figsize=(10, 7))\n",
    "ConfusionMatrixDisplay(ent_conf).plot(cmap=\"Blues\", values_format=\"\", ax=ax);\n",
    "plt.title(\"Val Confusion Matrix\");\n",
    "print(per_class_acc(ent_conf))\n",
    "print(acc(ent_conf));"
   ]
  },
  {
   "attachments": {},
   "cell_type": "markdown",
   "metadata": {},
   "source": [
    "## Uninformative (Randomy routing)"
   ]
  },
  {
   "cell_type": "code",
   "execution_count": null,
   "metadata": {},
   "outputs": [],
   "source": [
    "sim_idx_rand = torch.randint(0, len(X_sender), (k, n_neighbors))"
   ]
  },
  {
   "cell_type": "code",
   "execution_count": null,
   "metadata": {},
   "outputs": [],
   "source": [
    "X_add_rand = X_sender[sim_idx_rand.flatten()]\n",
    "y_add_rand = y_sender[sim_idx_rand.flatten()]"
   ]
  },
  {
   "cell_type": "code",
   "execution_count": null,
   "metadata": {},
   "outputs": [],
   "source": [
    "X_add_rand.shape"
   ]
  },
  {
   "cell_type": "code",
   "execution_count": null,
   "metadata": {},
   "outputs": [],
   "source": [
    "# try to train on this data\n",
    "rand_learner = deepcopy(receiver)\n",
    "print(\"buffer before\", len(rand_learner.buffer))\n",
    "rand_learner.buffer.add_data((X_add_rand, y_add_rand))\n",
    "print(\"buffer after\", len(rand_learner.buffer))\n",
    "\n",
    "rand_learner.learn_from_buffer(ll_time=0, kind=\"all\", metric=\"past_task_val_acc\",\n",
    "    val_before=False, record_name=\"rand_learner.csv\")\n",
    "\n",
    "# rand_learner.learn_from_buffer(ll_time=0, kind=\"all\", metric=\"past_task_test_acc\",\n",
    "#     val_before=False, record_name=\"rand_learner.csv\")\n",
    "\n",
    "snapshot_conf_mat(rand_learner, ll_time=RES_LL_TIME, record_name=\"rand_learner\")"
   ]
  },
  {
   "cell_type": "code",
   "execution_count": null,
   "metadata": {},
   "outputs": [],
   "source": [
    "df = pd.read_csv(f\"rand_learner.csv\")\n",
    "df.plot(x=\"epoch\", y=[\"train_acc\", \"val_acc\", \"test_acc\"]);\n",
    "print(f\"final val acc: {df['val_acc'].iloc[-1]:.3f} best val acc: {df['val_acc'].max():.3f} @ epoch {df['epoch'][df['val_acc'].idxmax()]}\")\n",
    "print(f\"final test acc: {df['test_acc'].iloc[-1]:.3f} best test acc: {df['test_acc'].max():.3f} @ epoch {df['epoch'][df['test_acc'].idxmax()]}\")\n",
    "print(f\"Train accuracy at best val accuracy: {df['train_acc'][df['val_acc'].idxmax()]:.3f}\")"
   ]
  },
  {
   "cell_type": "code",
   "execution_count": null,
   "metadata": {},
   "outputs": [],
   "source": [
    "rand_conf = np.load(f\"rand_learner_train_conf_mat_{RES_LL_TIME}.npy\")\n",
    "fig, ax = plt.subplots(figsize=(10, 7))\n",
    "ConfusionMatrixDisplay(rand_conf).plot(cmap=\"Blues\", values_format=\"\", ax=ax);\n",
    "plt.title(\"Train Confusion Matrix\");\n",
    "print(per_class_acc(rand_conf))\n",
    "print(acc(rand_conf));"
   ]
  },
  {
   "cell_type": "code",
   "execution_count": null,
   "metadata": {},
   "outputs": [],
   "source": [
    "rand_conf = np.load(f\"rand_learner_test_conf_mat_{RES_LL_TIME}.npy\")\n",
    "fig, ax = plt.subplots(figsize=(10, 7))\n",
    "ConfusionMatrixDisplay(rand_conf).plot(cmap=\"Blues\", values_format=\"\", ax=ax);\n",
    "plt.title(\"Test Confusion Matrix\");\n",
    "print(per_class_acc(rand_conf))\n",
    "print(acc(rand_conf));"
   ]
  },
  {
   "cell_type": "code",
   "execution_count": null,
   "metadata": {},
   "outputs": [],
   "source": [
    "rand_conf = np.load(f\"rand_learner_val_conf_mat_{RES_LL_TIME}.npy\")\n",
    "fig, ax = plt.subplots(figsize=(10, 7))\n",
    "ConfusionMatrixDisplay(rand_conf).plot(cmap=\"Blues\", values_format=\"\", ax=ax);\n",
    "plt.title(\"Val Confusion Matrix\");\n",
    "print(per_class_acc(rand_conf))\n",
    "print(acc(rand_conf));"
   ]
  }
 ],
 "metadata": {
  "kernelspec": {
   "display_name": "data-sharing",
   "language": "python",
   "name": "python3"
  },
  "language_info": {
   "codemirror_mode": {
    "name": "ipython",
    "version": 3
   },
   "file_extension": ".py",
   "mimetype": "text/x-python",
   "name": "python",
   "nbconvert_exporter": "python",
   "pygments_lexer": "ipython3",
   "version": "3.9.15"
  },
  "orig_nbformat": 4,
  "vscode": {
   "interpreter": {
    "hash": "1ce37e01e4e25dad4acdf5a835a9fd4c67494d5c7616f20984ba493f320ae940"
   }
  }
 },
 "nbformat": 4,
 "nbformat_minor": 2
}
